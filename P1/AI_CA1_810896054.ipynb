{
 "cells": [
  {
   "cell_type": "markdown",
   "id": "apparent-disco",
   "metadata": {},
   "source": [
    "\n",
    "<style>.text_cell .rendered_html * {direction: rtl; text-align: right;}</style>\n",
    "                                    تمرین کامپیوتری ۱ \n",
    "                                      \n",
    "                                     \n",
    "                                       ایندیانا جونز\n",
    "                                        \n",
    "                                        تکتم سمیعی \n",
    "                                         \n",
    "                                         810896054"
   ]
  },
  {
   "cell_type": "markdown",
   "id": "genuine-lecture",
   "metadata": {},
   "source": [
    "\n",
    "<style>.text_cell .rendered_html * {direction: rtl; text-align: right;}</style>\n",
    " .هدف این پروژه حل یک معما به وسیله ی الگوریتم های سرچ در درس هوش مصنوعی است <br/>  \n",
    " در این مسئله باید از نقطه ی شروعی به انتهای انتهایی برویم و در این بین یک سری توپی که در جای نامناسبی قرار گرفته اند را ، سر جای خود قرار دهیم .<br/>\n",
    "  تمام اطلاعات لازم به طور دقیق داده شده اند . "
   ]
  },
  {
   "cell_type": "markdown",
   "id": "right-pontiac",
   "metadata": {},
   "source": [
    "<style>.text_cell .rendered_html * {direction: rtl; text-align: right;}</style>\n",
    "در بخش زیر ، ابتدا نام فایل تکست مورد نظر را وارد کرده سپس اطلاعات لازم را از داخل فایل استخراج میکنیم .<br/>\n",
    "در این قسمت از دستورات اسپلیت لاین و اسپلیت کمک میگیریم و اطلاعات را در تاپل های دوتای ذخیره میکنیم .<br/>\n",
    "به همین صورت نقشه ی مسئله را استخرا میکنیم ."
   ]
  },
  {
   "cell_type": "code",
   "execution_count": 11,
   "id": "french-atmosphere",
   "metadata": {},
   "outputs": [],
   "source": [
    "import math\n",
    "import copy\n",
    "import time\n",
    "from IPython.display import HTML, display\n",
    "# filename = input('Enter a file name: ')\n",
    "f = open('3.txt', \"r\")\n",
    "file = f.read()\n",
    "line = file.splitlines()\n",
    "\n",
    "map_size = line[0].split()\n",
    "map_size = (int(map_size[0]),int(map_size[1]))\n",
    "\n",
    "start_point = line[1].split()\n",
    "start_point = (int(start_point[0]),int(start_point[1]))\n",
    "\n",
    "end_point = line[2].split()\n",
    "end_point = (int(end_point[0]),int(end_point[1]))\n",
    "\n",
    "backpack_size = int(line[3])\n",
    "\n",
    "number_of_balls = int(line[4])\n",
    "\n",
    "\n",
    "\n",
    "mapp=[]\n",
    "position_of_balls = {}\n",
    "if number_of_balls != 0 :\n",
    "    \n",
    "    for i in range(number_of_balls):\n",
    "        temp = line[i+5].split()\n",
    "        position_of_balls[(int(temp[0]),int(temp[1]))]=(int(temp[2]),int(temp[3]))\n",
    "    for i in range( len(line) - (4+number_of_balls+1) ):\n",
    "        mapp.append(line[4+number_of_balls+1+i].split())\n",
    "else :\n",
    "    for i in range(5 , len(line)):\n",
    "        mapp.append(line[i].split())"
   ]
  },
  {
   "cell_type": "markdown",
   "id": "independent-entrepreneur",
   "metadata": {},
   "source": [
    "در این قسمت ، لیستی تحت عنوان استپ داریم که ۴ جهت بالا ، پایین ، چپ و راست را در خود دارد و برای اعمال ۴ جهت جغرافیایی به هر خانه است . در ادامه از این لیست برای پیمایش در نقشه استفاده میکنیم ."
   ]
  },
  {
   "cell_type": "code",
   "execution_count": 8,
   "id": "average-morrison",
   "metadata": {},
   "outputs": [],
   "source": [
    "steps = [  (0,-1),(1,0),(0,1),(-1,0)]"
   ]
  },
  {
   "cell_type": "markdown",
   "id": "widespread-roots",
   "metadata": {},
   "source": [
    "برای شروع ، باید کلاسی تحت عنوان استیت داشته باشیم که در هر آبجکت آن سه دکشنری نگه داشته میشود . دیکشنری بالز نشان دهنده ی توپ های برداشته شده از زمین است . دیکشنری بک پک نشان میدهد چه توپ هایی در کوله پشتی ماست در حال حاضر و در دیکشنری اینسرتت بالز ، توپ های جابه جا شده را نگه میداریم . دو متغیر کاست و پوزیشن هم به ترتیب هزینه ی داده شده تا اینجای مسیر و موقعیت هر استیت در نقشه را نشان میدهد.<br/>\n",
    "توابع ایک و هش را برای برای مشخص کردن پارامتر های مهم برای مساوی گرفتن دو آبجکت مجزا به صورت جدا تعریف کردیم . <br/> .\n",
    "تابع گول چک میکند که اگر پوزیشن استیت با نقطه ی پایان یکی باشد و دیکشنری اینسرتت بالز شامل همه ی توپ های روی زمین باشد ، در این صورت ترو را برمیگرداند که نشان دهنده ی رسیدن به هدف است .<br/>\n",
    "تابع اکسپند نقش اصلی را در این کلاس دارد . وظیفه ی آن چک کردن خانه های اطراف است و اگر میتواسنتیم به خانه ای اطراف برویم ، چک میکند در هرخانه امکان برداشتن توپ یا گذاشتن آن وجود دارد یا نه. سپس لیستی از خانه هایی مه میشد به آن ها رفت رابرمیگرداند . "
   ]
  },
  {
   "cell_type": "code",
   "execution_count": 3,
   "id": "dirty-enforcement",
   "metadata": {},
   "outputs": [],
   "source": [
    "class State :\n",
    "\n",
    "    capacity_of_backpack = backpack_size    \n",
    "\n",
    "    def __init__(self,balls,inserted_balls, position,cost,backpack,parent):\n",
    "\n",
    "        self.balls = balls\n",
    "        self.inserted_balls = inserted_balls\n",
    "        self.position = position\n",
    "        self.cost = cost\n",
    "        self.backpack = backpack\n",
    "        self.parent = parent\n",
    "\n",
    "    def __eq__(self,other):\n",
    "        if (isinstance(other,State)):\n",
    "            return self.position == other.position and self.balls == other.balls  and self.backpack == other.backpack\n",
    "\n",
    "    def __hash__(self):\n",
    "         return hash((str(self.position), str(self.balls)  , str(self.backpack)))\n",
    "\n",
    "\n",
    "    def goal(self,end_point,number_of_balls):\n",
    "        if (self.position == end_point):\n",
    "            if number_of_balls ==0 :\n",
    "                return True\n",
    "            else :\n",
    "                if (len(self.inserted_balls) == number_of_balls):\n",
    "                    return True\n",
    "        return False\n",
    " \n",
    "    def print_parent(self):\n",
    "        print(\"...............position :\" , self.position , \" cost :\" , self.cost)\n",
    "        if self.parent is not None : \n",
    "            return self.parent.print_parent()\n",
    "        else:\n",
    "            return\n",
    "    def expand(self,position_of_balls):\n",
    "        children = []\n",
    "        for i in steps: \n",
    "            new_pos = tuple(map(sum,zip(self.position,i)))\n",
    "            if (new_pos[0] >= 0) and (new_pos[0] <= map_size[0]-1) and (new_pos[1] >= 0) and (new_pos[1] <= map_size[1] -1) :\n",
    "                if mapp[new_pos[0]][new_pos[1]] == \"*\":\n",
    "                    \n",
    "                    continue\n",
    "\n",
    "                elif mapp[new_pos[0]][new_pos[1]] == \"-\":\n",
    "                    BALLS = copy.deepcopy(self.balls)\n",
    "                    INSERTED_BALLS = copy.deepcopy(self.inserted_balls)\n",
    "                    COST = copy.deepcopy(self.cost)\n",
    "                    BACKPACK = copy.deepcopy(self.backpack)\n",
    "                    child = State(BALLS ,INSERTED_BALLS, new_pos ,COST + 1,BACKPACK ,self)\n",
    "                    \n",
    "                    if number_of_balls != 0 :\n",
    "\n",
    "                        if  (len(self.backpack) < State.capacity_of_backpack) and (new_pos in position_of_balls) and (new_pos not in self.balls):\n",
    "                            child.balls[new_pos] = position_of_balls[new_pos]\n",
    "                            child.backpack[new_pos] = position_of_balls[new_pos]\n",
    "                            child.cost += 1\n",
    "                            children.append(child)\n",
    "                            continue\n",
    "\n",
    "                        key_list1 = list(self.backpack.keys())\n",
    "                        val_list1 = list(self.backpack.values())\n",
    "                        key_list2 = list(self.inserted_balls.keys())\n",
    "                        val_list2 = list(self.inserted_balls.values())\n",
    "\n",
    "                        if (new_pos in val_list1) and (new_pos not in val_list2):\n",
    "                            positionn = val_list1.index(new_pos)\n",
    "                            del child.backpack[key_list1[positionn]] \n",
    "                            child.inserted_balls[key_list1[positionn]] = self.balls[key_list1[positionn]]\n",
    "                            children.append(child)\n",
    "                            continue\n",
    "                        else :\n",
    "                            children.append(child)\n",
    "                    else :\n",
    "                        children.append(child)\n",
    "                        continue\n",
    "                            \n",
    "            else :\n",
    "                continue\n",
    "        return children"
   ]
  },
  {
   "cell_type": "markdown",
   "id": "extra-province",
   "metadata": {},
   "source": [
    "در سرچ بی اف اس ، در ابتدا لیستی از فرانتیر نگه میداریم و و همچنین استیت های اکسپلور شده را در دیکشنری اکسپلورد نگه داری میکنیم . سپس یک استیت اولیه با داده های اولیه میسازیم. شرط هدف را برای استیت اولیه صدا میزنیم و در صورت هدف نبودن، استیت اولیه را به فرانتیر اضافه میکنیم و آن را در اکسپلورد ذخیره میکنیم.<br/>\n",
    "در ادامه ، در داخل یک حلقه وایل ، از ابتدای لیست فرانتیر یک استیت پاپ میکنیم و فرزندان آن را با تابع اکسپند به دست میاوریم و شرط هدف را برای تک تک فرزندان تست میکنیم و یکی یکی فرزندان را به داخل فرانتیر اضافه میکنیم . در واقع استیتی که اول وارد میشود ، اول هم خارج میشود . در حقیقت فرانتیر در این الگوریتم مانند صف است یعنی در ابتدا همه ی بچه های یک نود چک میشوند سپس به بررسی لایه دوم فرزندان میرویم ."
   ]
  },
  {
   "cell_type": "code",
   "execution_count": 4,
   "id": "united-satin",
   "metadata": {},
   "outputs": [],
   "source": [
    "def BFS():\n",
    "  \n",
    "    frontier = []\n",
    "    explored = {}\n",
    "    \n",
    "    sstate = State({},{},start_point, 0,{} ,None)\n",
    "    frontCounter = 0\n",
    "  \n",
    "    if sstate.goal(end_point,number_of_balls):\n",
    "        print('len explored : ', len(explored))\n",
    "        print('num of pops from frontier: ', frontCounter)\n",
    "        return sstate.cost\n",
    "    frontier.append(sstate)\n",
    "    explored[sstate.__hash__()] = True\n",
    "    counter = 0\n",
    "    while(True):\n",
    "\n",
    "        if len(frontier) == 0:\n",
    "            print(\"BBBB\")\n",
    "            print('len explored : ', len(explored))\n",
    "            print('num of pops from frontier: ', frontCounter)\n",
    "            return 'failier'\n",
    "    \n",
    "        currentState = frontier.pop(0)\n",
    "        frontCounter += 1\n",
    "    \n",
    "        children = currentState.expand(position_of_balls)\n",
    "    \n",
    "        for i in range(len(children)):\n",
    "            if children[i].__hash__() in explored:\n",
    "                continue\n",
    "        \n",
    "            if children[i].goal(end_point,number_of_balls):\n",
    "                print(\"the child is goal \")\n",
    "                print('len explored : ', len(explored))\n",
    "                print('num of pops from frontier: ', frontCounter)\n",
    "                print(\"children.cost\",children[i].cost)\n",
    "                \n",
    "                children[i].print_parent()\n",
    "                return children[i].cost\n",
    "        \n",
    "            frontier.append(children[i])\n",
    "            explored[children[i].__hash__()] = True\n",
    "\n",
    "    "
   ]
  },
  {
   "cell_type": "code",
   "execution_count": 5,
   "id": "failing-squad",
   "metadata": {},
   "outputs": [
    {
     "name": "stdout",
     "output_type": "stream",
     "text": [
      "the child is goal \n",
      "len explored :  2303\n",
      "num of pops from frontier:  2301\n",
      "children.cost 48\n",
      "...............position : (48, 48)  cost : 48\n",
      "...............position : (47, 48)  cost : 47\n",
      "...............position : (46, 48)  cost : 46\n",
      "...............position : (45, 48)  cost : 45\n",
      "...............position : (44, 48)  cost : 44\n",
      "...............position : (43, 48)  cost : 43\n",
      "...............position : (42, 48)  cost : 42\n",
      "...............position : (41, 48)  cost : 41\n",
      "...............position : (40, 48)  cost : 40\n",
      "...............position : (39, 48)  cost : 39\n",
      "...............position : (38, 48)  cost : 38\n",
      "...............position : (37, 48)  cost : 37\n",
      "...............position : (36, 48)  cost : 36\n",
      "...............position : (35, 48)  cost : 35\n",
      "...............position : (34, 48)  cost : 34\n",
      "...............position : (33, 48)  cost : 33\n",
      "...............position : (32, 48)  cost : 32\n",
      "...............position : (31, 48)  cost : 31\n",
      "...............position : (30, 48)  cost : 30\n",
      "...............position : (29, 48)  cost : 29\n",
      "...............position : (28, 48)  cost : 28\n",
      "...............position : (27, 48)  cost : 27\n",
      "...............position : (26, 48)  cost : 26\n",
      "...............position : (25, 48)  cost : 25\n",
      "...............position : (24, 48)  cost : 24\n",
      "...............position : (24, 47)  cost : 23\n",
      "...............position : (24, 46)  cost : 22\n",
      "...............position : (24, 45)  cost : 21\n",
      "...............position : (24, 44)  cost : 20\n",
      "...............position : (24, 43)  cost : 19\n",
      "...............position : (24, 42)  cost : 18\n",
      "...............position : (24, 41)  cost : 17\n",
      "...............position : (24, 40)  cost : 16\n",
      "...............position : (24, 39)  cost : 15\n",
      "...............position : (24, 38)  cost : 14\n",
      "...............position : (24, 37)  cost : 13\n",
      "...............position : (24, 36)  cost : 12\n",
      "...............position : (24, 35)  cost : 11\n",
      "...............position : (24, 34)  cost : 10\n",
      "...............position : (24, 33)  cost : 9\n",
      "...............position : (24, 32)  cost : 8\n",
      "...............position : (24, 31)  cost : 7\n",
      "...............position : (24, 30)  cost : 6\n",
      "...............position : (24, 29)  cost : 5\n",
      "...............position : (24, 28)  cost : 4\n",
      "...............position : (24, 27)  cost : 3\n",
      "...............position : (24, 26)  cost : 2\n",
      "...............position : (24, 25)  cost : 1\n",
      "...............position : (24, 24)  cost : 0\n",
      "48\n",
      "0.19141674041748047\n"
     ]
    }
   ],
   "source": [
    "\n",
    "tic = time.time()\n",
    "print(BFS())\n",
    "tac = time.time()\n",
    "print(tac - tic)"
   ]
  },
  {
   "cell_type": "markdown",
   "id": "comfortable-appeal",
   "metadata": {},
   "source": [
    "برای نمایش داده های مربوط به هر تست کیس تابع زیر را تعریف میکنیم :"
   ]
  },
  {
   "cell_type": "code",
   "execution_count": 61,
   "id": "wrapped-stevens",
   "metadata": {},
   "outputs": [
    {
     "data": {
      "text/html": [
       "<table><tr><td><h4>  </h4><td><td><h4>cost</h4><td><td><h4>len explored</h4><td><td><h4>num of pops from frontier</h4><td><td><h4>Average runtime</h4><td></tr><tr><td><h4>test 1</h4><td><td><h4>24</h4><td><td><h4>110</h4><td><td><h4>99</h4><td><td><h4>0.5</h4><td></tr><tr><td><h4>test 2</h4><td><td><h4>48</h4><td><td><h4>2303</h4><td><td><h4>2301</h4><td><td><h4>0.18</h4><td></tr><tr><td><h4>test 3</h4><td><td><h4>68</h4><td><td><h4>4508</h4><td><td><h4>4508</h4><td><td><h4>256</h4><td></tr><tr><td><h4>test 4</h4><td><td><h4>92</h4><td><td><h4>456</h4><td><td><h4>456</h4><td><td><h4>0.1</h4><td></tr></table>"
      ],
      "text/plain": [
       "<IPython.core.display.HTML object>"
      ]
     },
     "metadata": {},
     "output_type": "display_data"
    }
   ],
   "source": [
    "def display_table(data):\n",
    "    html = \"<table>\"\n",
    "    for row in data:\n",
    "        html += \"<tr>\"\n",
    "        for field in row:\n",
    "            html += \"<td><h4>%s</h4><td>\"%(field)\n",
    "        html += \"</tr>\"\n",
    "    html += \"</table>\"\n",
    "    display(HTML(html))\n",
    "data = [['  ','cost','len explored','num of pops from frontier','Average runtime'],['test 1',24,110,99,0.5],['test 2',48,2303,2301,0.18],['test 3',68,4508,4508,256],['test 4',92,456,456,0.1]]\n",
    "display_table(data) "
   ]
  },
  {
   "cell_type": "markdown",
   "id": "tamil-emergency",
   "metadata": {},
   "source": [
    "IDS:"
   ]
  },
  {
   "cell_type": "markdown",
   "id": "historical-pearl",
   "metadata": {},
   "source": [
    "در الگوریتم آی دی اس یا آی دی دی اف اس ابتدا هر شاخه راتا عمق مشخص شده بررسی میکنیم سپس در صورت نیافتن هدف در عمق مشخص شده ، به عمق پایین تر میرویم ، یعنی فرزندان به صورت بی اف اس بررسی میکنیم . <br/>\n",
    "در واقع فرانتیر در این الگوریتم یک استک است که هراستیتی که زودتر وارد شود ، دیرتر خارج میشود . البته این تابع به صورت بازگشتی طراحی شده است به گونه ای که تابع دی اف اس را برای عمق مشخصی صدا میزند و اگر به هدف نرسید ،عمق را افزایش میدهد و دوباره تابع بی اف اس را با عمق جدید و اکسپلورد خالی جدید صدا میزند . <br/>\n",
    "در تابع بی اف اس در مرحله شرط هدف را چک میکند ، سپس اگز هدف نبود فرزندان را استخراج میکند و تابع بی اف اس را برای هر فرزند به صورت جدا با عمیق یکی کمتر صدا میزند . ماهیت بازگشتی این تابع به این گونه است که بعد از اتمام سرچ فرزندان یک شاخه ، به بررسی فرزندان قبلی ، به صورت گام به گام میپردازد . \n"
   ]
  },
  {
   "cell_type": "code",
   "execution_count": 12,
   "id": "restricted-signature",
   "metadata": {},
   "outputs": [],
   "source": [
    "def IDDFS():\n",
    "  \n",
    "  d = 1\n",
    "  \n",
    "  sstate = State({},{},start_point, 0,{} ,None)\n",
    "  \n",
    "  while(True):\n",
    "    explored = {}\n",
    "    s = DFS(sstate, d, explored)\n",
    "    \n",
    "    if s != 'failure':\n",
    "        print('len explored: ', len(explored))\n",
    "        s.print_parent()\n",
    "        return s.cost \n",
    "    \n",
    "    d+=1\n",
    "\n",
    "def DFS(state, depth, explored):\n",
    "    if explored.get(state) != None and explored[state] >= depth :\n",
    "        return 'failure'\n",
    "  \n",
    "    explored[state] = depth\n",
    "  \n",
    "    if state.goal(end_point,number_of_balls):\n",
    "        return state\n",
    "    \n",
    "    if depth <= 0:\n",
    "        return 'failure'\n",
    "\n",
    "    children = state.expand(position_of_balls)\n",
    "    for child in children:\n",
    "        res = DFS(child, depth - 1, explored)\n",
    "        if res is not 'failure':\n",
    "            return res\n",
    "    return 'failure'"
   ]
  },
  {
   "cell_type": "code",
   "execution_count": null,
   "id": "wound-reduction",
   "metadata": {},
   "outputs": [],
   "source": [
    "tic = time.time()\n",
    "print(IDDFS())\n",
    "tac = time.time()\n",
    "print(tac - tic)"
   ]
  },
  {
   "cell_type": "code",
   "execution_count": 75,
   "id": "built-summer",
   "metadata": {},
   "outputs": [
    {
     "data": {
      "text/html": [
       "<table><tr><td><h4>  </h4><td><td><h4>cost</h4><td><td><h4>len explored</h4><td><td><h4>Average runtime</h4><td></tr><tr><td><h4>test 1</h4><td><td><h4>24</h4><td><td><h4>91</h4><td><td><h4>0.26</h4><td></tr><tr><td><h4>test 2</h4><td><td><h4>48</h4><td><td><h4>624</h4><td><td><h4>25</h4><td></tr><tr><td><h4>test 3</h4><td><td><h4>68</h4><td><td><h4>4508</h4><td><td><h4>256</h4><td></tr><tr><td><h4>test 4</h4><td><td><h4>92</h4><td><td><h4>315</h4><td><td><h4>5</h4><td></tr></table>"
      ],
      "text/plain": [
       "<IPython.core.display.HTML object>"
      ]
     },
     "metadata": {},
     "output_type": "display_data"
    }
   ],
   "source": [
    "data = [['  ','cost','len explored','Average runtime'],['test 1',24,91,0.26],['test 2',48,624,25],['test 3',68,4508,256],['test 4',92,315,5]]\n",
    "display_table(data) "
   ]
  },
  {
   "cell_type": "markdown",
   "id": "capable-schema",
   "metadata": {},
   "source": [
    "A* :"
   ]
  },
  {
   "cell_type": "markdown",
   "id": "graphic-characterization",
   "metadata": {},
   "source": [
    "دو تابع هیوریستیک به صورت زیر تعریف میکنیم :<br/>\n",
    "تابع اول :<br/>\n",
    "این تابع به این صورت است که ابتدا شرط خالی بودن کوله پشتی را چک میکند ، در صورت خالی بودن ان فقط فاصله ی منهتن پوزیشن استیت با پوزیشن مقصد را محاسبه میکند . در صورت خالی نبودن کوله پشتی، فاصله ی پوزیشن استیت با مقصد هر توپی که داخل کوله پشتی است به علاوه ی فاصله ی استیت با هر توپی که روی زمین است و باید برداشته شود را محاسبه میکند . "
   ]
  },
  {
   "cell_type": "code",
   "execution_count": 77,
   "id": "eleven-comparative",
   "metadata": {},
   "outputs": [],
   "source": [
    "def heuristic1(state):\n",
    "    if (len(state.inserted_balls) == number_of_balls):\n",
    "        h =  (abs(state.position[0] - end_point[0]) + abs(state.position[1] - end_point[1]))\n",
    "        return h\n",
    "    else :\n",
    "        h = 0 \n",
    "        for ball in position_of_balls:\n",
    "            if ball in state.backpack :\n",
    "                 h += (abs(state.position[0]-state.backpack[ball][0])+abs(state.position[1]-state.backpack[ball][1]))\n",
    "            else :\n",
    "                h += (abs (ball[0]-position_of_balls[ball][0]) + abs (ball[1]-position_of_balls[ball][1]))\n",
    "        return h          "
   ]
  },
  {
   "cell_type": "markdown",
   "id": "written-reality",
   "metadata": {},
   "source": [
    "تابع دوم : <br/>\n",
    "در این تابع به صورت ساده فقط فاصله ی منهتن پوزیشن استیت با نقطه ی مقصد بررسی میشود ."
   ]
  },
  {
   "cell_type": "code",
   "execution_count": 89,
   "id": "formal-dryer",
   "metadata": {},
   "outputs": [],
   "source": [
    "def heuristic2(state):\n",
    "#     print(\"&&&& state.position[0] \",state.position[0] , \"^^^^^^^ state.position[1] \", state.position[1])\n",
    "    h = (abs(state.position[0] - end_point[0]) + abs(state.position[1] - end_point[1]))\n",
    "#     print(\"hhhh   \", h)\n",
    "    return h"
   ]
  },
  {
   "cell_type": "markdown",
   "id": "uniform-greenhouse",
   "metadata": {},
   "source": [
    "تابع ای استار همانند بی اف اس عمل میکند با این تفاوت که قبل از پاپ کردن استیت از فرانتیر، برای چک کردن فرزندانش ، استیتی پاپ میشود که مجموع تابع هیوریستیک و کاست کمتری داشته باشد . برای اینکار ، در هر دور از حلقه ی وایل ، بر روی تمام استیت های ذخیره شده در فرانیتر ، این مجموع را محاسبه میکنیم و در دیکشنری اف نگه میداریم ، سپس مینینم این مقدار را میابیم و اندیس آن را از لیست فرانتیر پاپ میکنیم .<br/>\n",
    "ادامه ی مسیر مانند بی اف اس است ."
   ]
  },
  {
   "cell_type": "code",
   "execution_count": 97,
   "id": "perfect-nancy",
   "metadata": {},
   "outputs": [],
   "source": [
    "def aStar():\n",
    "    frontier = []\n",
    "    explored = {}\n",
    "  \n",
    "    frontCounter = 0\n",
    "    sstate = State({},{},start_point, 0,{} ,None)\n",
    "  \n",
    "    if sstate.goal(end_point,number_of_balls):\n",
    "        print('len explored : ', len(explored))\n",
    "        print('num of pops from frontier: ', frontCounter)\n",
    "        return sstate.cost\n",
    "\n",
    "    frontier.append(sstate)\n",
    "    explored[sstate.__hash__()] = True\n",
    "  \n",
    "    while(True):\n",
    "    \n",
    "        if len(frontier) == 0:\n",
    "            print('len explored : ', len(explored))\n",
    "            print('num of pops from frontier: ', frontCounter)\n",
    "            return 'failier'\n",
    "    \n",
    "        f = {}\n",
    "        for i in range(len(frontier)):\n",
    "            f[i] = (heuristic2(frontier[i]) + frontier[i].cost)\n",
    "            \n",
    "        currentState = frontier.pop(min(f, key=f.get))\n",
    "        frontCounter += 1\n",
    "        children = currentState.expand(position_of_balls)\n",
    "    \n",
    "        for i in range(len(children)):\n",
    "            if children[i].__hash__() in explored:\n",
    "                continue\n",
    "                \n",
    "            if children[i].goal(end_point,number_of_balls):\n",
    "                print('len explored : ', len(explored))\n",
    "                print('num of pops from frontier: ', frontCounter)\n",
    "                return children[i].cost\n",
    "        \n",
    "            frontier.append(children[i])\n",
    "            explored[children[i].__hash__()] = True"
   ]
  },
  {
   "cell_type": "code",
   "execution_count": 99,
   "id": "defined-michael",
   "metadata": {},
   "outputs": [
    {
     "name": "stdout",
     "output_type": "stream",
     "text": [
      "len explored :  110\n",
      "num of pops from frontier:  98\n",
      "24\n",
      "0.02207207679748535\n"
     ]
    }
   ],
   "source": [
    "tic = time.time()\n",
    "print(aStar())\n",
    "tac = time.time()\n",
    "print(tac - tic)"
   ]
  },
  {
   "cell_type": "code",
   "execution_count": 100,
   "id": "reflected-construction",
   "metadata": {},
   "outputs": [
    {
     "data": {
      "text/html": [
       "<table><tr><td><h4>\"heuristic1\"</h4><td><td><h4>cost</h4><td><td><h4>len explored</h4><td><td><h4>num of pops from frontier</h4><td><td><h4>Average runtime</h4><td></tr><tr><td><h4>test 1</h4><td><td><h4>24</h4><td><td><h4>85</h4><td><td><h4>74</h4><td><td><h4>0.02</h4><td></tr><tr><td><h4>test 2</h4><td><td><h4>48</h4><td><td><h4>674</h4><td><td><h4>623</h4><td><td><h4>0.1</h4><td></tr><tr><td><h4>test 3</h4><td><td><h4>68</h4><td><td><h4>4508</h4><td><td><h4>4508</h4><td><td><h4>256</h4><td></tr><tr><td><h4>test 4</h4><td><td><h4>92</h4><td><td><h4>456</h4><td><td><h4>456</h4><td><td><h4>0.033</h4><td></tr></table>"
      ],
      "text/plain": [
       "<IPython.core.display.HTML object>"
      ]
     },
     "metadata": {},
     "output_type": "display_data"
    },
    {
     "data": {
      "text/html": [
       "<table><tr><td><h4>\"heuristic2\"</h4><td><td><h4>cost</h4><td><td><h4>len explored</h4><td><td><h4>num of pops from frontier</h4><td><td><h4>Average runtime</h4><td></tr><tr><td><h4>test 1</h4><td><td><h4>24</h4><td><td><h4>110</h4><td><td><h4>98</h4><td><td><h4>0.025</h4><td></tr><tr><td><h4>test 2</h4><td><td><h4>48</h4><td><td><h4>674</h4><td><td><h4>623</h4><td><td><h4>0.1</h4><td></tr><tr><td><h4>test 3</h4><td><td><h4>68</h4><td><td><h4>4508</h4><td><td><h4>4508</h4><td><td><h4>256</h4><td></tr><tr><td><h4>test 4</h4><td><td><h4>92</h4><td><td><h4>456</h4><td><td><h4>456</h4><td><td><h4>0.031</h4><td></tr></table>"
      ],
      "text/plain": [
       "<IPython.core.display.HTML object>"
      ]
     },
     "metadata": {},
     "output_type": "display_data"
    }
   ],
   "source": [
    "data = [['\"heuristic1\"','cost','len explored','num of pops from frontier','Average runtime'],['test 1',24,85, 74,0.02],['test 2',48,674,623,0.10],['test 3',68,4508,4508,256],['test 4',92,456,456,0.033]]\n",
    "display_table(data) \n",
    "data2 = [['\"heuristic2\"','cost','len explored','num of pops from frontier','Average runtime'],['test 1',24,110, 98,0.025],['test 2',48,674,623,0.10],['test 3',68,4508,4508,256],['test 4',92,456,456,0.031]]\n",
    "display_table(data2) "
   ]
  },
  {
   "cell_type": "markdown",
   "id": "trained-support",
   "metadata": {},
   "source": [
    "همان طور که از نتایج مشاهده میکنید ، تعداد استیت های دیده شده به صورت چشمگیری نسبت به الگوریتم های قبلی کاهش مییابند ولی زمان ران برنامه ها تغییر محسوسی نمیابد ."
   ]
  },
  {
   "cell_type": "markdown",
   "id": "appreciated-stuff",
   "metadata": {},
   "source": [
    "Weighted A* :\n"
   ]
  },
  {
   "cell_type": "markdown",
   "id": "capable-blind",
   "metadata": {},
   "source": [
    "در این الگوریتم ، دو تابه هیوریستیک رادر پارامتر الفا که بزرگ تر از یک است  ، ضرب مکنیم . اینکار باعث سرعت بخشیدن به پیدا کردن پاسخ میشود ولی امکان دارد دیگر تایع ما ادمیسبل نباشد نباشد ، یعنی مقدار هزینه ی تخمین زده شده ، از مقدار واقعی بیشتر باشد .<br/>\n",
    "به ازای دو الفای مختلف این تابع را تست میکنیم :\n",
    "در تابع اول ، مقدار اچ به دست آمده را در ۳ و در تابع دوم در ۲ ضرب میکنیم ."
   ]
  },
  {
   "cell_type": "code",
   "execution_count": 117,
   "id": "unsigned-hartford",
   "metadata": {},
   "outputs": [],
   "source": [
    "def heuristic1_(state):\n",
    "    if (len(state.inserted_balls) == number_of_balls):\n",
    "        h =  (abs(state.position[0] - end_point[0]) + abs(state.position[1] - end_point[1]))\n",
    "        return h\n",
    "    else :\n",
    "        h = 0 \n",
    "        for ball in position_of_balls:\n",
    "            if ball in state.backpack :\n",
    "                 h += (abs(state.position[0]-state.backpack[ball][0])+abs(state.position[1]-state.backpack[ball][1]))\n",
    "            else :\n",
    "                h += (abs (ball[0]-position_of_balls[ball][0]) + abs (ball[1]-position_of_balls[ball][1]))\n",
    "        return 3*h "
   ]
  },
  {
   "cell_type": "code",
   "execution_count": 123,
   "id": "considered-prince",
   "metadata": {},
   "outputs": [],
   "source": [
    "def heuristic2_(state):\n",
    "#     print(\"&&&& state.position[0] \",state.position[0] , \"^^^^^^^ state.position[1] \", state.position[1])\n",
    "    h = (abs(state.position[0] - end_point[0]) + abs(state.position[1] - end_point[1]))\n",
    "#     print(\"hhhh   \", h)\n",
    "    return 2*h"
   ]
  },
  {
   "cell_type": "code",
   "execution_count": 136,
   "id": "photographic-listing",
   "metadata": {},
   "outputs": [],
   "source": [
    "def weighted_aStar():\n",
    "    frontier = []\n",
    "    explored = {}\n",
    "  \n",
    "    frontCounter = 0\n",
    "    sstate = State({},{},start_point, 0,{} ,None)\n",
    "  \n",
    "    if sstate.goal(end_point,number_of_balls):\n",
    "        print('len explored : ', len(explored))\n",
    "        print('num of pops from frontier: ', frontCounter)\n",
    "        return sstate.cost\n",
    "\n",
    "    frontier.append(sstate)\n",
    "    explored[sstate.__hash__()] = True\n",
    "  \n",
    "    while(True):\n",
    "    \n",
    "        if len(frontier) == 0:\n",
    "            print('len explored : ', len(explored))\n",
    "            print('num of pops from frontier: ', frontCounter)\n",
    "            return 'failier'\n",
    "    \n",
    "        f = {}\n",
    "        for i in range(len(frontier)):\n",
    "            f[i] = (heuristic1_(frontier[i]) + frontier[i].cost)\n",
    "            \n",
    "        currentState = frontier.pop(min(f, key=f.get))\n",
    "        frontCounter += 1\n",
    "        children = currentState.expand(position_of_balls)\n",
    "    \n",
    "        for i in range(len(children)):\n",
    "            if children[i].__hash__() in explored:\n",
    "                continue\n",
    "                \n",
    "            if children[i].goal(end_point,number_of_balls):\n",
    "                print('len explored : ', len(explored))\n",
    "                print('num of pops from frontier: ', frontCounter)\n",
    "                return children[i].cost\n",
    "        \n",
    "            frontier.append(children[i])\n",
    "            explored[children[i].__hash__()] = True"
   ]
  },
  {
   "cell_type": "code",
   "execution_count": 138,
   "id": "functioning-dominant",
   "metadata": {},
   "outputs": [
    {
     "name": "stdout",
     "output_type": "stream",
     "text": [
      "len explored :  456\n",
      "num of pops from frontier:  456\n",
      "92\n",
      "0.033033132553100586\n"
     ]
    }
   ],
   "source": [
    "tic = time.time()\n",
    "print(weighted_aStar())\n",
    "tac = time.time()\n",
    "print(tac - tic)"
   ]
  },
  {
   "cell_type": "code",
   "execution_count": 139,
   "id": "established-startup",
   "metadata": {},
   "outputs": [
    {
     "data": {
      "text/html": [
       "<table><tr><td><h4>\"heuristic1_\"</h4><td><td><h4>cost</h4><td><td><h4>len explored</h4><td><td><h4>num of pops from frontier</h4><td><td><h4>Average runtime</h4><td></tr><tr><td><h4>test 1</h4><td><td><h4>24</h4><td><td><h4>79</h4><td><td><h4>66</h4><td><td><h4>0.013</h4><td></tr><tr><td><h4>test 2</h4><td><td><h4>48</h4><td><td><h4>674</h4><td><td><h4>623</h4><td><td><h4>0.13</h4><td></tr><tr><td><h4>test 3</h4><td><td><h4>68</h4><td><td><h4>4508</h4><td><td><h4>4508</h4><td><td><h4>256</h4><td></tr><tr><td><h4>test 4</h4><td><td><h4>92</h4><td><td><h4>456</h4><td><td><h4>456</h4><td><td><h4>0.033</h4><td></tr></table>"
      ],
      "text/plain": [
       "<IPython.core.display.HTML object>"
      ]
     },
     "metadata": {},
     "output_type": "display_data"
    },
    {
     "data": {
      "text/html": [
       "<table><tr><td><h4>\"heuristic2_\"</h4><td><td><h4>cost</h4><td><td><h4>len explored</h4><td><td><h4>num of pops from frontier</h4><td><td><h4>Average runtime</h4><td></tr><tr><td><h4>test 1</h4><td><td><h4>24</h4><td><td><h4>109</h4><td><td><h4>102</h4><td><td><h4>0.023</h4><td></tr><tr><td><h4>test 2</h4><td><td><h4>48</h4><td><td><h4>120</h4><td><td><h4>48</h4><td><td><h4>0.006</h4><td></tr><tr><td><h4>test 3</h4><td><td><h4>68</h4><td><td><h4>4508</h4><td><td><h4>4508</h4><td><td><h4>256</h4><td></tr><tr><td><h4>test 4</h4><td><td><h4>92</h4><td><td><h4>306</h4><td><td><h4>299</h4><td><td><h4>0.021</h4><td></tr></table>"
      ],
      "text/plain": [
       "<IPython.core.display.HTML object>"
      ]
     },
     "metadata": {},
     "output_type": "display_data"
    }
   ],
   "source": [
    "data = [['\"heuristic1_\"','cost','len explored','num of pops from frontier','Average runtime'],['test 1',24,79, 66,0.013],['test 2',48,674,623,0.13],['test 3',68,4508,4508,256],['test 4',92,456,456,0.033]]\n",
    "display_table(data) \n",
    "data2 = [['\"heuristic2_\"','cost','len explored','num of pops from frontier','Average runtime'],['test 1',24,109, 102,0.023],['test 2',48,120,48,0.006],['test 3',68,4508,4508,256],['test 4',92,306,299,0.021]]\n",
    "display_table(data2) "
   ]
  },
  {
   "cell_type": "markdown",
   "id": "gothic-sociology",
   "metadata": {},
   "source": [
    "همانطور که مشاهده تاثیر تایع هیوریستیک دوم در تست ۲ بسیار محسوس است چون ایت تست هیچ گویی ندارد .و همچنین به صورت کلی نسبت به الگوریتم ای استار تعداد استیت ها و زمان ران کاهش یافته است . "
   ]
  },
  {
   "cell_type": "markdown",
   "id": "obvious-runner",
   "metadata": {},
   "source": [
    "نتیجه گیری :\n",
    "در این تمرین الگوریتم های سرچ مختلف را بررسی کردیم . با توجه به نتایج ،الگوریتم های سرچ آگاهانه با هزینه کمتری و در مدت زمان کوتاه تری مارا به پاسخ هدایت میکنند ، به شرط تعریف درست و منطقی توابع هیوریستیک. در صورت پیچیدگی بالای توابع هیوریستیک ، زمان ران برنامه افزایش میابد . "
   ]
  },
  {
   "cell_type": "code",
   "execution_count": null,
   "id": "limited-specific",
   "metadata": {},
   "outputs": [],
   "source": []
  }
 ],
 "metadata": {
  "kernelspec": {
   "display_name": "Python 3",
   "language": "python",
   "name": "python3"
  },
  "language_info": {
   "codemirror_mode": {
    "name": "ipython",
    "version": 3
   },
   "file_extension": ".py",
   "mimetype": "text/x-python",
   "name": "python",
   "nbconvert_exporter": "python",
   "pygments_lexer": "ipython3",
   "version": "3.7.7"
  }
 },
 "nbformat": 4,
 "nbformat_minor": 5
}
