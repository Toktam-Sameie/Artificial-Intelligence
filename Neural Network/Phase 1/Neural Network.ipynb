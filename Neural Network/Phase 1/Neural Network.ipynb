{
 "cells": [
  {
   "cell_type": "markdown",
   "metadata": {},
   "source": [
    "<h1 style = \"font-size: 30px; text-align: center;\">Artificial Intelligence</h1>\n",
    "<h1 style = \"font-size: 30px; text-align: center;\">CA 5 - Phase 1</h1>\n",
    "<h2 style = \"font-size: 25px; text-align: center;\"> Neural Network </h2>\n",
    "<h2 style = \"font-size: 25px; text-align: center; color: #666\">Name: Toktam Sameie</h2>\n",
    "<h2 style = \"font-size: 25px; text-align: center; color: #666\">Student Id: 810896054</h2>\n",
    "<h4 style=\"text-align: center\">Spring 1400</h4>"
   ]
  },
  {
   "cell_type": "markdown",
   "metadata": {},
   "source": [
    "<h1 style = \"font-size: 35px; text-align: center;color: #235\">Phase 1 </h1>"
   ]
  },
  {
   "cell_type": "markdown",
   "metadata": {},
   "source": [
    "<h1 style = \"font-size: 20px ;color: #479\">In this part , I'm going to load the data and  randomly show a sample of every 20 classes . </h1>"
   ]
  },
  {
   "cell_type": "code",
   "execution_count": 1,
   "metadata": {},
   "outputs": [],
   "source": [
    "import pandas as pd\n",
    "import numpy as np\n",
    "import random\n",
    "import matplotlib.pyplot as plt"
   ]
  },
  {
   "cell_type": "code",
   "execution_count": 2,
   "metadata": {},
   "outputs": [],
   "source": [
    "train_images = pd.read_csv(\"train_images.csv\")\n",
    "train_images.drop('Unnamed: 0', inplace=True, axis=1)\n",
    "train_labels = pd.read_csv(\"train_labels.csv\")\n",
    "train_labels.drop('Unnamed: 0', inplace=True, axis=1)\n",
    "train_labels.columns = ['Y']"
   ]
  },
  {
   "cell_type": "code",
   "execution_count": 115,
   "metadata": {},
   "outputs": [
    {
     "data": {
      "text/html": [
       "<div>\n",
       "<style scoped>\n",
       "    .dataframe tbody tr th:only-of-type {\n",
       "        vertical-align: middle;\n",
       "    }\n",
       "\n",
       "    .dataframe tbody tr th {\n",
       "        vertical-align: top;\n",
       "    }\n",
       "\n",
       "    .dataframe thead th {\n",
       "        text-align: right;\n",
       "    }\n",
       "</style>\n",
       "<table border=\"1\" class=\"dataframe\">\n",
       "  <thead>\n",
       "    <tr style=\"text-align: right;\">\n",
       "      <th></th>\n",
       "      <th>0</th>\n",
       "      <th>1</th>\n",
       "      <th>2</th>\n",
       "      <th>3</th>\n",
       "      <th>4</th>\n",
       "      <th>5</th>\n",
       "      <th>6</th>\n",
       "      <th>7</th>\n",
       "      <th>8</th>\n",
       "      <th>9</th>\n",
       "      <th>...</th>\n",
       "      <th>774</th>\n",
       "      <th>775</th>\n",
       "      <th>776</th>\n",
       "      <th>777</th>\n",
       "      <th>778</th>\n",
       "      <th>779</th>\n",
       "      <th>780</th>\n",
       "      <th>781</th>\n",
       "      <th>782</th>\n",
       "      <th>783</th>\n",
       "    </tr>\n",
       "  </thead>\n",
       "  <tbody>\n",
       "    <tr>\n",
       "      <th>0</th>\n",
       "      <td>0.00000</td>\n",
       "      <td>0.000000</td>\n",
       "      <td>0.000000</td>\n",
       "      <td>0.000000</td>\n",
       "      <td>0.000000</td>\n",
       "      <td>0.000000</td>\n",
       "      <td>0.0</td>\n",
       "      <td>0.0</td>\n",
       "      <td>0.000000</td>\n",
       "      <td>0.000000</td>\n",
       "      <td>...</td>\n",
       "      <td>0.043137</td>\n",
       "      <td>0.011765</td>\n",
       "      <td>0.043137</td>\n",
       "      <td>0.007843</td>\n",
       "      <td>0.0</td>\n",
       "      <td>0.0</td>\n",
       "      <td>0.0</td>\n",
       "      <td>0.0</td>\n",
       "      <td>0.0</td>\n",
       "      <td>0.0</td>\n",
       "    </tr>\n",
       "    <tr>\n",
       "      <th>1</th>\n",
       "      <td>0.00000</td>\n",
       "      <td>0.000000</td>\n",
       "      <td>0.000000</td>\n",
       "      <td>0.000000</td>\n",
       "      <td>0.000000</td>\n",
       "      <td>0.000000</td>\n",
       "      <td>0.0</td>\n",
       "      <td>0.0</td>\n",
       "      <td>0.000000</td>\n",
       "      <td>0.000000</td>\n",
       "      <td>...</td>\n",
       "      <td>0.000000</td>\n",
       "      <td>0.090196</td>\n",
       "      <td>0.647059</td>\n",
       "      <td>0.141176</td>\n",
       "      <td>0.0</td>\n",
       "      <td>0.0</td>\n",
       "      <td>0.0</td>\n",
       "      <td>0.0</td>\n",
       "      <td>0.0</td>\n",
       "      <td>0.0</td>\n",
       "    </tr>\n",
       "    <tr>\n",
       "      <th>2</th>\n",
       "      <td>0.00000</td>\n",
       "      <td>0.000000</td>\n",
       "      <td>0.000000</td>\n",
       "      <td>0.000000</td>\n",
       "      <td>0.000000</td>\n",
       "      <td>0.000000</td>\n",
       "      <td>0.0</td>\n",
       "      <td>0.0</td>\n",
       "      <td>0.000000</td>\n",
       "      <td>0.000000</td>\n",
       "      <td>...</td>\n",
       "      <td>0.000000</td>\n",
       "      <td>0.000000</td>\n",
       "      <td>0.000000</td>\n",
       "      <td>0.000000</td>\n",
       "      <td>0.0</td>\n",
       "      <td>0.0</td>\n",
       "      <td>0.0</td>\n",
       "      <td>0.0</td>\n",
       "      <td>0.0</td>\n",
       "      <td>0.0</td>\n",
       "    </tr>\n",
       "    <tr>\n",
       "      <th>3</th>\n",
       "      <td>0.05098</td>\n",
       "      <td>0.196078</td>\n",
       "      <td>0.184314</td>\n",
       "      <td>0.219608</td>\n",
       "      <td>0.368627</td>\n",
       "      <td>0.141176</td>\n",
       "      <td>0.0</td>\n",
       "      <td>0.0</td>\n",
       "      <td>0.000000</td>\n",
       "      <td>0.000000</td>\n",
       "      <td>...</td>\n",
       "      <td>0.000000</td>\n",
       "      <td>0.000000</td>\n",
       "      <td>0.000000</td>\n",
       "      <td>0.000000</td>\n",
       "      <td>0.0</td>\n",
       "      <td>0.0</td>\n",
       "      <td>0.0</td>\n",
       "      <td>0.0</td>\n",
       "      <td>0.0</td>\n",
       "      <td>0.0</td>\n",
       "    </tr>\n",
       "    <tr>\n",
       "      <th>4</th>\n",
       "      <td>0.00000</td>\n",
       "      <td>0.000000</td>\n",
       "      <td>0.000000</td>\n",
       "      <td>0.000000</td>\n",
       "      <td>0.000000</td>\n",
       "      <td>0.000000</td>\n",
       "      <td>0.0</td>\n",
       "      <td>0.0</td>\n",
       "      <td>0.000000</td>\n",
       "      <td>0.000000</td>\n",
       "      <td>...</td>\n",
       "      <td>0.000000</td>\n",
       "      <td>0.000000</td>\n",
       "      <td>0.000000</td>\n",
       "      <td>0.000000</td>\n",
       "      <td>0.0</td>\n",
       "      <td>0.0</td>\n",
       "      <td>0.0</td>\n",
       "      <td>0.0</td>\n",
       "      <td>0.0</td>\n",
       "      <td>0.0</td>\n",
       "    </tr>\n",
       "    <tr>\n",
       "      <th>...</th>\n",
       "      <td>...</td>\n",
       "      <td>...</td>\n",
       "      <td>...</td>\n",
       "      <td>...</td>\n",
       "      <td>...</td>\n",
       "      <td>...</td>\n",
       "      <td>...</td>\n",
       "      <td>...</td>\n",
       "      <td>...</td>\n",
       "      <td>...</td>\n",
       "      <td>...</td>\n",
       "      <td>...</td>\n",
       "      <td>...</td>\n",
       "      <td>...</td>\n",
       "      <td>...</td>\n",
       "      <td>...</td>\n",
       "      <td>...</td>\n",
       "      <td>...</td>\n",
       "      <td>...</td>\n",
       "      <td>...</td>\n",
       "      <td>...</td>\n",
       "    </tr>\n",
       "    <tr>\n",
       "      <th>59995</th>\n",
       "      <td>0.00000</td>\n",
       "      <td>0.000000</td>\n",
       "      <td>0.000000</td>\n",
       "      <td>0.000000</td>\n",
       "      <td>0.000000</td>\n",
       "      <td>0.000000</td>\n",
       "      <td>0.0</td>\n",
       "      <td>0.0</td>\n",
       "      <td>0.015686</td>\n",
       "      <td>0.619608</td>\n",
       "      <td>...</td>\n",
       "      <td>1.000000</td>\n",
       "      <td>0.968627</td>\n",
       "      <td>0.768627</td>\n",
       "      <td>0.000000</td>\n",
       "      <td>0.0</td>\n",
       "      <td>0.0</td>\n",
       "      <td>0.0</td>\n",
       "      <td>0.0</td>\n",
       "      <td>0.0</td>\n",
       "      <td>0.0</td>\n",
       "    </tr>\n",
       "    <tr>\n",
       "      <th>59996</th>\n",
       "      <td>0.00000</td>\n",
       "      <td>0.000000</td>\n",
       "      <td>0.000000</td>\n",
       "      <td>0.000000</td>\n",
       "      <td>0.000000</td>\n",
       "      <td>0.000000</td>\n",
       "      <td>0.0</td>\n",
       "      <td>0.0</td>\n",
       "      <td>0.000000</td>\n",
       "      <td>0.000000</td>\n",
       "      <td>...</td>\n",
       "      <td>0.000000</td>\n",
       "      <td>0.000000</td>\n",
       "      <td>0.000000</td>\n",
       "      <td>0.000000</td>\n",
       "      <td>0.0</td>\n",
       "      <td>0.0</td>\n",
       "      <td>0.0</td>\n",
       "      <td>0.0</td>\n",
       "      <td>0.0</td>\n",
       "      <td>0.0</td>\n",
       "    </tr>\n",
       "    <tr>\n",
       "      <th>59997</th>\n",
       "      <td>0.00000</td>\n",
       "      <td>0.000000</td>\n",
       "      <td>0.000000</td>\n",
       "      <td>0.000000</td>\n",
       "      <td>0.000000</td>\n",
       "      <td>0.000000</td>\n",
       "      <td>0.0</td>\n",
       "      <td>0.0</td>\n",
       "      <td>0.000000</td>\n",
       "      <td>0.000000</td>\n",
       "      <td>...</td>\n",
       "      <td>1.000000</td>\n",
       "      <td>1.000000</td>\n",
       "      <td>0.298039</td>\n",
       "      <td>0.000000</td>\n",
       "      <td>0.0</td>\n",
       "      <td>0.0</td>\n",
       "      <td>0.0</td>\n",
       "      <td>0.0</td>\n",
       "      <td>0.0</td>\n",
       "      <td>0.0</td>\n",
       "    </tr>\n",
       "    <tr>\n",
       "      <th>59998</th>\n",
       "      <td>0.00000</td>\n",
       "      <td>0.000000</td>\n",
       "      <td>0.000000</td>\n",
       "      <td>0.000000</td>\n",
       "      <td>0.000000</td>\n",
       "      <td>0.000000</td>\n",
       "      <td>0.0</td>\n",
       "      <td>0.0</td>\n",
       "      <td>0.000000</td>\n",
       "      <td>0.000000</td>\n",
       "      <td>...</td>\n",
       "      <td>0.000000</td>\n",
       "      <td>0.000000</td>\n",
       "      <td>0.000000</td>\n",
       "      <td>0.000000</td>\n",
       "      <td>0.0</td>\n",
       "      <td>0.0</td>\n",
       "      <td>0.0</td>\n",
       "      <td>0.0</td>\n",
       "      <td>0.0</td>\n",
       "      <td>0.0</td>\n",
       "    </tr>\n",
       "    <tr>\n",
       "      <th>59999</th>\n",
       "      <td>0.00000</td>\n",
       "      <td>0.000000</td>\n",
       "      <td>0.000000</td>\n",
       "      <td>0.000000</td>\n",
       "      <td>0.000000</td>\n",
       "      <td>0.000000</td>\n",
       "      <td>0.0</td>\n",
       "      <td>0.0</td>\n",
       "      <td>0.000000</td>\n",
       "      <td>0.000000</td>\n",
       "      <td>...</td>\n",
       "      <td>0.000000</td>\n",
       "      <td>0.000000</td>\n",
       "      <td>0.000000</td>\n",
       "      <td>0.000000</td>\n",
       "      <td>0.0</td>\n",
       "      <td>0.0</td>\n",
       "      <td>0.0</td>\n",
       "      <td>0.0</td>\n",
       "      <td>0.0</td>\n",
       "      <td>0.0</td>\n",
       "    </tr>\n",
       "  </tbody>\n",
       "</table>\n",
       "<p>60000 rows × 784 columns</p>\n",
       "</div>"
      ],
      "text/plain": [
       "             0         1         2         3         4         5    6    7  \\\n",
       "0      0.00000  0.000000  0.000000  0.000000  0.000000  0.000000  0.0  0.0   \n",
       "1      0.00000  0.000000  0.000000  0.000000  0.000000  0.000000  0.0  0.0   \n",
       "2      0.00000  0.000000  0.000000  0.000000  0.000000  0.000000  0.0  0.0   \n",
       "3      0.05098  0.196078  0.184314  0.219608  0.368627  0.141176  0.0  0.0   \n",
       "4      0.00000  0.000000  0.000000  0.000000  0.000000  0.000000  0.0  0.0   \n",
       "...        ...       ...       ...       ...       ...       ...  ...  ...   \n",
       "59995  0.00000  0.000000  0.000000  0.000000  0.000000  0.000000  0.0  0.0   \n",
       "59996  0.00000  0.000000  0.000000  0.000000  0.000000  0.000000  0.0  0.0   \n",
       "59997  0.00000  0.000000  0.000000  0.000000  0.000000  0.000000  0.0  0.0   \n",
       "59998  0.00000  0.000000  0.000000  0.000000  0.000000  0.000000  0.0  0.0   \n",
       "59999  0.00000  0.000000  0.000000  0.000000  0.000000  0.000000  0.0  0.0   \n",
       "\n",
       "              8         9  ...       774       775       776       777  778  \\\n",
       "0      0.000000  0.000000  ...  0.043137  0.011765  0.043137  0.007843  0.0   \n",
       "1      0.000000  0.000000  ...  0.000000  0.090196  0.647059  0.141176  0.0   \n",
       "2      0.000000  0.000000  ...  0.000000  0.000000  0.000000  0.000000  0.0   \n",
       "3      0.000000  0.000000  ...  0.000000  0.000000  0.000000  0.000000  0.0   \n",
       "4      0.000000  0.000000  ...  0.000000  0.000000  0.000000  0.000000  0.0   \n",
       "...         ...       ...  ...       ...       ...       ...       ...  ...   \n",
       "59995  0.015686  0.619608  ...  1.000000  0.968627  0.768627  0.000000  0.0   \n",
       "59996  0.000000  0.000000  ...  0.000000  0.000000  0.000000  0.000000  0.0   \n",
       "59997  0.000000  0.000000  ...  1.000000  1.000000  0.298039  0.000000  0.0   \n",
       "59998  0.000000  0.000000  ...  0.000000  0.000000  0.000000  0.000000  0.0   \n",
       "59999  0.000000  0.000000  ...  0.000000  0.000000  0.000000  0.000000  0.0   \n",
       "\n",
       "       779  780  781  782  783  \n",
       "0      0.0  0.0  0.0  0.0  0.0  \n",
       "1      0.0  0.0  0.0  0.0  0.0  \n",
       "2      0.0  0.0  0.0  0.0  0.0  \n",
       "3      0.0  0.0  0.0  0.0  0.0  \n",
       "4      0.0  0.0  0.0  0.0  0.0  \n",
       "...    ...  ...  ...  ...  ...  \n",
       "59995  0.0  0.0  0.0  0.0  0.0  \n",
       "59996  0.0  0.0  0.0  0.0  0.0  \n",
       "59997  0.0  0.0  0.0  0.0  0.0  \n",
       "59998  0.0  0.0  0.0  0.0  0.0  \n",
       "59999  0.0  0.0  0.0  0.0  0.0  \n",
       "\n",
       "[60000 rows x 784 columns]"
      ]
     },
     "execution_count": 115,
     "metadata": {},
     "output_type": "execute_result"
    }
   ],
   "source": [
    "train_images"
   ]
  },
  {
   "cell_type": "code",
   "execution_count": 3,
   "metadata": {},
   "outputs": [],
   "source": [
    "test_labels = pd.read_csv(\"test_labels.csv\")\n",
    "test_labels.drop('Unnamed: 0', inplace=True, axis=1)\n",
    "test_images = pd.read_csv(\"test_images.csv\")\n",
    "test_images.drop('Unnamed: 0', inplace=True, axis=1)\n",
    "test_labels.columns = ['Y']"
   ]
  },
  {
   "cell_type": "code",
   "execution_count": 4,
   "metadata": {},
   "outputs": [],
   "source": [
    "def show_image(train_images, train_labels):\n",
    "    data = pd.concat([train_images, train_labels], axis=1)\n",
    "    grouped_data = data.groupby('Y')\n",
    "    for c in range(20):\n",
    "        group = grouped_data.get_group(c)\n",
    "        group.drop('Y', inplace=True, axis=1)\n",
    "        img = group.iloc[0].values.reshape(28,28)\n",
    "        plt.imshow(img,)\n",
    "        plt.show()"
   ]
  },
  {
   "cell_type": "code",
   "execution_count": 5,
   "metadata": {},
   "outputs": [
    {
     "name": "stderr",
     "output_type": "stream",
     "text": [
      "/usr/local/lib/python3.7/site-packages/pandas/core/frame.py:4312: SettingWithCopyWarning: \n",
      "A value is trying to be set on a copy of a slice from a DataFrame\n",
      "\n",
      "See the caveats in the documentation: https://pandas.pydata.org/pandas-docs/stable/user_guide/indexing.html#returning-a-view-versus-a-copy\n",
      "  errors=errors,\n"
     ]
    },
    {
     "data": {
      "image/png": "[encoded data removed]",
      "text/plain": [
       "<Figure size 432x288 with 1 Axes>"
      ]
     },
     "metadata": {
      "needs_background": "light"
     },
     "output_type": "display_data"
    },
    {
     "data": {
      "image/png": "[encoded data removed]",
      "text/plain": [
       "<Figure size 432x288 with 1 Axes>"
      ]
     },
     "metadata": {
      "needs_background": "light"
     },
     "output_type": "display_data"
    },
    {
     "data": {
      "image/png": "[encoded data removed]",
      "text/plain": [
       "<Figure size 432x288 with 1 Axes>"
      ]
     },
     "metadata": {
      "needs_background": "light"
     },
     "output_type": "display_data"
    },
    {
     "data": {
      "image/png": "[encoded data removed]",
      "text/plain": [
       "<Figure size 432x288 with 1 Axes>"
      ]
     },
     "metadata": {
      "needs_background": "light"
     },
     "output_type": "display_data"
    },
    {
     "data": {
      "image/png": "[encoded data removed]",
      "text/plain": [
       "<Figure size 432x288 with 1 Axes>"
      ]
     },
     "metadata": {
      "needs_background": "light"
     },
     "output_type": "display_data"
    },
    {
     "data": {
      "image/png": "[encoded data removed]",
      "text/plain": [
       "<Figure size 432x288 with 1 Axes>"
      ]
     },
     "metadata": {
      "needs_background": "light"
     },
     "output_type": "display_data"
    },
    {
     "data": {
      "image/png": "[encoded data removed]",
      "text/plain": [
       "<Figure size 432x288 with 1 Axes>"
      ]
     },
     "metadata": {
      "needs_background": "light"
     },
     "output_type": "display_data"
    },
    {
     "data": {
      "image/png": "[encoded data removed]",
      "text/plain": [
       "<Figure size 432x288 with 1 Axes>"
      ]
     },
     "metadata": {
      "needs_background": "light"
     },
     "output_type": "display_data"
    },
    {
     "data": {
      "image/png": "[encoded data removed]",
      "text/plain": [
       "<Figure size 432x288 with 1 Axes>"
      ]
     },
     "metadata": {
      "needs_background": "light"
     },
     "output_type": "display_data"
    },
    {
     "data": {
      "image/png": "[encoded data removed]",
      "text/plain": [
       "<Figure size 432x288 with 1 Axes>"
      ]
     },
     "metadata": {
      "needs_background": "light"
     },
     "output_type": "display_data"
    },
    {
     "data": {
      "image/png": "[encoded data removed]",
      "text/plain": [
       "<Figure size 432x288 with 1 Axes>"
      ]
     },
     "metadata": {
      "needs_background": "light"
     },
     "output_type": "display_data"
    },
    {
     "data": {
      "image/png": "[encoded data removed]",
      "text/plain": [
       "<Figure size 432x288 with 1 Axes>"
      ]
     },
     "metadata": {
      "needs_background": "light"
     },
     "output_type": "display_data"
    },
    {
     "data": {
      "image/png": "[encoded data removed]",
      "text/plain": [
       "<Figure size 432x288 with 1 Axes>"
      ]
     },
     "metadata": {
      "needs_background": "light"
     },
     "output_type": "display_data"
    },
    {
     "data": {
      "image/png": "[encoded data removed]",
      "text/plain": [
       "<Figure size 432x288 with 1 Axes>"
      ]
     },
     "metadata": {
      "needs_background": "light"
     },
     "output_type": "display_data"
    },
    {
     "data": {
      "image/png": "[encoded data removed]",
      "text/plain": [
       "<Figure size 432x288 with 1 Axes>"
      ]
     },
     "metadata": {
      "needs_background": "light"
     },
     "output_type": "display_data"
    },
    {
     "data": {
      "image/png": "[encoded data removed]",
      "text/plain": [
       "<Figure size 432x288 with 1 Axes>"
      ]
     },
     "metadata": {
      "needs_background": "light"
     },
     "output_type": "display_data"
    },
    {
     "data": {
      "image/png": "[encoded data removed]",
      "text/plain": [
       "<Figure size 432x288 with 1 Axes>"
      ]
     },
     "metadata": {
      "needs_background": "light"
     },
     "output_type": "display_data"
    },
    {
     "data": {
      "image/png": "[encoded data removed]",
      "text/plain": [
       "<Figure size 432x288 with 1 Axes>"
      ]
     },
     "metadata": {
      "needs_background": "light"
     },
     "output_type": "display_data"
    },
    {
     "data": {
      "image/png": "[encoded data removed]",
      "text/plain": [
       "<Figure size 432x288 with 1 Axes>"
      ]
     },
     "metadata": {
      "needs_background": "light"
     },
     "output_type": "display_data"
    },
    {
     "data": {
      "image/png": "[encoded data removed]",
      "text/plain": [
       "<Figure size 432x288 with 1 Axes>"
      ]
     },
     "metadata": {
      "needs_background": "light"
     },
     "output_type": "display_data"
    }
   ],
   "source": [
    "show_image(train_images, train_labels)"
   ]
  },
  {
   "cell_type": "code",
   "execution_count": 6,
   "metadata": {},
   "outputs": [
    {
     "name": "stdout",
     "output_type": "stream",
     "text": [
      "[  0   0   0   0   0   0   0   0 103 141   1   0   0   0   0   0  17 220\n",
      " 255 103   0   0   0   0   0   0   0   0   0   0   0   0   0   0   0   0\n",
      "  51  11   0   0   0   0   0   0  69 255 255 103   0   0   0   0   0   0\n",
      "   0   0   0   0   0   0   0   0   0   0   0   0   0   0   0   0   0  14\n",
      " 206 255 254  86   0   0   0   0   0   0   0   0   0   0   0   0   0   0\n",
      "   0   0   0   0   0   0   0   0   1 158 255 255 188   9   0   0   0   0\n",
      "   0   0   0   0   0   0   0   0   0   0   0   0   0   0   0   0   0   0\n",
      " 104 250 255 239  41   0   0   0   0   0   0   0   0   0   0   0   0   0\n",
      "   0   0   0   0   0   0   0   0   0  38 244 255 255 192   0   0   0   0\n",
      "   0   0   0   0   0   0   0   0   0   0   0   0   0   0   0   0   0   0\n",
      "  14 175 255 255 255 202   8   0   0   0   0   0   0   0   0   0   0   0\n",
      "   0   0   0   0   0   0   0   0   0  48 202 255 255 255 255 255 105   0\n",
      "   0   0   0   0   0   0   0   0   0   0   0   0   0   0   0   0   0  23\n",
      " 148 241 255 255 255 255 255 255 185   0   0   0   0   0   0   0   0   0\n",
      "   0   0   0   0   0   0   0   0   0 138 255 255 255 255 255 255 255 255\n",
      " 234  32   0   0   0   0   0   0   0   0   0   0   0   0   0   0   0   0\n",
      "  10 198 255 255 255 253 204 255 255 255 248  31   0   0   0   0   0   0\n",
      "   0   0   0   0   0   0   0   0   0   0  55 254 255 221 114  40  13 199\n",
      " 255 255 246  25   0   0   0   0   0   0   0   0   0   0   0   0   0   0\n",
      "   0   0   3  56  79  12   0   0   0 148 255 255 248  28   0   0   0   0\n",
      "   0   0   0   0   0   0   0   0   0   0   0   0   0   0   0   0   0   0\n",
      "   0 121 255 255 255  64   0   0   0   0   0   0   0   0   0   0   0   0\n",
      "   0   0   0   0   0   0   0   0   0   0   0 117 255 255 255  91   0   0\n",
      "   0   0   0   0   0   0   0   0   0   0   0   0   0   0   0   0   0   0\n",
      "   0   0   1 188 255 255 233  27   0   0   0   0   0   0   0   0   0   0\n",
      "   0   0   0   0   0   0   0   0   0   0   0   0  21 248 255 255 143   0\n",
      "   0   0   0   0   0   0   0   0   0   0   0   0   0   0   0   0   0   0\n",
      "   0   0   0   0 126 255 255 250  54   0   0   0   0   0   0   0   0   0\n",
      "   0   0   0   0   0   0   0   0   0   0   0   0   0  19 244 250 255 132\n",
      "   2   0   0   0   0   0   0   0   0   0   0   0   0   0   0   0   0   0\n",
      "   0   0   0   0   2 152 255 255 230   9   0   0   0   0   0   0   0   0\n",
      "   0   0   0   0   0   0   0   0   0   0   0   0   0   0  78 251 255 255\n",
      " 144   0   0   0   0   0   0   0   0   0   0   0   0   0   0   0   0   0\n",
      "   0   0   0   0   0   7 205 255 254 155   9   0   0   0   0   0   0   0\n",
      "   0   0   0   0   0   0   0   0   0   0   0   0   0   0  24 189 254 255\n",
      " 173   4   0   0   0   0   0   0   0   0   0   0   0   0   0   0   0   0\n",
      "   0   0   0   0   0  28 204 255 255 154   8   0   0   0   0   0   0   0\n",
      "   0   0   0   0   0   0   0   0   0   0   0   0   0   0  16 184 255 255\n",
      " 165   4   0   0   0   0   0   0   0   0   0   0   0   0   0   0   0   0\n",
      "   0   0   0   0   0   0  94 255 252 154   7   0   0   0   0   0   0   0\n",
      "   0   0   0   0   0   0   0   0   0   0   0   0   0   0   0   0 103 253\n",
      " 129   1   0   0   0   0   0   0   0   0   0   0   0   0   0   0   0   0\n",
      "   0   0   0   0   0   0   0   0  98 116   2   0   0   0   0   0   0   0\n",
      "   0   0   0   0   0   0   0   0   0   0]\n"
     ]
    }
   ],
   "source": [
    "print(train_images.iloc[122].to_numpy())"
   ]
  },
  {
   "cell_type": "markdown",
   "metadata": {},
   "source": [
    "<h1 style = \"font-size: 20px ;color: #479\">As you see above , the values of each image elements are between 0 and 255 in this way, the higher the number, the brighter that element.  </h1>"
   ]
  },
  {
   "cell_type": "code",
   "execution_count": 7,
   "metadata": {},
   "outputs": [],
   "source": [
    "def number_of_calsses(train_images,train_labels,test_images,test_labels):\n",
    "    data_train = pd.concat([train_images, train_labels], axis=1)\n",
    "    data_test = pd.concat([test_images, test_labels], axis=1)\n",
    "    grouped_data_train  = data_train .groupby('Y')\n",
    "    grouped_data_test  = data_test .groupby('Y')\n",
    "    train_g = []\n",
    "    test_g = []\n",
    "    for c in range(20):\n",
    "        group_train = grouped_data_train.get_group(c)\n",
    "        group_test = grouped_data_test.get_group(c)\n",
    "        train_g.append(len(group_train))\n",
    "        test_g.append(len(group_test))\n",
    "    ind = np.arange(20)\n",
    "    width = 0.35\n",
    "    f1 = plt.figure()\n",
    "    f1.set_figwidth(20)\n",
    "    f1.set_figheight(7)\n",
    "    plt.bar(ind,train_g,width, color='r')\n",
    "    plt.show()\n",
    "    \n",
    "\n",
    "    f = plt.figure()\n",
    "    f.set_figwidth(20)\n",
    "    f.set_figheight(7)\n",
    "    plt.bar(ind,test_g,width, color='b')\n",
    "    plt.show()"
   ]
  },
  {
   "cell_type": "code",
   "execution_count": 8,
   "metadata": {},
   "outputs": [
    {
     "data": {
      "image/png": "[encoded data removed]",
      "text/plain": [
       "<Figure size 1440x504 with 1 Axes>"
      ]
     },
     "metadata": {
      "needs_background": "light"
     },
     "output_type": "display_data"
    },
    {
     "data": {
      "image/png": "[encoded data removed]",
      "text/plain": [
       "<Figure size 1440x504 with 1 Axes>"
      ]
     },
     "metadata": {
      "needs_background": "light"
     },
     "output_type": "display_data"
    }
   ],
   "source": [
    "number_of_calsses(train_images,train_labels,test_images,test_labels)"
   ]
  },
  {
   "cell_type": "code",
   "execution_count": 4,
   "metadata": {},
   "outputs": [],
   "source": [
    "train_images /=255\n",
    "test_images /= 255"
   ]
  },
  {
   "cell_type": "markdown",
   "metadata": {},
   "source": [
    "<h1 style = \"font-size: 20px ;color: #479\">Normalization puts numbers in the range between 0 and 1. In Neural networks process  use small weight values, and inputs with large  values can disrupt or slow down the learning process or overflow may encounter in process of calculation the exponential values .  </h1>"
   ]
  },
  {
   "cell_type": "markdown",
   "metadata": {},
   "source": [
    "<h1 style = \"font-size: 40px; text-align: center;color: #235\">Pahse 2 </h1>"
   ]
  },
  {
   "cell_type": "markdown",
   "metadata": {},
   "source": [
    "<h1 style = \"font-size: 20px ;color: #479\">In this section , I'm going to complete the incomplete given code . <br/>for '__onehot' function , which is protcted function , first I created a np array by zero values with the following dimensions : (label size) × (number of classes) . </h1>"
   ]
  },
  {
   "cell_type": "markdown",
   "metadata": {},
   "source": [
    "# Dataloader"
   ]
  },
  {
   "cell_type": "code",
   "execution_count": 5,
   "metadata": {},
   "outputs": [],
   "source": [
    "class Dataloader:\n",
    "    \n",
    "    def __init__(self, data, labels, n_classes, batch_size=None, shuffle=False):\n",
    "\n",
    "        assert len(data)==len(labels)\n",
    "        self.n_classes = n_classes\n",
    "        self.batch_size = batch_size\n",
    "        self.shuffle = shuffle\n",
    "        self.data = data\n",
    "        self.labels = labels\n",
    "        self.onehot_labels = self.onehot(labels, self.n_classes)\n",
    "    \n",
    "    def onehot(self, labels, n_classes):\n",
    "        onehot_vectors = np.zeros((labels.size, n_classes))\n",
    "        for i in range(len(labels)):\n",
    "            onehot_vectors[i, labels.iloc[i]] = 1.0\n",
    "        return onehot_vectors\n",
    "    \n",
    "    def shuffle_dataset(self):\n",
    "        \n",
    "        onehot = pd.DataFrame(self.onehot(self.labels,20))\n",
    "        concat_data = pd.concat([self.data, onehot], axis=1)\n",
    "        shuffeled_data = concat_data.sample(frac=1)\n",
    "        shuffeled_data = shuffeled_data.reset_index()\n",
    "        shuffeled_data = shuffeled_data.to_numpy()\n",
    "        self.data = shuffeled_data[:,:784]\n",
    "        self.onehot_labels = shuffeled_data[:,784:804]    \n",
    "    def __iter__(self):\n",
    "        \n",
    "        if self.shuffle:\n",
    "            self.shuffle_dataset()\n",
    "            \n",
    "        if self.batch_size==None:\n",
    "            yield (np.matrix(self.data), np.matrix(self.onehot_labels))\n",
    "            return\n",
    "            \n",
    "        for idx in range(0, len(self.data), self.batch_size):\n",
    "            yield (np.matrix(self.data[idx:idx+self.batch_size]), \n",
    "                   np.matrix(self.onehot_labels[idx:idx+self.batch_size]))"
   ]
  },
  {
   "cell_type": "markdown",
   "metadata": {},
   "source": [
    "# Activation Functions"
   ]
  },
  {
   "cell_type": "markdown",
   "metadata": {},
   "source": [
    "<h1 style = \"font-size: 20px ;color: #479\"> In this part , I use  relations mentioned in description to describe differenet activation functions :</h1>\n",
    "    "
   ]
  },
  {
   "cell_type": "code",
   "execution_count": 124,
   "metadata": {},
   "outputs": [],
   "source": [
    "class Identical:\n",
    "    \n",
    "    def __init__(self): pass\n",
    "        \n",
    "    def __val(self, matrix):\n",
    "        identical_value = np.matrix(matrix, dtype=float)\n",
    "        return identical_value\n",
    "\n",
    "    def derivative(self, matrix):\n",
    "        temp = np.matrix(matrix, dtype=float)\n",
    "        identical_derivative = np.matrix(np.full(np.shape(temp), 1.))\n",
    "        return identical_derivative\n",
    "    \n",
    "    def __call__(self, matrix):\n",
    "        return self.__val(matrix)\n",
    "    \n",
    "\n",
    "class Relu:\n",
    "    \n",
    "    def __init__(self): pass\n",
    "    def __val(self, matrix):\n",
    "        # TODO: Implement\n",
    "        mat = np.matrix(matrix, dtype=float)\n",
    "        relu_value = np.matrix(np.maximum(mat, 0.))\n",
    "        return relu_value\n",
    "\n",
    "    def derivative(self, matrix):\n",
    "        # TODO: Implement\n",
    "        matrix = np.matrix(matrix, dtype=float)\n",
    "        relu_derivative = np.matrix(np.full(np.shape(matrix), 1.))\n",
    "        relu_derivative[matrix <= 0] = 0.\n",
    "        return relu_derivative\n",
    "    \n",
    "    def __call__(self, matrix):\n",
    "        return self.__val(matrix)\n",
    "\n",
    "    \n",
    "class LeakyRelu:\n",
    "    \n",
    "    def __init__(self, negative_slope=0.01):\n",
    "        self.negative_slope = 0.01\n",
    "    \n",
    "    def __val(self, matrix):\n",
    "        # TODO: Implement\n",
    "#         mat = np.matrix(matrix, dtype=float)\n",
    "#         leacky_relu_value = np.matrix(np.where(mat > 0, mat, mat * self.negative_slope))\n",
    "\n",
    "        \n",
    "        mat = np.matrix(matrix, dtype=float)\n",
    "        leacky_relu_value = np.matrix(np.maximum(mat, mat * self.negative_slope))\n",
    "#         y1 = ((mat > 0) * mat)                                                 \n",
    "#         y2 = ((mat <= 0) * mat * 0.01)                                         \n",
    "#         leacky_relu_value = y1 + y2       \n",
    "        return leacky_relu_value\n",
    "\n",
    "    def derivative(self, matrix):\n",
    "        # TODO: Implement\n",
    "        leacky_relu_derivative = np.ones_like(matrix)\n",
    "        leacky_relu_derivative[leacky_relu_derivative <= 0] = self.negative_slope\n",
    "        return leacky_relu_derivative\n",
    "    \n",
    "    def __call__(self, matrix):\n",
    "        return self.__val(matrix)\n",
    "\n",
    "    \n",
    "class Sigmoid:\n",
    "    \n",
    "    def __init__(self): pass\n",
    "\n",
    "    def __val(self, matrix):\n",
    "        # TODO: Implement\n",
    "        mat = np.matrix(matrix, dtype=float)\n",
    "        sigmoid_value = np.matrix(1.0/(1.0 + np.exp(-mat)))\n",
    "        return sigmoid_value\n",
    "\n",
    "    def derivative(self, matrix):\n",
    "        # TODO: Implement\n",
    "        sigmoid_derivative = np.multiply(self.__val(matrix), (1. - self.__val(matrix)))\n",
    "        return sigmoid_derivative\n",
    "    \n",
    "    def __call__(self, matrix):\n",
    "        return self.__val(matrix)\n",
    "\n",
    "\n",
    "class Softmax: #stable softmax\n",
    "    \n",
    "    def __init__(self): pass\n",
    "\n",
    "    def __val(self, matrix):\n",
    "        # TODO: Implement\n",
    "        mat = np.matrix(matrix, dtype=float)\n",
    "        softmax_value = np.exp(mat - np.max(mat))\n",
    "        softmax_value = np.nan_to_num(softmax_value)\n",
    "        softmax_value = softmax_value / softmax_value.sum(axis=1)\n",
    "        return softmax_value\n",
    "    \n",
    "    def __call__(self, matrix):\n",
    "        return self.__val(matrix)\n",
    "    \n",
    "class Tanh:\n",
    "    \n",
    "    def __init__(self): pass\n",
    "\n",
    "    def __val(self, matrix):\n",
    "        # TODO: Implement\n",
    "        mat = np.matrix(matrix, dtype=float)\n",
    "        tanh_value = np.matrix((np.exp(mat) - np.exp(-mat))/(np.exp(mat) + np.exp(-mat)))\n",
    "        return tanh_value\n",
    "\n",
    "    def derivative(self, matrix):\n",
    "        # TODO: Implement\n",
    "        tanh_derivative = 1 - np.power(self.__val(matrix), 2)\n",
    "        return tanh_derivative\n",
    "    \n",
    "    def __call__(self, matrix):\n",
    "        return self.__val(matrix)"
   ]
  },
  {
   "cell_type": "markdown",
   "metadata": {},
   "source": [
    "# Loss Function"
   ]
  },
  {
   "cell_type": "code",
   "execution_count": 96,
   "metadata": {},
   "outputs": [],
   "source": [
    "class CrossEntropy: #(with softmax)\n",
    "    \n",
    "    def __init__(self): pass\n",
    "\n",
    "    def __val(self, true_val, expected_val):\n",
    "        assert np.shape(true_val)==np.shape(expected_val)\n",
    "        # TODO: Implement\n",
    "        softmax = Softmax()\n",
    "        cross_entropy_value = np.sum(-np.multiply(np.matrix(expected_val, dtype=float), np.log(softmax(true_val))), axis=1)\n",
    "        return cross_entropy_value\n",
    "        \n",
    "    def derivative(self, true_val, expected_val):\n",
    "        assert np.shape(true_val)==np.shape(expected_val)\n",
    "        # TODO: Implement\n",
    "        softmax = Softmax()\n",
    "        cross_entropy_derivative = softmax(true_val) - expected_val\n",
    "        return cross_entropy_derivative\n",
    "    \n",
    "    def __call__(self, true_val, expected_val):\n",
    "        return self.__val(true_val, expected_val)"
   ]
  },
  {
   "cell_type": "markdown",
   "metadata": {},
   "source": [
    "# Layer"
   ]
  },
  {
   "cell_type": "code",
   "execution_count": 102,
   "metadata": {},
   "outputs": [],
   "source": [
    "class Layer:\n",
    "\n",
    "    DEFAULT_LOW, DEFAULT_HIGH, DEFAULT_MEAN, DEFAULT_VAR = 0, 0.05, 0., 1.\n",
    "  \n",
    "    def __init__(self, input_size, output_size, \n",
    "                 activation=Identical(), initial_weight='uniform', **initializing_parameters):\n",
    "        \n",
    "        assert type(initial_weight)==str, 'Undefined activation function!'\n",
    "        \n",
    "        self.__weight_initializer_dict = {'uniform':self.__uniform_weight, 'normal':self.__normal_weight}\n",
    "        \n",
    "        assert initial_weight in self.__weight_initializer_dict, 'Undefined weight initialization function!'\n",
    "\n",
    "\n",
    "        self.__n_neurons = output_size\n",
    "        weight_initializer = self.__weight_initializer_dict[initial_weight]\n",
    "        self.__weight = weight_initializer(input_size, self.__n_neurons, **initializing_parameters)\n",
    "        self.__bias = weight_initializer(1, self.__n_neurons, **initializing_parameters)\n",
    "        self.__activation = activation\n",
    "        \n",
    "        self.__last_input = None\n",
    "        self.__last_activation_input = None\n",
    "        self.__last_activation_output = None\n",
    "        self.__last_activation_derivative = None\n",
    "        \n",
    "    def forward(self, layer_input):\n",
    "        assert np.ndim(layer_input)==2\n",
    "        assert np.size(self.__weight,0) == np.size(layer_input,1)\n",
    "        # TODO: Implement\n",
    "        self.__last_input = layer_input\n",
    "        self.__last_activation_input = np.matmul(layer_input , self.__weight) + self.__bias\n",
    "        self.__last_activation_output = self.__activation(self.__last_activation_input)\n",
    "        self.__last_activation_derivative = self.__activation.derivative(self.__last_activation_output)\n",
    "        return self.__last_activation_output\n",
    "    \n",
    "    \n",
    "    def update_weights(self, backprop_tensor, lr):\n",
    "        assert np.ndim(backprop_tensor)==2\n",
    "        assert np.size(backprop_tensor,0) == np.size(self.__last_activation_derivative,0)\n",
    "        assert np.size(backprop_tensor,1) == self.__n_neurons\n",
    "        Dell = np.dot(self.__last_input.T , np.multiply(backprop_tensor, self.__last_activation_derivative))\n",
    "        delta_bias = np.dot(np.matrix(np.ones((1,backprop_tensor.shape[0])), dtype=float) ,np.multiply(backprop_tensor, self.__last_activation_derivative))\n",
    "        self.__bias -= (lr * delta_bias)\n",
    "        backprop_tensor = np.dot(backprop_tensor, self.__weight.T)\n",
    "        self.__weight -= (lr * Dell)\n",
    "        return backprop_tensor\n",
    "    \n",
    "    \n",
    "    def __uniform_weight(self, dim1, dim2, **initializing_parameters):\n",
    "        low, high = self.DEFAULT_LOW, self.DEFAULT_HIGH\n",
    "        if 'low' in initializing_parameters.keys(): low = initializing_parameters['low']\n",
    "        if 'high' in initializing_parameters.keys(): high = initializing_parameters['high']\n",
    "        # TODO: Implement\n",
    "        weights = np.matrix(np.random.uniform(low, high , size=(dim1,dim2)))\n",
    "        return weights\n",
    "\n",
    "    def __normal_weight(self, dim1, dim2, **initializing_parameters):\n",
    "        mean, var = self.DEFAULT_MEAN, self.DEFAULT_VAR\n",
    "        if 'mean' in initializing_parameters.keys(): mean = initializing_parameters['mean']\n",
    "        if 'var' in initializing_parameters.keys(): var = initializing_parameters['var']\n",
    "        # TODO: Implement\n",
    "        weights = np.matrix(np.random.normal(mean, var , size=(dim1,dim2)))\n",
    "        return weights\n",
    "    \n",
    "    @property\n",
    "    def n_neurons(self): return self.__n_neurons\n",
    "    \n",
    "    @property\n",
    "    def weight(self): return self.__weight\n",
    "    \n",
    "    @property\n",
    "    def bias(self): return self.__bias\n",
    "    \n",
    "    @property\n",
    "    def activation(self): return self.__activation"
   ]
  },
  {
   "cell_type": "markdown",
   "metadata": {},
   "source": [
    "# Feed Forward Neural Network"
   ]
  },
  {
   "cell_type": "code",
   "execution_count": 98,
   "metadata": {},
   "outputs": [],
   "source": [
    "class FeedForwardNN:\n",
    "    \n",
    "    def __init__(self, input_shape):\n",
    "        \n",
    "        self.__input_shape = input_shape\n",
    "        self.__output_shape = None\n",
    "        \n",
    "        self.__layers_list = []\n",
    "        \n",
    "        self.__lr = None\n",
    "        self.__loss = None\n",
    "\n",
    "        \n",
    "    def add_layer(self, n_neurons, activation=Relu(), initial_weight='uniform', **initializing_parameters):\n",
    "         \n",
    "        assert type(n_neurons)==int, \"Invalid number of neurons for the layer!\"\n",
    "        assert n_neurons>0, \"Invalid number of neurons for the layer!\"\n",
    "        \n",
    "        n_prev_neurons = self.__input_shape if len(self.__layers_list)==0 else self.__layers_list[-1].n_neurons\n",
    "        new_layer = Layer(n_prev_neurons, n_neurons, activation, initial_weight, **initializing_parameters)\n",
    "        self.__layers_list.append(new_layer)\n",
    "        self.__output_shape = self.__layers_list[-1].n_neurons \n",
    "      \n",
    "    \n",
    "    def set_training_param(self, loss=CrossEntropy(), lr=1e-3):\n",
    "        assert self.__layers_list, \"Uncomplete model!\"\n",
    "        self.__loss = loss\n",
    "        self.__lr = lr\n",
    "    \n",
    "    \n",
    "    def forward(self, network_input):\n",
    "        assert type(self.__output_shape) != None, \"Model is not compiled!\"\n",
    "        # TODO: Implement\n",
    "        layer_input = network_input\n",
    "        for layer in self.__layers_list:\n",
    "            network_output = layer.forward( layer_input)\n",
    "            layer_input = network_output\n",
    "        return network_output\n",
    "    \n",
    "    \n",
    "    def fit(self, epochs, trainloader, testloader=None, print_results=True):\n",
    "        \n",
    "        assert type(self.__output_shape) != None, \"Model is not compiled!\"\n",
    "        assert type(self.__lr) != None and type(self.__loss) != None, \"Training paramenters are not set!\"\n",
    "\n",
    "        log = {\"train_accuracy\":[], \"train_loss\":[], \"test_accuracy\":[], \"test_loss\":[]}\n",
    "        \n",
    "        for epoch in range(1, epochs+1):\n",
    "            \n",
    "            if print_results: \n",
    "                print('Epoch {}:'.format(epoch)) \n",
    "                \n",
    "            average_accuracy, average_loss = self.__train(trainloader)\n",
    "            log['train_accuracy'].append(average_accuracy)\n",
    "            log['train_loss'].append(average_loss)\n",
    "            if print_results:\n",
    "                print('\\tTrain: Average Accuracy: {}\\tAverage Loss: {}'.format(average_accuracy, average_loss))\n",
    "            \n",
    "            if type(testloader) != type(None):\n",
    "                average_accuracy, average_loss = self.__test(testloader)\n",
    "                log['test_accuracy'].append(average_accuracy)\n",
    "                log['test_loss'].append(average_loss)\n",
    "                if print_results:\n",
    "                    print('\\tTest: Average Accuracy: {}\\tAverage Loss: {}'.format(average_accuracy, average_loss))\n",
    "                    \n",
    "        return log\n",
    "    \n",
    "    \n",
    "    def __train(self, trainloader):\n",
    "        bach_accuracies, batch_losses = [], []\n",
    "        for x_train, y_train in trainloader:\n",
    "            batch_accuracy, batch_loss = self.__train_on_batch(x_train, y_train)\n",
    "            bach_accuracies.append(batch_accuracy)\n",
    "            batch_losses.append(batch_loss)\n",
    "        return np.mean(bach_accuracies), np.mean(batch_losses)\n",
    "    \n",
    "    \n",
    "    def __test(self, testloader):\n",
    "        bach_accuracies, batch_losses = [], []\n",
    "        for x_test, y_test in testloader:\n",
    "            batch_accuracy, batch_loss = self.__test_on_batch(x_test, y_test)\n",
    "            bach_accuracies.append(batch_accuracy)\n",
    "            batch_losses.append(batch_loss)\n",
    "        return np.mean(bach_accuracies), np.mean(batch_losses)\n",
    "\n",
    "    \n",
    "    def __train_on_batch(self, x_batch, y_batch):\n",
    "        # TODO: Implement\n",
    "        output = self.forward(x_batch)\n",
    "        self.__update_weights(output, y_batch)\n",
    "        batch_accuracy = self.__compute_accuracy(output, y_batch)\n",
    "        batch_average_loss = np.mean(self.__loss(output, y_batch))        \n",
    "        return (batch_accuracy, batch_average_loss)\n",
    "        \n",
    "        \n",
    "    def __test_on_batch(self, x_batch, y_batch):\n",
    "        # TODO: Implement\n",
    "        output = self.forward(x_batch)\n",
    "        batch_accuracy = self.__compute_accuracy(output, y_batch)\n",
    "        batch_average_loss = np.mean(self.__loss(output, y_batch))\n",
    "        return (batch_accuracy, batch_average_loss)\n",
    "            \n",
    "        \n",
    "    def __get_labels(self, outputs):\n",
    "        # TODO: Implement\n",
    "        labels = np.argmax(outputs, axis = 1)\n",
    "        return labels\n",
    "    \n",
    "    \n",
    "    def __compute_accuracy(self, output, expected_output):\n",
    "        # TODO: Implement\n",
    "        accuracy = (self.__get_labels(output) == self.__get_labels(expected_output)).sum()/len(output)\n",
    "        accuracy *= 100\n",
    "        return accuracy\n",
    "    \n",
    "    \n",
    "    def __update_weights(self, output, y_train):\n",
    "        # TODO: Implement\n",
    "        for layer in reversed(self.__layers_list):\n",
    "            if layer == self.__layers_list[-1]:\n",
    "                backprop_tensor = layer.update_weights(self.__loss.derivative(output, y_train), self.__lr)\n",
    "            else:\n",
    "                backprop_tensor = layer.update_weights(backprop_tensor, self.__lr)\n",
    "        return\n",
    "    \n"
   ]
  },
  {
   "cell_type": "markdown",
   "metadata": {},
   "source": [
    "<h1 style = \"font-size: 35px; text-align: center;color: #235\">Pahse 3</h1>"
   ]
  },
  {
   "cell_type": "markdown",
   "metadata": {},
   "source": [
    "<h1 style = \"font-size: 30px;color: #235\">Part 1 </h1>"
   ]
  },
  {
   "cell_type": "markdown",
   "metadata": {},
   "source": [
    "\n",
    "<h1 style = \"font-size: 20px ;color: #479\"> Training Sample Code </h1>\n",
    "<h1 style = \"font-size: 15px ;color: #479\"> In this section , I created FeedForwardNN instance with three layers and in the hidden layers the number of nodes is equal to 40 . In addition , I used 'normal' distribution to create a weight matrix . <br/>\n",
    " \n",
    "As mentioned in the discription, the following values are set for the model parameters.</h1>"
   ]
  },
  {
   "cell_type": "code",
   "execution_count": 10,
   "metadata": {
    "scrolled": false
   },
   "outputs": [],
   "source": [
    "# Sample code for building and training a model\n",
    "\n",
    "INPUT_SHAPE = 28*28\n",
    "LEARNING_RATE = 10**(-3)\n",
    "EPOCHS = 20\n",
    "BATCH_SIZE = 64\n",
    "TRAINLOADER = Dataloader(train_images, train_labels, 20, BATCH_SIZE)\n",
    "TESTLOADER = Dataloader(test_images, test_labels, 20, BATCH_SIZE)"
   ]
  },
  {
   "cell_type": "code",
   "execution_count": 103,
   "metadata": {},
   "outputs": [
    {
     "name": "stdout",
     "output_type": "stream",
     "text": [
      "Epoch 1:\n",
      "\tTrain: Average Accuracy: 19.377998400852878\tAverage Loss: 2.5076179476532405\n",
      "\tTest: Average Accuracy: 39.32402482269503\tAverage Loss: 1.9930791267211097\n",
      "Epoch 2:\n",
      "\tTrain: Average Accuracy: 62.12519989339019\tAverage Loss: 1.291279115399291\n",
      "\tTest: Average Accuracy: 60.175088652482266\tAverage Loss: 1.385643095288718\n",
      "Epoch 3:\n",
      "\tTrain: Average Accuracy: 74.20375799573561\tAverage Loss: 0.905878489701733\n",
      "\tTest: Average Accuracy: 66.98581560283688\tAverage Loss: 1.169849496153347\n",
      "Epoch 4:\n",
      "\tTrain: Average Accuracy: 79.25106609808103\tAverage Loss: 0.7316855689936946\n",
      "\tTest: Average Accuracy: 70.84663120567377\tAverage Loss: 1.0425206688942095\n",
      "Epoch 5:\n",
      "\tTrain: Average Accuracy: 82.16451226012794\tAverage Loss: 0.6291229437498892\n",
      "\tTest: Average Accuracy: 73.3377659574468\tAverage Loss: 0.9578790514617256\n",
      "Epoch 6:\n",
      "\tTrain: Average Accuracy: 84.28338219616205\tAverage Loss: 0.5556781741448824\n",
      "\tTest: Average Accuracy: 74.80053191489361\tAverage Loss: 0.8951851191250608\n",
      "Epoch 7:\n",
      "\tTrain: Average Accuracy: 85.89252398720683\tAverage Loss: 0.5017569382850716\n",
      "\tTest: Average Accuracy: 76.01507092198581\tAverage Loss: 0.851016668889429\n",
      "Epoch 8:\n",
      "\tTrain: Average Accuracy: 86.84868070362474\tAverage Loss: 0.4619870408628904\n",
      "\tTest: Average Accuracy: 76.7752659574468\tAverage Loss: 0.8270007131233285\n",
      "Epoch 9:\n",
      "\tTrain: Average Accuracy: 87.59328358208955\tAverage Loss: 0.43152269078599215\n",
      "\tTest: Average Accuracy: 77.35372340425532\tAverage Loss: 0.8049160514570364\n",
      "Epoch 10:\n",
      "\tTrain: Average Accuracy: 88.36953624733475\tAverage Loss: 0.40626492791770186\n",
      "\tTest: Average Accuracy: 77.75265957446808\tAverage Loss: 0.7974621521417486\n",
      "Epoch 11:\n",
      "\tTrain: Average Accuracy: 88.94089818763327\tAverage Loss: 0.3852558134024518\n",
      "\tTest: Average Accuracy: 78.16710992907802\tAverage Loss: 0.785287483121893\n",
      "Epoch 12:\n",
      "\tTrain: Average Accuracy: 89.432302771855\tAverage Loss: 0.367347450127851\n",
      "\tTest: Average Accuracy: 78.55274822695037\tAverage Loss: 0.779825621315007\n",
      "Epoch 13:\n",
      "\tTrain: Average Accuracy: 89.85541044776119\tAverage Loss: 0.35241406341955955\n",
      "\tTest: Average Accuracy: 78.91622340425532\tAverage Loss: 0.7786585706363616\n",
      "Epoch 14:\n",
      "\tTrain: Average Accuracy: 90.20189232409382\tAverage Loss: 0.3396584064544472\n",
      "\tTest: Average Accuracy: 79.12898936170212\tAverage Loss: 0.7794922744045065\n",
      "Epoch 15:\n",
      "\tTrain: Average Accuracy: 90.45175906183368\tAverage Loss: 0.32870819325612316\n",
      "\tTest: Average Accuracy: 79.15336879432623\tAverage Loss: 0.7808602139366693\n",
      "Epoch 16:\n",
      "\tTrain: Average Accuracy: 90.70162579957356\tAverage Loss: 0.3189905158326413\n",
      "\tTest: Average Accuracy: 79.35283687943262\tAverage Loss: 0.7831531723617811\n",
      "Epoch 17:\n",
      "\tTrain: Average Accuracy: 90.89652185501066\tAverage Loss: 0.3103713810493885\n",
      "\tTest: Average Accuracy: 79.46808510638297\tAverage Loss: 0.7895586846512623\n",
      "Epoch 18:\n",
      "\tTrain: Average Accuracy: 91.12973081023455\tAverage Loss: 0.3027595574287683\n",
      "\tTest: Average Accuracy: 79.44813829787235\tAverage Loss: 0.7944825709366595\n",
      "Epoch 19:\n",
      "\tTrain: Average Accuracy: 91.44622867803838\tAverage Loss: 0.2960023775156417\n",
      "\tTest: Average Accuracy: 79.46586879432623\tAverage Loss: 0.8024658791629398\n",
      "Epoch 20:\n",
      "\tTrain: Average Accuracy: 91.57949093816632\tAverage Loss: 0.28974897683767864\n",
      "\tTest: Average Accuracy: 79.7052304964539\tAverage Loss: 0.8083714910069921\n"
     ]
    }
   ],
   "source": [
    "network = FeedForwardNN(INPUT_SHAPE)\n",
    "network.add_layer(40, input_shape=INPUT_SHAPE, activation=Relu(), weight_initializer='normal')\n",
    "network.add_layer(40, input_shape=INPUT_SHAPE, activation=Relu() , weight_initializer='normal')\n",
    "network.add_layer(20, activation=Identical(), weight_initializer='normal')\n",
    "network.set_training_param(loss=CrossEntropy(), lr=LEARNING_RATE)\n",
    "\n",
    "log = network.fit(EPOCHS, TRAINLOADER, TESTLOADER)"
   ]
  },
  {
   "cell_type": "markdown",
   "metadata": {},
   "source": [
    "<h1 style = \"font-size: 30px ;color: #235\"> Part 2 </h1>"
   ]
  },
  {
   "cell_type": "markdown",
   "metadata": {},
   "source": [
    "<h1 style = \"font-size: 20px ;color: #479\"> The initial value of weight matrix in network training: <h1/>\n",
    "<h1 style = \"font-size: 15px ;color: #479\"> \n",
    "If we set the initial value of the weight matrix to zero, the values the values of the next layers will be calculated as zero and practically no result will be obtained.As you see in Forward method in Layer class , in each step, for calculating the output of next level , we have to multiply the weight matrix to input , hence the zero values will propagate through the network . <h1/>"
   ]
  },
  {
   "cell_type": "markdown",
   "metadata": {},
   "source": [
    "<h1 style = \"font-size: 30px ;color: #235\"> Part 3 </h1>"
   ]
  },
  {
   "cell_type": "markdown",
   "metadata": {},
   "source": [
    "<h1 style = \"font-size: 20px ;color: #479\"> learning rate </h1>"
   ]
  },
  {
   "cell_type": "code",
   "execution_count": 104,
   "metadata": {},
   "outputs": [],
   "source": [
    "learning_rate = [10**(-5) ,10**(-4),10**(-3),10**(-2),10**(-1)]"
   ]
  },
  {
   "cell_type": "code",
   "execution_count": 105,
   "metadata": {},
   "outputs": [
    {
     "name": "stdout",
     "output_type": "stream",
     "text": [
      "Epoch 1:\n",
      "\tTrain: Average Accuracy: 5.6636460554371\tAverage Loss: 2.9399683327034407\n",
      "\tTest: Average Accuracy: 5.633865248226951\tAverage Loss: 2.9407042702691775\n",
      "Epoch 2:\n",
      "\tTrain: Average Accuracy: 5.653651385927505\tAverage Loss: 2.934335753357213\n",
      "\tTest: Average Accuracy: 5.633865248226951\tAverage Loss: 2.939367013147024\n",
      "Epoch 3:\n",
      "\tTrain: Average Accuracy: 5.670309168443497\tAverage Loss: 2.9327738919394637\n",
      "\tTest: Average Accuracy: 5.633865248226951\tAverage Loss: 2.938154005235973\n",
      "Epoch 4:\n",
      "\tTrain: Average Accuracy: 5.688632729211087\tAverage Loss: 2.931219682950827\n",
      "\tTest: Average Accuracy: 5.640514184397164\tAverage Loss: 2.9369512907068014\n",
      "Epoch 5:\n",
      "\tTrain: Average Accuracy: 5.7086220682302775\tAverage Loss: 2.929662691649965\n",
      "\tTest: Average Accuracy: 5.6471631205673765\tAverage Loss: 2.93574771438829\n",
      "Epoch 6:\n",
      "\tTrain: Average Accuracy: 5.7502665245202556\tAverage Loss: 2.9281019031274695\n",
      "\tTest: Average Accuracy: 5.707003546099291\tAverage Loss: 2.9345406794307802\n",
      "Epoch 7:\n",
      "\tTrain: Average Accuracy: 5.796908315565032\tAverage Loss: 2.9265360710424084\n",
      "\tTest: Average Accuracy: 5.760195035460994\tAverage Loss: 2.933328732719432\n",
      "Epoch 8:\n",
      "\tTrain: Average Accuracy: 5.8585421108742\tAverage Loss: 2.924963791324839\n",
      "\tTest: Average Accuracy: 5.839982269503547\tAverage Loss: 2.9321105179932068\n",
      "Epoch 9:\n",
      "\tTrain: Average Accuracy: 5.9268390191897655\tAverage Loss: 2.923383527798756\n",
      "\tTest: Average Accuracy: 5.906471631205674\tAverage Loss: 2.930884587173002\n",
      "Epoch 10:\n",
      "\tTrain: Average Accuracy: 6.003464818763327\tAverage Loss: 2.9217935892177618\n",
      "\tTest: Average Accuracy: 5.999556737588653\tAverage Loss: 2.9296493413814755\n",
      "Epoch 11:\n",
      "\tTrain: Average Accuracy: 6.090085287846482\tAverage Loss: 2.9201920910623285\n",
      "\tTest: Average Accuracy: 6.085992907801419\tAverage Loss: 2.9284029862409335\n",
      "Epoch 12:\n",
      "\tTrain: Average Accuracy: 6.264992004264393\tAverage Loss: 2.9185769062463813\n",
      "\tTest: Average Accuracy: 6.285460992907802\tAverage Loss: 2.927143480485436\n",
      "Epoch 13:\n",
      "\tTrain: Average Accuracy: 6.393256929637527\tAverage Loss: 2.916945602563832\n",
      "\tTest: Average Accuracy: 6.471631205673759\tAverage Loss: 2.925868471393096\n",
      "Epoch 14:\n",
      "\tTrain: Average Accuracy: 6.5481743070362475\tAverage Loss: 2.915295362613876\n",
      "\tTest: Average Accuracy: 6.624556737588653\tAverage Loss: 2.924575211785673\n",
      "Epoch 15:\n",
      "\tTrain: Average Accuracy: 6.75639658848614\tAverage Loss: 2.913622880113306\n",
      "\tTest: Average Accuracy: 6.784131205673759\tAverage Loss: 2.923260451925254\n",
      "Epoch 16:\n",
      "\tTrain: Average Accuracy: 6.9263059701492535\tAverage Loss: 2.911924224057822\n",
      "\tTest: Average Accuracy: 6.868351063829787\tAverage Loss: 2.9219202970499327\n",
      "Epoch 17:\n",
      "\tTrain: Average Accuracy: 7.142857142857143\tAverage Loss: 2.9101946586609007\n",
      "\tTest: Average Accuracy: 7.027925531914893\tAverage Loss: 2.92055001740736\n",
      "Epoch 18:\n",
      "\tTrain: Average Accuracy: 7.386060767590618\tAverage Loss: 2.908428401789105\n",
      "\tTest: Average Accuracy: 7.267287234042553\tAverage Loss: 2.91914379185013\n",
      "Epoch 19:\n",
      "\tTrain: Average Accuracy: 7.629264392324094\tAverage Loss: 2.906618296820346\n",
      "\tTest: Average Accuracy: 7.42686170212766\tAverage Loss: 2.9176943574320746\n",
      "Epoch 20:\n",
      "\tTrain: Average Accuracy: 7.897454690831556\tAverage Loss: 2.904755361024937\n",
      "\tTest: Average Accuracy: 7.632978723404255\tAverage Loss: 2.916192524003667\n",
      "Epoch 1:\n",
      "\tTrain: Average Accuracy: 5.72194829424307\tAverage Loss: 2.942452437971702\n",
      "\tTest: Average Accuracy: 6.061613475177304\tAverage Loss: 2.9408572511601476\n",
      "Epoch 2:\n",
      "\tTrain: Average Accuracy: 6.62146855010661\tAverage Loss: 2.921627438752248\n",
      "\tTest: Average Accuracy: 8.453014184397162\tAverage Loss: 2.9243425775443415\n",
      "Epoch 3:\n",
      "\tTrain: Average Accuracy: 8.717017590618337\tAverage Loss: 2.899071089808098\n",
      "\tTest: Average Accuracy: 11.742021276595745\tAverage Loss: 2.8996509741216325\n",
      "Epoch 4:\n",
      "\tTrain: Average Accuracy: 14.275719616204691\tAverage Loss: 2.7951358491840805\n",
      "\tTest: Average Accuracy: 16.62677304964539\tAverage Loss: 2.6279079441480095\n",
      "Epoch 5:\n",
      "\tTrain: Average Accuracy: 20.550706289978677\tAverage Loss: 2.4368069089939097\n",
      "\tTest: Average Accuracy: 18.792109929078016\tAverage Loss: 2.4714531394097485\n",
      "Epoch 6:\n",
      "\tTrain: Average Accuracy: 22.88779317697228\tAverage Loss: 2.3380953764012804\n",
      "\tTest: Average Accuracy: 20.518617021276597\tAverage Loss: 2.424005925490739\n",
      "Epoch 7:\n",
      "\tTrain: Average Accuracy: 27.680237206823026\tAverage Loss: 2.2544265765916522\n",
      "\tTest: Average Accuracy: 27.457890070921984\tAverage Loss: 2.3049542023836214\n",
      "Epoch 8:\n",
      "\tTrain: Average Accuracy: 36.43889925373134\tAverage Loss: 2.0226318837181916\n",
      "\tTest: Average Accuracy: 33.836436170212764\tAverage Loss: 2.154493588529136\n",
      "Epoch 9:\n",
      "\tTrain: Average Accuracy: 44.44629530916844\tAverage Loss: 1.8571117505396382\n",
      "\tTest: Average Accuracy: 39.326241134751776\tAverage Loss: 2.057262547446058\n",
      "Epoch 10:\n",
      "\tTrain: Average Accuracy: 51.90065298507463\tAverage Loss: 1.6559402204732674\n",
      "\tTest: Average Accuracy: 43.743351063829785\tAverage Loss: 1.9148939064368404\n",
      "Epoch 11:\n",
      "\tTrain: Average Accuracy: 56.85301172707889\tAverage Loss: 1.4750638551614859\n",
      "\tTest: Average Accuracy: 47.47783687943263\tAverage Loss: 1.793533672450024\n",
      "Epoch 12:\n",
      "\tTrain: Average Accuracy: 61.012460021321964\tAverage Loss: 1.3405340889478117\n",
      "\tTest: Average Accuracy: 51.161347517730505\tAverage Loss: 1.6760520701443162\n",
      "Epoch 13:\n",
      "\tTrain: Average Accuracy: 64.28571428571429\tAverage Loss: 1.235077294327805\n",
      "\tTest: Average Accuracy: 53.953900709219866\tAverage Loss: 1.5922459006140914\n",
      "Epoch 14:\n",
      "\tTrain: Average Accuracy: 66.36960287846482\tAverage Loss: 1.1722014467989514\n",
      "\tTest: Average Accuracy: 55.43661347517731\tAverage Loss: 1.54655275942828\n",
      "Epoch 15:\n",
      "\tTrain: Average Accuracy: 67.66724413646055\tAverage Loss: 1.134559109812877\n",
      "\tTest: Average Accuracy: 56.76196808510638\tAverage Loss: 1.5180676420703632\n",
      "Epoch 16:\n",
      "\tTrain: Average Accuracy: 68.64672174840085\tAverage Loss: 1.1066425808135132\n",
      "\tTest: Average Accuracy: 57.75709219858157\tAverage Loss: 1.4957884592545168\n",
      "Epoch 17:\n",
      "\tTrain: Average Accuracy: 69.41464552238806\tAverage Loss: 1.0822658213190666\n",
      "\tTest: Average Accuracy: 58.36214539007093\tAverage Loss: 1.4757407572485426\n",
      "Epoch 18:\n",
      "\tTrain: Average Accuracy: 70.30750266524521\tAverage Loss: 1.0582874418426282\n",
      "\tTest: Average Accuracy: 59.111258865248224\tAverage Loss: 1.4541133917407831\n",
      "Epoch 19:\n",
      "\tTrain: Average Accuracy: 71.19702825159915\tAverage Loss: 1.032620549829606\n",
      "\tTest: Average Accuracy: 59.96010638297872\tAverage Loss: 1.4297761171137293\n",
      "Epoch 20:\n",
      "\tTrain: Average Accuracy: 72.06489872068231\tAverage Loss: 1.0050808150087487\n",
      "\tTest: Average Accuracy: 60.871010638297875\tAverage Loss: 1.4033001126278888\n",
      "Epoch 1:\n",
      "\tTrain: Average Accuracy: 21.76172707889126\tAverage Loss: 2.4458740067444884\n",
      "\tTest: Average Accuracy: 42.433510638297875\tAverage Loss: 1.9317502374746454\n",
      "Epoch 2:\n",
      "\tTrain: Average Accuracy: 63.099680170575695\tAverage Loss: 1.2523550206169665\n",
      "\tTest: Average Accuracy: 59.525709219858165\tAverage Loss: 1.3989871757004304\n",
      "Epoch 3:\n",
      "\tTrain: Average Accuracy: 73.56243336886993\tAverage Loss: 0.9228308203458137\n",
      "\tTest: Average Accuracy: 66.58909574468085\tAverage Loss: 1.1737117779566248\n",
      "Epoch 4:\n",
      "\tTrain: Average Accuracy: 78.92124200426439\tAverage Loss: 0.7380747148817998\n",
      "\tTest: Average Accuracy: 70.61170212765957\tAverage Loss: 1.0337838800864652\n",
      "Epoch 5:\n",
      "\tTrain: Average Accuracy: 81.98960554371003\tAverage Loss: 0.6318489331874548\n",
      "\tTest: Average Accuracy: 72.90336879432623\tAverage Loss: 0.9533137072414055\n",
      "Epoch 6:\n",
      "\tTrain: Average Accuracy: 83.89692164179104\tAverage Loss: 0.5621372742577183\n",
      "\tTest: Average Accuracy: 74.29742907801419\tAverage Loss: 0.9067553730846549\n",
      "Epoch 7:\n",
      "\tTrain: Average Accuracy: 85.31616471215352\tAverage Loss: 0.512253869568246\n",
      "\tTest: Average Accuracy: 75.27260638297872\tAverage Loss: 0.875256130337703\n",
      "Epoch 8:\n",
      "\tTrain: Average Accuracy: 86.39892057569297\tAverage Loss: 0.47381322573843393\n",
      "\tTest: Average Accuracy: 76.07047872340425\tAverage Loss: 0.850472010574679\n",
      "Epoch 9:\n",
      "\tTrain: Average Accuracy: 87.33342217484008\tAverage Loss: 0.44275296058505426\n",
      "\tTest: Average Accuracy: 76.94813829787235\tAverage Loss: 0.8203506880030681\n",
      "Epoch 10:\n",
      "\tTrain: Average Accuracy: 87.8914578891258\tAverage Loss: 0.4182751948566933\n",
      "\tTest: Average Accuracy: 77.75930851063829\tAverage Loss: 0.8047043653435145\n",
      "Epoch 11:\n",
      "\tTrain: Average Accuracy: 88.43450159914713\tAverage Loss: 0.39876523170434836\n",
      "\tTest: Average Accuracy: 78.07845744680851\tAverage Loss: 0.792649769200459\n",
      "Epoch 12:\n"
     ]
    },
    {
     "name": "stdout",
     "output_type": "stream",
     "text": [
      "\tTrain: Average Accuracy: 88.97088219616205\tAverage Loss: 0.38197586911535586\n",
      "\tTest: Average Accuracy: 78.50177304964538\tAverage Loss: 0.7817520926459297\n",
      "Epoch 13:\n",
      "\tTrain: Average Accuracy: 89.30237206823028\tAverage Loss: 0.3677849668008667\n",
      "\tTest: Average Accuracy: 78.79654255319149\tAverage Loss: 0.775612985168948\n",
      "Epoch 14:\n",
      "\tTrain: Average Accuracy: 89.72214818763327\tAverage Loss: 0.35493461812422306\n",
      "\tTest: Average Accuracy: 78.92287234042553\tAverage Loss: 0.7733364970018157\n",
      "Epoch 15:\n",
      "\tTrain: Average Accuracy: 90.05863539445629\tAverage Loss: 0.34366654131854835\n",
      "\tTest: Average Accuracy: 78.99601063829788\tAverage Loss: 0.7729618241244058\n",
      "Epoch 16:\n",
      "\tTrain: Average Accuracy: 90.35847547974414\tAverage Loss: 0.33366295174889055\n",
      "\tTest: Average Accuracy: 79.08909574468085\tAverage Loss: 0.7760543904723346\n",
      "Epoch 17:\n",
      "\tTrain: Average Accuracy: 90.60001332622602\tAverage Loss: 0.32492198744390083\n",
      "\tTest: Average Accuracy: 79.11569148936171\tAverage Loss: 0.7780128109663941\n",
      "Epoch 18:\n",
      "\tTrain: Average Accuracy: 90.78824626865672\tAverage Loss: 0.31694023732002585\n",
      "\tTest: Average Accuracy: 79.23537234042553\tAverage Loss: 0.7848047335064026\n",
      "Epoch 19:\n",
      "\tTrain: Average Accuracy: 91.00646321961621\tAverage Loss: 0.3094688414550577\n",
      "\tTest: Average Accuracy: 79.18882978723404\tAverage Loss: 0.7941201401310611\n",
      "Epoch 20:\n",
      "\tTrain: Average Accuracy: 91.18803304904051\tAverage Loss: 0.30281020920968\n",
      "\tTest: Average Accuracy: 79.04920212765957\tAverage Loss: 0.8035441024293137\n",
      "Epoch 1:\n",
      "\tTrain: Average Accuracy: 5.542044243070363\tAverage Loss: 2.9648374417461087\n",
      "\tTest: Average Accuracy: 5.680407801418441\tAverage Loss: 2.950337290083481\n",
      "Epoch 2:\n",
      "\tTrain: Average Accuracy: 5.553704690831556\tAverage Loss: 2.9516135400561914\n",
      "\tTest: Average Accuracy: 5.680407801418441\tAverage Loss: 2.9503347274516645\n",
      "Epoch 3:\n",
      "\tTrain: Average Accuracy: 5.553704690831556\tAverage Loss: 2.9516134269346006\n",
      "\tTest: Average Accuracy: 5.680407801418441\tAverage Loss: 2.9503347046020347\n",
      "Epoch 4:\n",
      "\tTrain: Average Accuracy: 5.553704690831556\tAverage Loss: 2.9516134260955424\n",
      "\tTest: Average Accuracy: 5.680407801418441\tAverage Loss: 2.950334704374079\n",
      "Epoch 5:\n",
      "\tTrain: Average Accuracy: 5.553704690831556\tAverage Loss: 2.951613426087191\n",
      "\tTest: Average Accuracy: 5.680407801418441\tAverage Loss: 2.950334704371802\n",
      "Epoch 6:\n",
      "\tTrain: Average Accuracy: 5.553704690831556\tAverage Loss: 2.951613426087108\n",
      "\tTest: Average Accuracy: 5.680407801418441\tAverage Loss: 2.9503347043717794\n",
      "Epoch 7:\n",
      "\tTrain: Average Accuracy: 5.553704690831556\tAverage Loss: 2.9516134260871065\n",
      "\tTest: Average Accuracy: 5.680407801418441\tAverage Loss: 2.950334704371779\n",
      "Epoch 8:\n",
      "\tTrain: Average Accuracy: 5.553704690831556\tAverage Loss: 2.9516134260871065\n",
      "\tTest: Average Accuracy: 5.680407801418441\tAverage Loss: 2.95033470437178\n",
      "Epoch 9:\n",
      "\tTrain: Average Accuracy: 5.553704690831556\tAverage Loss: 2.9516134260871065\n",
      "\tTest: Average Accuracy: 5.680407801418441\tAverage Loss: 2.95033470437178\n",
      "Epoch 10:\n",
      "\tTrain: Average Accuracy: 5.553704690831556\tAverage Loss: 2.9516134260871065\n",
      "\tTest: Average Accuracy: 5.680407801418441\tAverage Loss: 2.95033470437178\n",
      "Epoch 11:\n",
      "\tTrain: Average Accuracy: 5.553704690831556\tAverage Loss: 2.9516134260871065\n",
      "\tTest: Average Accuracy: 5.680407801418441\tAverage Loss: 2.95033470437178\n",
      "Epoch 12:\n",
      "\tTrain: Average Accuracy: 5.553704690831556\tAverage Loss: 2.9516134260871065\n",
      "\tTest: Average Accuracy: 5.680407801418441\tAverage Loss: 2.95033470437178\n",
      "Epoch 13:\n",
      "\tTrain: Average Accuracy: 5.553704690831556\tAverage Loss: 2.9516134260871065\n",
      "\tTest: Average Accuracy: 5.680407801418441\tAverage Loss: 2.95033470437178\n",
      "Epoch 14:\n",
      "\tTrain: Average Accuracy: 5.553704690831556\tAverage Loss: 2.9516134260871065\n",
      "\tTest: Average Accuracy: 5.680407801418441\tAverage Loss: 2.95033470437178\n",
      "Epoch 15:\n",
      "\tTrain: Average Accuracy: 5.553704690831556\tAverage Loss: 2.9516134260871065\n",
      "\tTest: Average Accuracy: 5.680407801418441\tAverage Loss: 2.95033470437178\n",
      "Epoch 16:\n",
      "\tTrain: Average Accuracy: 5.553704690831556\tAverage Loss: 2.9516134260871065\n",
      "\tTest: Average Accuracy: 5.680407801418441\tAverage Loss: 2.95033470437178\n",
      "Epoch 17:\n",
      "\tTrain: Average Accuracy: 5.553704690831556\tAverage Loss: 2.9516134260871065\n",
      "\tTest: Average Accuracy: 5.680407801418441\tAverage Loss: 2.95033470437178\n",
      "Epoch 18:\n",
      "\tTrain: Average Accuracy: 5.553704690831556\tAverage Loss: 2.9516134260871065\n",
      "\tTest: Average Accuracy: 5.680407801418441\tAverage Loss: 2.95033470437178\n",
      "Epoch 19:\n",
      "\tTrain: Average Accuracy: 5.553704690831556\tAverage Loss: 2.9516134260871065\n",
      "\tTest: Average Accuracy: 5.680407801418441\tAverage Loss: 2.95033470437178\n",
      "Epoch 20:\n",
      "\tTrain: Average Accuracy: 5.553704690831556\tAverage Loss: 2.9516134260871065\n",
      "\tTest: Average Accuracy: 5.680407801418441\tAverage Loss: 2.95033470437178\n",
      "Epoch 1:\n",
      "\tTrain: Average Accuracy: 5.695295842217484\tAverage Loss: 3.19109848441084\n",
      "\tTest: Average Accuracy: 5.702570921985815\tAverage Loss: 2.9751996978610458\n",
      "Epoch 2:\n",
      "\tTrain: Average Accuracy: 5.720282515991471\tAverage Loss: 2.9770290869726024\n",
      "\tTest: Average Accuracy: 5.702570921985815\tAverage Loss: 2.9751996978610458\n",
      "Epoch 3:\n",
      "\tTrain: Average Accuracy: 5.720282515991471\tAverage Loss: 2.9770290869726024\n",
      "\tTest: Average Accuracy: 5.702570921985815\tAverage Loss: 2.9751996978610458\n",
      "Epoch 4:\n",
      "\tTrain: Average Accuracy: 5.720282515991471\tAverage Loss: 2.9770290869726024\n",
      "\tTest: Average Accuracy: 5.702570921985815\tAverage Loss: 2.9751996978610458\n",
      "Epoch 5:\n",
      "\tTrain: Average Accuracy: 5.720282515991471\tAverage Loss: 2.9770290869726024\n",
      "\tTest: Average Accuracy: 5.702570921985815\tAverage Loss: 2.9751996978610458\n",
      "Epoch 6:\n",
      "\tTrain: Average Accuracy: 5.720282515991471\tAverage Loss: 2.9770290869726024\n",
      "\tTest: Average Accuracy: 5.702570921985815\tAverage Loss: 2.9751996978610458\n",
      "Epoch 7:\n",
      "\tTrain: Average Accuracy: 5.720282515991471\tAverage Loss: 2.9770290869726024\n",
      "\tTest: Average Accuracy: 5.702570921985815\tAverage Loss: 2.9751996978610458\n",
      "Epoch 8:\n",
      "\tTrain: Average Accuracy: 5.720282515991471\tAverage Loss: 2.9770290869726024\n",
      "\tTest: Average Accuracy: 5.702570921985815\tAverage Loss: 2.9751996978610458\n",
      "Epoch 9:\n",
      "\tTrain: Average Accuracy: 5.720282515991471\tAverage Loss: 2.9770290869726024\n",
      "\tTest: Average Accuracy: 5.702570921985815\tAverage Loss: 2.9751996978610458\n",
      "Epoch 10:\n",
      "\tTrain: Average Accuracy: 5.720282515991471\tAverage Loss: 2.9770290869726024\n",
      "\tTest: Average Accuracy: 5.702570921985815\tAverage Loss: 2.9751996978610458\n",
      "Epoch 11:\n",
      "\tTrain: Average Accuracy: 5.720282515991471\tAverage Loss: 2.9770290869726024\n",
      "\tTest: Average Accuracy: 5.702570921985815\tAverage Loss: 2.9751996978610458\n",
      "Epoch 12:\n",
      "\tTrain: Average Accuracy: 5.720282515991471\tAverage Loss: 2.9770290869726024\n",
      "\tTest: Average Accuracy: 5.702570921985815\tAverage Loss: 2.9751996978610458\n",
      "Epoch 13:\n",
      "\tTrain: Average Accuracy: 5.720282515991471\tAverage Loss: 2.9770290869726024\n",
      "\tTest: Average Accuracy: 5.702570921985815\tAverage Loss: 2.9751996978610458\n",
      "Epoch 14:\n",
      "\tTrain: Average Accuracy: 5.720282515991471\tAverage Loss: 2.9770290869726024\n",
      "\tTest: Average Accuracy: 5.702570921985815\tAverage Loss: 2.9751996978610458\n",
      "Epoch 15:\n",
      "\tTrain: Average Accuracy: 5.720282515991471\tAverage Loss: 2.9770290869726024\n",
      "\tTest: Average Accuracy: 5.702570921985815\tAverage Loss: 2.9751996978610458\n",
      "Epoch 16:\n",
      "\tTrain: Average Accuracy: 5.720282515991471\tAverage Loss: 2.9770290869726024\n",
      "\tTest: Average Accuracy: 5.702570921985815\tAverage Loss: 2.9751996978610458\n",
      "Epoch 17:\n",
      "\tTrain: Average Accuracy: 5.720282515991471\tAverage Loss: 2.9770290869726024\n",
      "\tTest: Average Accuracy: 5.702570921985815\tAverage Loss: 2.9751996978610458\n",
      "Epoch 18:\n",
      "\tTrain: Average Accuracy: 5.720282515991471\tAverage Loss: 2.9770290869726024\n",
      "\tTest: Average Accuracy: 5.702570921985815\tAverage Loss: 2.9751996978610458\n",
      "Epoch 19:\n",
      "\tTrain: Average Accuracy: 5.720282515991471\tAverage Loss: 2.9770290869726024\n",
      "\tTest: Average Accuracy: 5.702570921985815\tAverage Loss: 2.9751996978610458\n",
      "Epoch 20:\n",
      "\tTrain: Average Accuracy: 5.720282515991471\tAverage Loss: 2.9770290869726024\n",
      "\tTest: Average Accuracy: 5.702570921985815\tAverage Loss: 2.9751996978610458\n"
     ]
    }
   ],
   "source": [
    "result = []\n",
    "for L_R in learning_rate:\n",
    "    network = FeedForwardNN(INPUT_SHAPE)\n",
    "    network.add_layer(40, input_shape=INPUT_SHAPE, activation=Relu(), weight_initializer='normal')\n",
    "    network.add_layer(40, input_shape=INPUT_SHAPE, activation=Relu(), weight_initializer='normal')\n",
    "    network.add_layer(20, activation=Identical(), weight_initializer='normal')\n",
    "    network.set_training_param(loss=CrossEntropy(), lr=L_R)\n",
    "    log = network.fit(EPOCHS, TRAINLOADER, TESTLOADER)\n",
    "    result.append(log)"
   ]
  },
  {
   "cell_type": "code",
   "execution_count": 106,
   "metadata": {},
   "outputs": [],
   "source": [
    "def optimal_value(result,reff_list) :  \n",
    "    best_result_train_accuracy = []\n",
    "    best_result_train_loss = []\n",
    "    best_result_test_accuracy = []\n",
    "    best_result_test_loss = []\n",
    "    for i in range(len(result)):\n",
    "        log = result[i]\n",
    "        best_result_train_accuracy.append(log[\"train_accuracy\"][-1])\n",
    "        best_result_train_loss.append(log[\"train_loss\"][-1])\n",
    "        best_result_test_accuracy.append(log[\"test_accuracy\"][-1])\n",
    "        best_result_test_loss.append(log[\"test_loss\"][-1])\n",
    "    max_index_train_accuracy = best_result_train_accuracy.index(max(best_result_train_accuracy))\n",
    "    min_index_train_loss = best_result_train_loss.index(min(best_result_train_loss))\n",
    "    max_index_test_accuracy = best_result_test_accuracy.index(max(best_result_test_accuracy))\n",
    "    min_index_test_loss = best_result_test_loss.index(min(best_result_test_loss))\n",
    "    print(reff_list[max_index_train_accuracy])\n",
    "    print(reff_list[min_index_train_loss])\n",
    "    print(reff_list[max_index_test_accuracy])\n",
    "    print(reff_list[min_index_test_loss])\n",
    "    print(\" The optimal value for learning rate is \",reff_list[min_index_test_loss])"
   ]
  },
  {
   "cell_type": "code",
   "execution_count": 107,
   "metadata": {},
   "outputs": [
    {
     "name": "stdout",
     "output_type": "stream",
     "text": [
      "0.001\n",
      "0.001\n",
      "0.001\n",
      "0.001\n",
      " The optimal value for learning rate is  0.001\n"
     ]
    }
   ],
   "source": [
    "optimal_value(result,learning_rate)"
   ]
  },
  {
   "cell_type": "markdown",
   "metadata": {},
   "source": [
    "<h1 style = \"font-size: 30px ;color: #235\"> Part 4 </h1>"
   ]
  },
  {
   "cell_type": "code",
   "execution_count": 110,
   "metadata": {},
   "outputs": [],
   "source": [
    "INPUT_SHAPE = 28*28\n",
    "LEARNING_RATE = 10**(-3)\n",
    "EPOCHS = 20\n",
    "BATCH_SIZE = 64\n",
    "TRAINLOADER = Dataloader(train_images, train_labels, 20, BATCH_SIZE)\n",
    "TESTLOADER = Dataloader(test_images, test_labels, 20, BATCH_SIZE)"
   ]
  },
  {
   "cell_type": "markdown",
   "metadata": {},
   "source": [
    "<h1 style = \"font-size: 30px ;color: #479\"> Sigmoid </h1>"
   ]
  },
  {
   "cell_type": "code",
   "execution_count": 111,
   "metadata": {},
   "outputs": [
    {
     "name": "stdout",
     "output_type": "stream",
     "text": [
      "Epoch 1:\n",
      "\tTrain: Average Accuracy: 5.673640724946695\tAverage Loss: 2.955000045117581\n",
      "\tTest: Average Accuracy: 5.680407801418441\tAverage Loss: 2.9529600397011815\n",
      "Epoch 2:\n",
      "\tTrain: Average Accuracy: 5.7669243070362475\tAverage Loss: 2.9532406864202363\n",
      "\tTest: Average Accuracy: 5.680407801418441\tAverage Loss: 2.951798208128726\n",
      "Epoch 3:\n",
      "\tTrain: Average Accuracy: 5.998467484008529\tAverage Loss: 2.951403071222916\n",
      "\tTest: Average Accuracy: 5.680407801418441\tAverage Loss: 2.949239147625669\n",
      "Epoch 4:\n",
      "\tTrain: Average Accuracy: 7.627598614072495\tAverage Loss: 2.9420626312819893\n",
      "\tTest: Average Accuracy: 8.46409574468085\tAverage Loss: 2.930706426972821\n",
      "Epoch 5:\n",
      "\tTrain: Average Accuracy: 11.062433368869936\tAverage Loss: 2.82851874348524\n",
      "\tTest: Average Accuracy: 10.079787234042554\tAverage Loss: 2.7724601147444745\n",
      "Epoch 6:\n",
      "\tTrain: Average Accuracy: 11.815365138592751\tAverage Loss: 2.687773213770744\n",
      "\tTest: Average Accuracy: 11.92154255319149\tAverage Loss: 2.7159910607668\n",
      "Epoch 7:\n",
      "\tTrain: Average Accuracy: 12.724880063965886\tAverage Loss: 2.6458894968141173\n",
      "\tTest: Average Accuracy: 12.954343971631204\tAverage Loss: 2.671392292424935\n",
      "Epoch 8:\n",
      "\tTrain: Average Accuracy: 14.898720682302772\tAverage Loss: 2.566541106766367\n",
      "\tTest: Average Accuracy: 16.356382978723403\tAverage Loss: 2.58524463117466\n",
      "Epoch 9:\n",
      "\tTrain: Average Accuracy: 17.294109808102345\tAverage Loss: 2.458874054524252\n",
      "\tTest: Average Accuracy: 17.88563829787234\tAverage Loss: 2.5176181376110347\n",
      "Epoch 10:\n",
      "\tTrain: Average Accuracy: 19.268057036247335\tAverage Loss: 2.3853424637772327\n",
      "\tTest: Average Accuracy: 19.858156028368793\tAverage Loss: 2.469409831482308\n",
      "Epoch 11:\n"
     ]
    },
    {
     "name": "stderr",
     "output_type": "stream",
     "text": [
      "/usr/local/lib/python3.7/site-packages/ipykernel_launcher.py:66: RuntimeWarning: overflow encountered in exp\n"
     ]
    },
    {
     "name": "stdout",
     "output_type": "stream",
     "text": [
      "\tTrain: Average Accuracy: 20.737273454157783\tAverage Loss: 2.3324113840537692\n",
      "\tTest: Average Accuracy: 21.039450354609933\tAverage Loss: 2.4297082107148333\n",
      "Epoch 12:\n",
      "\tTrain: Average Accuracy: 22.881130063965884\tAverage Loss: 2.28702059414978\n",
      "\tTest: Average Accuracy: 22.320478723404257\tAverage Loss: 2.3914875262461472\n",
      "Epoch 13:\n",
      "\tTrain: Average Accuracy: 24.35867537313433\tAverage Loss: 2.2604731781498493\n",
      "\tTest: Average Accuracy: 23.173758865248228\tAverage Loss: 2.373378801339166\n",
      "Epoch 14:\n",
      "\tTrain: Average Accuracy: 24.93503464818763\tAverage Loss: 2.2567683309231428\n",
      "\tTest: Average Accuracy: 22.95212765957447\tAverage Loss: 2.373563225775006\n",
      "Epoch 15:\n",
      "\tTrain: Average Accuracy: 26.044442963752665\tAverage Loss: 2.2577293149598483\n",
      "\tTest: Average Accuracy: 23.829787234042552\tAverage Loss: 2.3824375139313703\n",
      "Epoch 16:\n",
      "\tTrain: Average Accuracy: 26.1693763326226\tAverage Loss: 2.258803645890478\n",
      "\tTest: Average Accuracy: 23.034131205673763\tAverage Loss: 2.3953857978200697\n",
      "Epoch 17:\n",
      "\tTrain: Average Accuracy: 25.149920042643924\tAverage Loss: 2.2660623462017875\n",
      "\tTest: Average Accuracy: 22.788120567375888\tAverage Loss: 2.413260370024738\n",
      "Epoch 18:\n",
      "\tTrain: Average Accuracy: 24.696828358208954\tAverage Loss: 2.2771577537851226\n",
      "\tTest: Average Accuracy: 21.770833333333336\tAverage Loss: 2.4236959882363225\n",
      "Epoch 19:\n",
      "\tTrain: Average Accuracy: 25.13659381663113\tAverage Loss: 2.283436911387165\n",
      "\tTest: Average Accuracy: 23.118351063829788\tAverage Loss: 2.425307987266576\n",
      "Epoch 20:\n",
      "\tTrain: Average Accuracy: 27.681902985074625\tAverage Loss: 2.2646072915686886\n",
      "\tTest: Average Accuracy: 27.38031914893617\tAverage Loss: 2.3794779735490112\n"
     ]
    }
   ],
   "source": [
    "network = FeedForwardNN(INPUT_SHAPE)\n",
    "network.add_layer(40, input_shape=INPUT_SHAPE, activation=Sigmoid(), weight_initializer='normal')\n",
    "network.add_layer(40, input_shape=INPUT_SHAPE, activation=Sigmoid() , weight_initializer='normal')\n",
    "network.add_layer(20, activation=Identical(), weight_initializer='normal')\n",
    "network.set_training_param(loss=CrossEntropy(), lr=LEARNING_RATE)\n",
    "\n",
    "log = network.fit(EPOCHS, TRAINLOADER, TESTLOADER)"
   ]
  },
  {
   "cell_type": "markdown",
   "metadata": {},
   "source": [
    "<h1 style = \"font-size: 30px ;color: #479\"> Tanh </h1>"
   ]
  },
  {
   "cell_type": "code",
   "execution_count": 112,
   "metadata": {},
   "outputs": [
    {
     "name": "stdout",
     "output_type": "stream",
     "text": [
      "Epoch 1:\n",
      "\tTrain: Average Accuracy: 5.821894989339019\tAverage Loss: 2.953154930626733\n",
      "\tTest: Average Accuracy: 6.185726950354611\tAverage Loss: 2.947914859476536\n",
      "Epoch 2:\n",
      "\tTrain: Average Accuracy: 11.014125799573561\tAverage Loss: 2.7975206393795724\n",
      "\tTest: Average Accuracy: 16.13031914893617\tAverage Loss: 2.538304476423041\n",
      "Epoch 3:\n",
      "\tTrain: Average Accuracy: 27.200493070362473\tAverage Loss: 2.19866994098936\n",
      "\tTest: Average Accuracy: 32.160904255319146\tAverage Loss: 2.1586906892737874\n",
      "Epoch 4:\n",
      "\tTrain: Average Accuracy: 49.44696162046908\tAverage Loss: 1.6608227071235613\n",
      "\tTest: Average Accuracy: 48.523936170212764\tAverage Loss: 1.7548838446085497\n",
      "Epoch 5:\n",
      "\tTrain: Average Accuracy: 64.72214818763327\tAverage Loss: 1.2120836019859014\n",
      "\tTest: Average Accuracy: 58.599290780141835\tAverage Loss: 1.436453868972254\n",
      "Epoch 6:\n",
      "\tTrain: Average Accuracy: 72.59961353944563\tAverage Loss: 0.9588479644528447\n",
      "\tTest: Average Accuracy: 63.89627659574468\tAverage Loss: 1.2824203794543256\n",
      "Epoch 7:\n",
      "\tTrain: Average Accuracy: 76.47254797441364\tAverage Loss: 0.8326573978479449\n",
      "\tTest: Average Accuracy: 67.70833333333334\tAverage Loss: 1.174266482163533\n",
      "Epoch 8:\n",
      "\tTrain: Average Accuracy: 78.96954957356077\tAverage Loss: 0.7500987092745243\n",
      "\tTest: Average Accuracy: 69.5168439716312\tAverage Loss: 1.1032042854627797\n",
      "Epoch 9:\n",
      "\tTrain: Average Accuracy: 80.36380597014926\tAverage Loss: 0.6995384851616162\n",
      "\tTest: Average Accuracy: 70.57402482269505\tAverage Loss: 1.0638239916664682\n",
      "Epoch 10:\n",
      "\tTrain: Average Accuracy: 80.94183102345416\tAverage Loss: 0.6721765073623029\n",
      "\tTest: Average Accuracy: 71.07934397163122\tAverage Loss: 1.0442893952572423\n",
      "Epoch 11:\n",
      "\tTrain: Average Accuracy: 81.37326759061834\tAverage Loss: 0.6567462070284426\n",
      "\tTest: Average Accuracy: 71.03280141843973\tAverage Loss: 1.0410826305921954\n",
      "Epoch 12:\n",
      "\tTrain: Average Accuracy: 81.53318230277185\tAverage Loss: 0.6502876551146264\n",
      "\tTest: Average Accuracy: 71.13475177304963\tAverage Loss: 1.0396438468153362\n",
      "Epoch 13:\n",
      "\tTrain: Average Accuracy: 81.52152185501066\tAverage Loss: 0.6472097285714019\n",
      "\tTest: Average Accuracy: 71.21675531914893\tAverage Loss: 1.0389666581028147\n",
      "Epoch 14:\n",
      "\tTrain: Average Accuracy: 81.61313965884861\tAverage Loss: 0.645910621572359\n",
      "\tTest: Average Accuracy: 70.95966312056738\tAverage Loss: 1.0404923091017244\n",
      "Epoch 15:\n",
      "\tTrain: Average Accuracy: 81.65978144989339\tAverage Loss: 0.6444340744287297\n",
      "\tTest: Average Accuracy: 70.91755319148936\tAverage Loss: 1.0472252173982894\n",
      "Epoch 16:\n",
      "\tTrain: Average Accuracy: 81.49653518123668\tAverage Loss: 0.6430428119596296\n",
      "\tTest: Average Accuracy: 70.43882978723404\tAverage Loss: 1.0490639755637081\n",
      "Epoch 17:\n",
      "\tTrain: Average Accuracy: 81.52318763326225\tAverage Loss: 0.6455814854504212\n",
      "\tTest: Average Accuracy: 70.87765957446808\tAverage Loss: 1.0471474202723583\n",
      "Epoch 18:\n",
      "\tTrain: Average Accuracy: 81.30163912579957\tAverage Loss: 0.6519224587355544\n",
      "\tTest: Average Accuracy: 70.3878546099291\tAverage Loss: 1.0613096606213204\n",
      "Epoch 19:\n",
      "\tTrain: Average Accuracy: 80.88352878464819\tAverage Loss: 0.6666359926343401\n",
      "\tTest: Average Accuracy: 70.02216312056738\tAverage Loss: 1.0823156445883584\n",
      "Epoch 20:\n",
      "\tTrain: Average Accuracy: 80.30716950959489\tAverage Loss: 0.6855401879113687\n",
      "\tTest: Average Accuracy: 69.67198581560284\tAverage Loss: 1.101982943469852\n"
     ]
    }
   ],
   "source": [
    "network = FeedForwardNN(INPUT_SHAPE)\n",
    "network.add_layer(40, input_shape=INPUT_SHAPE, activation=Tanh(), weight_initializer='normal')\n",
    "network.add_layer(40, input_shape=INPUT_SHAPE, activation=Tanh() , weight_initializer='normal')\n",
    "network.add_layer(20, activation=Identical(), weight_initializer='normal')\n",
    "network.set_training_param(loss=CrossEntropy(), lr=LEARNING_RATE)\n",
    "\n",
    "log = network.fit(EPOCHS, TRAINLOADER, TESTLOADER)"
   ]
  },
  {
   "cell_type": "markdown",
   "metadata": {},
   "source": [
    "<h1 style = \"font-size: 30px ;color: #479\"> Leaky Relu </h1>"
   ]
  },
  {
   "cell_type": "code",
   "execution_count": 161,
   "metadata": {},
   "outputs": [
    {
     "name": "stdout",
     "output_type": "stream",
     "text": [
      "Epoch 1:\n",
      "\tTrain: Average Accuracy: 19.588333333333335\tAverage Loss: 2.510318188182318\n",
      "\tTest: Average Accuracy: 35.789800995024876\tAverage Loss: 2.1557115355898344\n",
      "Epoch 2:\n",
      "\tTrain: Average Accuracy: 58.708333333333336\tAverage Loss: 1.4119797993107248\n",
      "\tTest: Average Accuracy: 56.01234896943853\tAverage Loss: 1.5771198752565716\n",
      "Epoch 3:\n",
      "\tTrain: Average Accuracy: 67.78333333333333\tAverage Loss: 1.128257432277683\n",
      "\tTest: Average Accuracy: 58.93967661691542\tAverage Loss: 1.491578421875108\n",
      "Epoch 4:\n",
      "\tTrain: Average Accuracy: 69.50333333333333\tAverage Loss: 1.0929980744777725\n",
      "\tTest: Average Accuracy: 58.07347192608386\tAverage Loss: 1.571643538748982\n",
      "Epoch 5:\n",
      "\tTrain: Average Accuracy: 67.20666666666666\tAverage Loss: 1.2139173059324708\n",
      "\tTest: Average Accuracy: 53.41373489694386\tAverage Loss: 2.0319449468502073\n",
      "Epoch 6:\n",
      "\tTrain: Average Accuracy: 63.501666666666665\tAverage Loss: 1.678857201813175\n",
      "\tTest: Average Accuracy: 49.86895877754087\tAverage Loss: 3.273781513541248\n",
      "Epoch 7:\n",
      "\tTrain: Average Accuracy: 63.385\tAverage Loss: 2.2763420305267963\n",
      "\tTest: Average Accuracy: 51.07054015636105\tAverage Loss: 4.426965520406743\n",
      "Epoch 8:\n"
     ]
    },
    {
     "name": "stderr",
     "output_type": "stream",
     "text": [
      "/usr/local/lib/python3.7/site-packages/ipykernel_launcher.py:9: RuntimeWarning: divide by zero encountered in log\n",
      "  if __name__ == '__main__':\n",
      "/usr/local/lib/python3.7/site-packages/ipykernel_launcher.py:9: RuntimeWarning: invalid value encountered in multiply\n",
      "  if __name__ == '__main__':\n"
     ]
    },
    {
     "name": "stdout",
     "output_type": "stream",
     "text": [
      "\tTrain: Average Accuracy: 66.50166666666667\tAverage Loss: nan\n",
      "\tTest: Average Accuracy: 56.42324093816631\tAverage Loss: 3.414852853691216\n",
      "Epoch 9:\n",
      "\tTrain: Average Accuracy: 67.96333333333334\tAverage Loss: nan\n",
      "\tTest: Average Accuracy: 57.011815920398014\tAverage Loss: nan\n",
      "Epoch 10:\n",
      "\tTrain: Average Accuracy: 66.72\tAverage Loss: nan\n",
      "\tTest: Average Accuracy: 57.17173063255153\tAverage Loss: nan\n"
     ]
    }
   ],
   "source": [
    "INPUT_SHAPE = 28*28\n",
    "LEARNING_RATE = 10**(-3)\n",
    "EPOCHS = 10\n",
    "BATCH_SIZE = 32\n",
    "TRAINLOADER = Dataloader(train_images, train_labels, 20, BATCH_SIZE)\n",
    "TESTLOADER = Dataloader(test_images, test_labels, 20, BATCH_SIZE)\n",
    "network = FeedForwardNN(INPUT_SHAPE)\n",
    "network.add_layer(40, input_shape=INPUT_SHAPE, activation=LeakyRelu(), weight_initializer='normal')\n",
    "network.add_layer(40, input_shape=INPUT_SHAPE, activation=LeakyRelu() , weight_initializer='normal')\n",
    "network.add_layer(20, activation=Identical(), weight_initializer='normal')\n",
    "network.set_training_param(loss=CrossEntropy(), lr=LEARNING_RATE)\n",
    "\n",
    "log = network.fit(EPOCHS, TRAINLOADER, TESTLOADER)"
   ]
  },
  {
   "cell_type": "markdown",
   "metadata": {},
   "source": [
    "<h1 style = \"font-size: 20px ;\"> Why Leaky-Relu is better than Relu?¶ <br/></h1>\n",
    "    <h1 style = \"font-size: 15px ;color: #479\"> \n",
    "ReLU : A Rectified Linear Unit has output 0 if the input is less than 0, and raw output otherwise. That is, if the input is greater than 0, the output is equal to the input. The operation of ReLU is closer to the way our biological neurons work. ReLU is non-linear and has the advantage of not having any backpropagation errors unlike the sigmoid function, also for larger Neural Networks, the speed of building models based off on ReLU is very fast opposed to using Sigmoids .<br/>\n",
    "One of the conditions on ReLU is the usage, it can only be used in hidden layers and not elsewhere but ReLU sometimes leads to dead neuron problem, leaky ReLU overcomes that. While training a deep neural network, during backpropagation stage, zero values' gradient descents become zero again and they do not converge to good local minimum. It is a dead end situation. Leaky ReLU substitutes zero values with some small value . So, for leaky ReLU,  So, for leaky ReLU, the function f(x) = max(0.001x, x). Now gradient descent of 0.001x will be having a non-zero value and it will continue learning without reaching dead end. Hence, leaky ReLU performs better than ReLU .<br/>\n",
    "\n",
    "Secondly, it is faster than Relu in training , because having the “mean activation” be close to 0 makes training faster.\n",
    "\n",
    "Finally, unlike Relu, Leaky-Relu is more “balanced,” and may therefore learn faster. <h1/>"
   ]
  },
  {
   "cell_type": "markdown",
   "metadata": {},
   "source": [
    "<h1 style = \"font-size: 20px \">  Why Sigmoid and Tanh do not work well?<br/></h1>\n",
    "        <h1 style = \"font-size: 15px ;color: #479\"> \n",
    "First Problem with Sigmoid is that when the neuron's activation saturates at either tail of 0 or 1, the gradient at these regions is almost zero. Therefore, if the local gradient is very small, it will effectively \"kill\" the gradient and almost no signal will flow through the neuron to its weights and recursively to its data. Additionally, we must pay extra caution when initializing the weights of sigmoid neurons to prevent saturation. If the initial weights are too large then most neurons would become saturated and the network will barely learn.\n",
    "\n",
    "Second Problem with Sigmoid is that its outputs are not zero-centered . This is undesirable since neurons in later layers of processing in a Neural Network would be receiving data that is not zero-centered. This has implications on the dynamics during gradient descent, because if the data coming into a neuron is always positive, then the gradient on the weights w will during backpropagation become either all be positive, or all negative. This could introduce undesirable zig-zagging dynamics in the gradient updates for the weights. However, notice that once these gradients are added up across a batch of data the final update for the weights can have variable signs, somewhat mitigating this issue. Therefore, this is an inconvenience but it has less severe consequences compared to the saturated activation problem above.\n",
    "\n",
    "Tanh squashes a real-valued number to the range [-1, 1]. Like the Sigmoid neuron, its activations saturate, but unlike the Sigmoid neuron its output is zero-centered. Therefore, in practice the Tanh non-linearity is always preferred to the sigmoid nonlinearity.<h1/>"
   ]
  },
  {
   "cell_type": "markdown",
   "metadata": {},
   "source": [
    "<h1 style = \"font-size: 30px ;color: #235\"> Part 5  </h1>"
   ]
  },
  {
   "cell_type": "markdown",
   "metadata": {},
   "source": [
    "<h1 style = \"font-size: 20px ;color: #479\"> batch size </h1>"
   ]
  },
  {
   "cell_type": "markdown",
   "metadata": {},
   "source": [
    "<h1 style = \"font-size: 20px ;color: #479\"> In this part I'm going to evaluate the effect of batch value on the convergence of the algorithm and determine the optimal value :</h1>"
   ]
  },
  {
   "cell_type": "code",
   "execution_count": 117,
   "metadata": {},
   "outputs": [],
   "source": [
    "batch_size = [16 , 32 , 256]"
   ]
  },
  {
   "cell_type": "code",
   "execution_count": 128,
   "metadata": {},
   "outputs": [],
   "source": [
    "INPUT_SHAPE = 28*28\n",
    "LEARNING_RATE = 10**(-3)\n",
    "EPOCHS = 20\n",
    "BATCH_SIZE = 64\n",
    "TRAINLOADER = Dataloader(train_images, train_labels, 20, BATCH_SIZE)\n",
    "TESTLOADER = Dataloader(test_images, test_labels, 20, BATCH_SIZE)"
   ]
  },
  {
   "cell_type": "code",
   "execution_count": 134,
   "metadata": {},
   "outputs": [
    {
     "name": "stdout",
     "output_type": "stream",
     "text": [
      "Epoch 1:\n",
      "\tTrain: Average Accuracy: 21.578333333333333\tAverage Loss: 2.4449746137652006\n",
      "\tTest: Average Accuracy: 42.957089552238806\tAverage Loss: 1.8906226431386621\n",
      "Epoch 2:\n",
      "\tTrain: Average Accuracy: 65.205\tAverage Loss: 1.2054652097266343\n",
      "\tTest: Average Accuracy: 60.10127931769723\tAverage Loss: 1.4095212598671305\n",
      "Epoch 3:\n",
      "\tTrain: Average Accuracy: 73.76333333333334\tAverage Loss: 0.9238260898598598\n",
      "\tTest: Average Accuracy: 66.13805970149254\tAverage Loss: 1.2185717026036191\n",
      "Epoch 4:\n",
      "\tTrain: Average Accuracy: 78.29666666666667\tAverage Loss: 0.766169488522885\n",
      "\tTest: Average Accuracy: 69.7094882729211\tAverage Loss: 1.0853865729627288\n",
      "Epoch 5:\n",
      "\tTrain: Average Accuracy: 81.16833333333334\tAverage Loss: 0.6672743300255227\n",
      "\tTest: Average Accuracy: 71.8683368869936\tAverage Loss: 1.00412295234356\n",
      "Epoch 6:\n",
      "\tTrain: Average Accuracy: 83.135\tAverage Loss: 0.5952079871105508\n",
      "\tTest: Average Accuracy: 73.48081023454158\tAverage Loss: 0.9521426221662267\n",
      "Epoch 7:\n",
      "\tTrain: Average Accuracy: 84.63666666666667\tAverage Loss: 0.5394179323729864\n",
      "\tTest: Average Accuracy: 75.09328358208955\tAverage Loss: 0.8957624423622538\n",
      "Epoch 8:\n",
      "\tTrain: Average Accuracy: 85.895\tAverage Loss: 0.4943187681722645\n",
      "\tTest: Average Accuracy: 76.33262260127931\tAverage Loss: 0.8518413956289735\n",
      "Epoch 9:\n",
      "\tTrain: Average Accuracy: 86.89666666666666\tAverage Loss: 0.45767271454756026\n",
      "\tTest: Average Accuracy: 77.23214285714286\tAverage Loss: 0.823974245009198\n",
      "Epoch 10:\n",
      "\tTrain: Average Accuracy: 87.67833333333333\tAverage Loss: 0.4283807482564861\n",
      "\tTest: Average Accuracy: 77.94509594882729\tAverage Loss: 0.805099591019359\n",
      "Epoch 11:\n",
      "\tTrain: Average Accuracy: 88.325\tAverage Loss: 0.4052429320038203\n",
      "\tTest: Average Accuracy: 78.5047974413646\tAverage Loss: 0.7964049951005137\n",
      "Epoch 12:\n",
      "\tTrain: Average Accuracy: 88.81166666666667\tAverage Loss: 0.38649835023191437\n",
      "\tTest: Average Accuracy: 78.67137526652452\tAverage Loss: 0.7909993750154504\n",
      "Epoch 13:\n",
      "\tTrain: Average Accuracy: 89.21\tAverage Loss: 0.3709081536743131\n",
      "\tTest: Average Accuracy: 78.89125799573561\tAverage Loss: 0.7894217687333986\n",
      "Epoch 14:\n",
      "\tTrain: Average Accuracy: 89.58166666666666\tAverage Loss: 0.35726287566452747\n",
      "\tTest: Average Accuracy: 79.17110874200426\tAverage Loss: 0.7867197138975527\n",
      "Epoch 15:\n",
      "\tTrain: Average Accuracy: 89.92166666666667\tAverage Loss: 0.3454110663358459\n",
      "\tTest: Average Accuracy: 79.2977078891258\tAverage Loss: 0.7835749932633042\n",
      "Epoch 16:\n",
      "\tTrain: Average Accuracy: 90.19\tAverage Loss: 0.3344701933476279\n",
      "\tTest: Average Accuracy: 79.35767590618337\tAverage Loss: 0.7870836285147786\n",
      "Epoch 17:\n",
      "\tTrain: Average Accuracy: 90.52333333333333\tAverage Loss: 0.3250645485614361\n",
      "\tTest: Average Accuracy: 79.50426439232409\tAverage Loss: 0.7894126353811071\n",
      "Epoch 18:\n",
      "\tTrain: Average Accuracy: 90.82833333333333\tAverage Loss: 0.3170249253552308\n",
      "\tTest: Average Accuracy: 79.54424307036247\tAverage Loss: 0.7915712464030112\n",
      "Epoch 19:\n",
      "\tTrain: Average Accuracy: 91.065\tAverage Loss: 0.3092428330405432\n",
      "\tTest: Average Accuracy: 79.51092750533049\tAverage Loss: 0.7997085034884028\n",
      "Epoch 20:\n",
      "\tTrain: Average Accuracy: 91.26\tAverage Loss: 0.302149882016427\n",
      "\tTest: Average Accuracy: 79.58422174840085\tAverage Loss: 0.8039615817105251\n"
     ]
    }
   ],
   "source": [
    "BATCH_SIZE = 16\n",
    "TRAINLOADER = Dataloader(train_images, train_labels, 20, BATCH_SIZE)\n",
    "TESTLOADER = Dataloader(test_images, test_labels, 20, BATCH_SIZE)\n",
    "network = FeedForwardNN(INPUT_SHAPE)\n",
    "network.add_layer(40, input_shape=INPUT_SHAPE, activation=Relu(), weight_initializer='normal')\n",
    "network.add_layer(40, input_shape=INPUT_SHAPE, activation=Relu(), weight_initializer='normal')\n",
    "network.add_layer(20, activation=Identical(), weight_initializer='normal')\n",
    "network.set_training_param(loss=CrossEntropy(), lr=0.001)\n",
    "log = network.fit(EPOCHS, TRAINLOADER, TESTLOADER)\n",
    "batch_result.append(log)"
   ]
  },
  {
   "cell_type": "code",
   "execution_count": 135,
   "metadata": {},
   "outputs": [
    {
     "name": "stdout",
     "output_type": "stream",
     "text": [
      "Epoch 1:\n",
      "\tTrain: Average Accuracy: 21.55666666666667\tAverage Loss: 2.453414777083813\n",
      "\tTest: Average Accuracy: 42.695007107320535\tAverage Loss: 1.9144498722533532\n",
      "Epoch 2:\n",
      "\tTrain: Average Accuracy: 63.39666666666667\tAverage Loss: 1.2475925579881049\n",
      "\tTest: Average Accuracy: 59.037402274342575\tAverage Loss: 1.4112549585330305\n",
      "Epoch 3:\n",
      "\tTrain: Average Accuracy: 73.19\tAverage Loss: 0.9317388084023022\n",
      "\tTest: Average Accuracy: 66.0136815920398\tAverage Loss: 1.1953664603476482\n",
      "Epoch 4:\n",
      "\tTrain: Average Accuracy: 78.63666666666667\tAverage Loss: 0.7542906966452727\n",
      "\tTest: Average Accuracy: 69.99822316986496\tAverage Loss: 1.0494698344265088\n",
      "Epoch 5:\n",
      "\tTrain: Average Accuracy: 81.92333333333333\tAverage Loss: 0.64149969350582\n",
      "\tTest: Average Accuracy: 72.95220326936746\tAverage Loss: 0.9537302583063256\n",
      "Epoch 6:\n",
      "\tTrain: Average Accuracy: 83.97166666666666\tAverage Loss: 0.5661078135028772\n",
      "\tTest: Average Accuracy: 74.73569651741293\tAverage Loss: 0.8955430088786391\n",
      "Epoch 7:\n",
      "\tTrain: Average Accuracy: 85.555\tAverage Loss: 0.5112734701402627\n",
      "\tTest: Average Accuracy: 75.63299573560768\tAverage Loss: 0.8602312855210134\n",
      "Epoch 8:\n",
      "\tTrain: Average Accuracy: 86.73166666666667\tAverage Loss: 0.46765372714628456\n",
      "\tTest: Average Accuracy: 76.80792466240227\tAverage Loss: 0.8300957983339593\n",
      "Epoch 9:\n",
      "\tTrain: Average Accuracy: 87.68333333333334\tAverage Loss: 0.4331989958956485\n",
      "\tTest: Average Accuracy: 77.52976190476191\tAverage Loss: 0.808758091652695\n",
      "Epoch 10:\n",
      "\tTrain: Average Accuracy: 88.35666666666667\tAverage Loss: 0.4057105622772435\n",
      "\tTest: Average Accuracy: 77.98951670220328\tAverage Loss: 0.7922437645645005\n",
      "Epoch 11:\n",
      "\tTrain: Average Accuracy: 89.02666666666667\tAverage Loss: 0.383878437242963\n",
      "\tTest: Average Accuracy: 78.58253375977257\tAverage Loss: 0.7837566350034223\n",
      "Epoch 12:\n",
      "\tTrain: Average Accuracy: 89.49333333333334\tAverage Loss: 0.36609353570077396\n",
      "\tTest: Average Accuracy: 78.98232054015637\tAverage Loss: 0.7797895629664734\n",
      "Epoch 13:\n",
      "\tTrain: Average Accuracy: 89.84333333333333\tAverage Loss: 0.35112534678126595\n",
      "\tTest: Average Accuracy: 79.15334044065386\tAverage Loss: 0.7806596729312993\n",
      "Epoch 14:\n",
      "\tTrain: Average Accuracy: 90.3\tAverage Loss: 0.33813207162109615\n",
      "\tTest: Average Accuracy: 79.27549751243781\tAverage Loss: 0.7780583725005271\n",
      "Epoch 15:\n",
      "\tTrain: Average Accuracy: 90.56666666666666\tAverage Loss: 0.3271046115642926\n",
      "\tTest: Average Accuracy: 79.46206467661692\tAverage Loss: 0.7816381160892008\n",
      "Epoch 16:\n",
      "\tTrain: Average Accuracy: 90.88333333333334\tAverage Loss: 0.31754963267581693\n",
      "\tTest: Average Accuracy: 79.60643212508883\tAverage Loss: 0.781915077623926\n",
      "Epoch 17:\n",
      "\tTrain: Average Accuracy: 91.09833333333333\tAverage Loss: 0.30906200882627655\n",
      "\tTest: Average Accuracy: 79.84630419331911\tAverage Loss: 0.7800938956902574\n",
      "Epoch 18:\n",
      "\tTrain: Average Accuracy: 91.25666666666666\tAverage Loss: 0.30094833449640385\n",
      "\tTest: Average Accuracy: 80.01288201847903\tAverage Loss: 0.7828536733570708\n",
      "Epoch 19:\n",
      "\tTrain: Average Accuracy: 91.465\tAverage Loss: 0.29366264999746383\n",
      "\tTest: Average Accuracy: 79.92626154939587\tAverage Loss: 0.7860301996505648\n",
      "Epoch 20:\n",
      "\tTrain: Average Accuracy: 91.65833333333333\tAverage Loss: 0.28715656771179504\n",
      "\tTest: Average Accuracy: 80.04619758351102\tAverage Loss: 0.7866736797141006\n"
     ]
    }
   ],
   "source": [
    "BATCH_SIZE = 32\n",
    "TRAINLOADER = Dataloader(train_images, train_labels, 20, BATCH_SIZE)\n",
    "TESTLOADER = Dataloader(test_images, test_labels, 20, BATCH_SIZE)\n",
    "network = FeedForwardNN(INPUT_SHAPE)\n",
    "network.add_layer(40, input_shape=INPUT_SHAPE, activation=Relu(), weight_initializer='normal')\n",
    "network.add_layer(40, input_shape=INPUT_SHAPE, activation=Relu(), weight_initializer='normal')\n",
    "network.add_layer(20, activation=Identical(), weight_initializer='normal')\n",
    "network.set_training_param(loss=CrossEntropy(), lr=0.001)\n",
    "log = network.fit(EPOCHS, TRAINLOADER, TESTLOADER)\n",
    "batch_result.append(log)"
   ]
  },
  {
   "cell_type": "code",
   "execution_count": 137,
   "metadata": {},
   "outputs": [
    {
     "name": "stdout",
     "output_type": "stream",
     "text": [
      "Epoch 1:\n",
      "\tTrain: Average Accuracy: 48.68074024822695\tAverage Loss: 1.9081442755818536\n",
      "\tTest: Average Accuracy: 60.746194803746654\tAverage Loss: 1.3577740981822437\n",
      "Epoch 2:\n",
      "\tTrain: Average Accuracy: 75.24933510638297\tAverage Loss: 0.8920372114367328\n",
      "\tTest: Average Accuracy: 69.02946587867976\tAverage Loss: 1.1439043317953292\n",
      "Epoch 3:\n",
      "\tTrain: Average Accuracy: 79.5068705673759\tAverage Loss: 0.7444134258210093\n",
      "\tTest: Average Accuracy: 71.11953612845674\tAverage Loss: 1.058946550652898\n",
      "Epoch 4:\n",
      "\tTrain: Average Accuracy: 81.63563829787235\tAverage Loss: 0.6704167974599679\n",
      "\tTest: Average Accuracy: 72.58725468331846\tAverage Loss: 1.007856322288465\n",
      "Epoch 5:\n",
      "\tTrain: Average Accuracy: 82.97539893617021\tAverage Loss: 0.620135318425024\n",
      "\tTest: Average Accuracy: 73.56956679304191\tAverage Loss: 0.9695378631399554\n",
      "Epoch 6:\n",
      "\tTrain: Average Accuracy: 84.08964982269505\tAverage Loss: 0.5811041276129463\n",
      "\tTest: Average Accuracy: 74.11490856378234\tAverage Loss: 0.9364635493946419\n",
      "Epoch 7:\n",
      "\tTrain: Average Accuracy: 84.91522606382979\tAverage Loss: 0.5487468135610905\n",
      "\tTest: Average Accuracy: 74.98466770740411\tAverage Loss: 0.9108868811065215\n",
      "Epoch 8:\n",
      "\tTrain: Average Accuracy: 85.54465868794325\tAverage Loss: 0.5211496763915933\n",
      "\tTest: Average Accuracy: 75.61154939785905\tAverage Loss: 0.8901963650791173\n",
      "Epoch 9:\n",
      "\tTrain: Average Accuracy: 86.21232269503547\tAverage Loss: 0.4971041151449247\n",
      "\tTest: Average Accuracy: 76.05095896520963\tAverage Loss: 0.872515041703912\n",
      "Epoch 10:\n",
      "\tTrain: Average Accuracy: 86.81017287234043\tAverage Loss: 0.47579850454062195\n",
      "\tTest: Average Accuracy: 76.47468777876895\tAverage Loss: 0.8585303957898843\n",
      "Epoch 11:\n",
      "\tTrain: Average Accuracy: 87.28169326241134\tAverage Loss: 0.4570700898952137\n",
      "\tTest: Average Accuracy: 76.93605040142731\tAverage Loss: 0.8446209303177512\n",
      "Epoch 12:\n",
      "\tTrain: Average Accuracy: 87.71886081560282\tAverage Loss: 0.4401772413952948\n",
      "\tTest: Average Accuracy: 77.43713760035682\tAverage Loss: 0.8345506404871977\n",
      "Epoch 13:\n",
      "\tTrain: Average Accuracy: 88.10283687943262\tAverage Loss: 0.4253663527453774\n",
      "\tTest: Average Accuracy: 77.71973962979483\tAverage Loss: 0.8257929030816358\n",
      "Epoch 14:\n",
      "\tTrain: Average Accuracy: 88.46464982269505\tAverage Loss: 0.4119208091231478\n",
      "\tTest: Average Accuracy: 77.84762488849242\tAverage Loss: 0.819073119171193\n",
      "Epoch 15:\n",
      "\tTrain: Average Accuracy: 88.80873226950355\tAverage Loss: 0.39980178196759364\n",
      "\tTest: Average Accuracy: 78.03509701159679\tAverage Loss: 0.8137823172240067\n",
      "Epoch 16:\n",
      "\tTrain: Average Accuracy: 89.17608599290782\tAverage Loss: 0.38870913319846734\n",
      "\tTest: Average Accuracy: 78.18075379125781\tAverage Loss: 0.809283198339423\n",
      "Epoch 17:\n",
      "\tTrain: Average Accuracy: 89.50188386524823\tAverage Loss: 0.37884059625370126\n",
      "\tTest: Average Accuracy: 78.31107827832292\tAverage Loss: 0.8064668817098117\n",
      "Epoch 18:\n",
      "\tTrain: Average Accuracy: 89.7196365248227\tAverage Loss: 0.3698740353799878\n",
      "\tTest: Average Accuracy: 78.51632192239072\tAverage Loss: 0.8033801324972377\n",
      "Epoch 19:\n",
      "\tTrain: Average Accuracy: 89.93351063829788\tAverage Loss: 0.3615066219184839\n",
      "\tTest: Average Accuracy: 78.7658201382694\tAverage Loss: 0.8005315771984114\n",
      "Epoch 20:\n",
      "\tTrain: Average Accuracy: 90.17287234042553\tAverage Loss: 0.35390141634770494\n",
      "\tTest: Average Accuracy: 78.94458073148975\tAverage Loss: 0.7990206568474568\n"
     ]
    }
   ],
   "source": [
    "BATCH_SIZE = 256\n",
    "TRAINLOADER = Dataloader(train_images, train_labels, 20, BATCH_SIZE)\n",
    "TESTLOADER = Dataloader(test_images, test_labels, 20, BATCH_SIZE)\n",
    "network = FeedForwardNN(INPUT_SHAPE)\n",
    "network.add_layer(40, input_shape=INPUT_SHAPE, activation=Relu(), weight_initializer='normal')\n",
    "# network.add_layer(40, input_shape=INPUT_SHAPE, activation=Relu(), weight_initializer='normal')\n",
    "network.add_layer(20, activation=Identical(), weight_initializer='normal')\n",
    "network.set_training_param(loss=CrossEntropy(), lr=0.001)\n",
    "log = network.fit(EPOCHS, TRAINLOADER, TESTLOADER)\n",
    "batch_result.append(log)"
   ]
  },
  {
   "cell_type": "markdown",
   "metadata": {},
   "source": [
    "<h1 style = \"font-size: 20px ;color: #479\"> As you can see above , we can draw conclusions from the result that batch = 32 is the optimal value for batch size .<h1/>"
   ]
  },
  {
   "cell_type": "markdown",
   "metadata": {},
   "source": [
    "<h1 style = \"font-size: 20px ;color: #479\"> The batch size defines the number of samples that will be propagated through the network.<br/></h1>\n",
    "<h1 style = \"font-size: 20px ;color: #479\"> Advantages of using a batch size :<br/>\n",
    "first it requires less memory. Since you train the network using fewer samples, the overall training procedure requires less memory. That's especially important if you are not able to fit the whole dataset in your machine's memory.<br/>\n",
    "\n",
    "second typically networks train faster with mini-batches. That's because we update the weights after each propagation . If we used all samples during propagation we would make only 1 update for the network's parameter.<br/>\n",
    "<h1/>\n",
    "<h1 style = \"font-size: 20px ;color: #479\"> Disadvantages of using a batch size :<br/>\n",
    " The smaller the batch the less accurate the estimate of the gradient will be.. In the figure below, you can see that the direction of the mini-batch gradient (green color) fluctuates much more in comparison to the direction of the full batch gradient (blue color).\n",
    "\n",
    "</h1>\n",
    "    \n",
    "   <h1 style = \"font-size: 20px ;color: #479\">  Stochastic is just a mini-batch with batch_size equal to 1. In that case, the gradient changes its direction even more often than a mini-batch gradient.<h1/>\n",
    "\n"
   ]
  },
  {
   "cell_type": "markdown",
   "metadata": {},
   "source": [
    "<img src=\"3.png\">"
   ]
  },
  {
   "cell_type": "markdown",
   "metadata": {},
   "source": [
    "<h1 style = \"font-size: 30px ;color: #235\"> Part 6 </h1>"
   ]
  },
  {
   "cell_type": "markdown",
   "metadata": {},
   "source": [
    "<h1 style = \"font-size: 20px ;color: #479\"> In terms of artificial neural networks, an epoch refers to one cycle through the full training dataset. Usually, training a neural network takes more than a few epochs. In other words, if we feed a neural network the training data for more than one epoch in different patterns, we hope for a better generalization when given a new \"unseen\" input (test data).<br/>\n",
    " Heuristically, one motivation is that (especially for large but finite training sets) it gives the network a chance to see the previous data to readjust the model parameters so that the model is not biased towards the last few data points during training.<br/>\n",
    "Be aware that there is no guarantee a network will converge or \"get better\" by letting it learn the data for multiple epochs. It is an art in machine learning to decide the number of epochs sufficient for a network.<br/>\n",
    "    \n",
    "During the training phase, we aim to minimize the error rate as well as to make sure that the model generalizes well on new data. The bias-variance tradeoff is still a potential pitfall we want to avoid, as in other supervised machine learning algorithms.<br/>\n",
    "\n",
    "We face overfitting (high variance) when the model fits perfectly to the training examples but has limited capability generalization. On the other hand, if the model is said to be underfitting (high bias) if it didn’t learn the data well enough:</h1>"
   ]
  },
  {
   "cell_type": "code",
   "execution_count": 138,
   "metadata": {},
   "outputs": [
    {
     "name": "stdout",
     "output_type": "stream",
     "text": [
      "Epoch 1:\n",
      "\tTrain: Average Accuracy: 20.585\tAverage Loss: 2.4702775383963043\n",
      "\tTest: Average Accuracy: 38.58386638237384\tAverage Loss: 2.0156789310757497\n",
      "Epoch 2:\n",
      "\tTrain: Average Accuracy: 64.19666666666667\tAverage Loss: 1.2308504281109758\n",
      "\tTest: Average Accuracy: 61.10296730632552\tAverage Loss: 1.3604637250175575\n",
      "Epoch 3:\n",
      "\tTrain: Average Accuracy: 73.99166666666666\tAverage Loss: 0.9035526718080992\n",
      "\tTest: Average Accuracy: 66.60669864960909\tAverage Loss: 1.1837249078220782\n",
      "Epoch 4:\n",
      "\tTrain: Average Accuracy: 78.40833333333333\tAverage Loss: 0.7556076318980774\n",
      "\tTest: Average Accuracy: 69.82942430703625\tAverage Loss: 1.0737884889842375\n",
      "Epoch 5:\n",
      "\tTrain: Average Accuracy: 81.375\tAverage Loss: 0.6551897155800085\n",
      "\tTest: Average Accuracy: 71.83057924662401\tAverage Loss: 0.9975140628994663\n",
      "Epoch 6:\n",
      "\tTrain: Average Accuracy: 83.56166666666667\tAverage Loss: 0.5786771071576314\n",
      "\tTest: Average Accuracy: 74.06938521677327\tAverage Loss: 0.9309207930454837\n",
      "Epoch 7:\n",
      "\tTrain: Average Accuracy: 85.295\tAverage Loss: 0.5185784550278789\n",
      "\tTest: Average Accuracy: 75.71073205401564\tAverage Loss: 0.8719117446825296\n",
      "Epoch 8:\n",
      "\tTrain: Average Accuracy: 86.43166666666667\tAverage Loss: 0.47308364325334673\n",
      "\tTest: Average Accuracy: 76.85012437810946\tAverage Loss: 0.8347847633196223\n",
      "Epoch 9:\n",
      "\tTrain: Average Accuracy: 87.315\tAverage Loss: 0.4380797433875695\n",
      "\tTest: Average Accuracy: 77.5319829424307\tAverage Loss: 0.8141545961815078\n",
      "Epoch 10:\n",
      "\tTrain: Average Accuracy: 88.06166666666667\tAverage Loss: 0.4114236671933943\n",
      "\tTest: Average Accuracy: 78.06947405828004\tAverage Loss: 0.8023106853862525\n",
      "Epoch 11:\n",
      "\tTrain: Average Accuracy: 88.67833333333333\tAverage Loss: 0.38982238259405716\n",
      "\tTest: Average Accuracy: 78.20273631840797\tAverage Loss: 0.79930950250907\n",
      "Epoch 12:\n",
      "\tTrain: Average Accuracy: 89.175\tAverage Loss: 0.372428504139684\n",
      "\tTest: Average Accuracy: 78.59141791044776\tAverage Loss: 0.7971967443237531\n",
      "Epoch 13:\n",
      "\tTrain: Average Accuracy: 89.62666666666667\tAverage Loss: 0.357573424665093\n",
      "\tTest: Average Accuracy: 78.89125799573561\tAverage Loss: 0.7931299557246819\n",
      "Epoch 14:\n",
      "\tTrain: Average Accuracy: 89.985\tAverage Loss: 0.3447103114658011\n",
      "\tTest: Average Accuracy: 79.06449893390192\tAverage Loss: 0.7948295463377834\n",
      "Epoch 15:\n",
      "\tTrain: Average Accuracy: 90.28666666666666\tAverage Loss: 0.333703384337177\n",
      "\tTest: Average Accuracy: 79.11780383795309\tAverage Loss: 0.7982279474046301\n",
      "Epoch 16:\n",
      "\tTrain: Average Accuracy: 90.51666666666667\tAverage Loss: 0.3236935109028457\n",
      "\tTest: Average Accuracy: 79.12446695095949\tAverage Loss: 0.7993313957285452\n",
      "Epoch 17:\n",
      "\tTrain: Average Accuracy: 90.815\tAverage Loss: 0.3146898161480402\n",
      "\tTest: Average Accuracy: 79.2910447761194\tAverage Loss: 0.8035893186176772\n",
      "Epoch 18:\n",
      "\tTrain: Average Accuracy: 91.02166666666666\tAverage Loss: 0.3066738037956574\n",
      "\tTest: Average Accuracy: 79.2977078891258\tAverage Loss: 0.8092549921924184\n",
      "Epoch 19:\n",
      "\tTrain: Average Accuracy: 91.20166666666667\tAverage Loss: 0.2992083156513222\n",
      "\tTest: Average Accuracy: 79.35767590618337\tAverage Loss: 0.8132668209133485\n",
      "Epoch 20:\n",
      "\tTrain: Average Accuracy: 91.41166666666666\tAverage Loss: 0.2920289485483998\n",
      "\tTest: Average Accuracy: 79.44429637526652\tAverage Loss: 0.818270801721899\n",
      "Epoch 21:\n",
      "\tTrain: Average Accuracy: 91.60833333333333\tAverage Loss: 0.2855185456724038\n",
      "\tTest: Average Accuracy: 79.34879175550817\tAverage Loss: 0.8311346095160095\n",
      "Epoch 22:\n",
      "\tTrain: Average Accuracy: 91.77833333333334\tAverage Loss: 0.27945815471901664\n",
      "\tTest: Average Accuracy: 79.31547619047619\tAverage Loss: 0.8424646537422046\n",
      "Epoch 23:\n",
      "\tTrain: Average Accuracy: 92.00333333333333\tAverage Loss: 0.2738678310275535\n",
      "\tTest: Average Accuracy: 79.20442430703625\tAverage Loss: 0.8539466551863143\n",
      "Epoch 24:\n",
      "\tTrain: Average Accuracy: 92.15166666666667\tAverage Loss: 0.26867286066993173\n",
      "\tTest: Average Accuracy: 79.27105543710022\tAverage Loss: 0.8615376371430824\n",
      "Epoch 25:\n",
      "\tTrain: Average Accuracy: 92.24\tAverage Loss: 0.26411112166398976\n",
      "\tTest: Average Accuracy: 79.24440298507463\tAverage Loss: 0.8671565407624561\n",
      "Epoch 26:\n",
      "\tTrain: Average Accuracy: 92.34833333333333\tAverage Loss: 0.2598192374434821\n",
      "\tTest: Average Accuracy: 79.19998223169864\tAverage Loss: 0.8749266082865254\n",
      "Epoch 27:\n",
      "\tTrain: Average Accuracy: 92.52833333333334\tAverage Loss: 0.2553463634675959\n",
      "\tTest: Average Accuracy: 79.28438166311301\tAverage Loss: 0.8842494814705334\n",
      "Epoch 28:\n",
      "\tTrain: Average Accuracy: 92.66833333333334\tAverage Loss: 0.2514391771883462\n",
      "\tTest: Average Accuracy: 79.36656005685856\tAverage Loss: 0.8930538645139251\n",
      "Epoch 29:\n",
      "\tTrain: Average Accuracy: 92.73333333333333\tAverage Loss: 0.24778076816138297\n",
      "\tTest: Average Accuracy: 79.34657071783937\tAverage Loss: 0.9042750765501054\n",
      "Epoch 30:\n",
      "\tTrain: Average Accuracy: 92.90833333333333\tAverage Loss: 0.24370097755990974\n",
      "\tTest: Average Accuracy: 79.36656005685856\tAverage Loss: 0.9137658080663936\n",
      "Epoch 31:\n",
      "\tTrain: Average Accuracy: 92.94833333333334\tAverage Loss: 0.24045109042199064\n",
      "\tTest: Average Accuracy: 79.23107675906184\tAverage Loss: 0.9326650729454032\n",
      "Epoch 32:\n",
      "\tTrain: Average Accuracy: 93.09333333333333\tAverage Loss: 0.2367218228963678\n",
      "\tTest: Average Accuracy: 79.18443496801706\tAverage Loss: 0.9457322708329885\n",
      "Epoch 33:\n",
      "\tTrain: Average Accuracy: 93.19333333333333\tAverage Loss: 0.23357456759075745\n",
      "\tTest: Average Accuracy: 79.18443496801706\tAverage Loss: 0.9511721695112884\n",
      "Epoch 34:\n",
      "\tTrain: Average Accuracy: 93.31333333333333\tAverage Loss: 0.23035180978505668\n",
      "\tTest: Average Accuracy: 78.99564676616916\tAverage Loss: 0.9664069661434463\n",
      "Epoch 35:\n",
      "\tTrain: Average Accuracy: 93.405\tAverage Loss: 0.22806300027015194\n",
      "\tTest: Average Accuracy: 78.86238450604122\tAverage Loss: 0.9768276845685229\n",
      "Epoch 36:\n",
      "\tTrain: Average Accuracy: 93.47\tAverage Loss: 0.22530440367546253\n",
      "\tTest: Average Accuracy: 78.85794243070363\tAverage Loss: 0.9869145093313899\n",
      "Epoch 37:\n",
      "\tTrain: Average Accuracy: 93.51833333333333\tAverage Loss: 0.22258757313171074\n",
      "\tTest: Average Accuracy: 79.0844882729211\tAverage Loss: 0.994079188226027\n",
      "Epoch 38:\n",
      "\tTrain: Average Accuracy: 93.615\tAverage Loss: 0.21945842904506688\n",
      "\tTest: Average Accuracy: 79.05117270788912\tAverage Loss: 1.0058841267488652\n",
      "Epoch 39:\n",
      "\tTrain: Average Accuracy: 93.72166666666666\tAverage Loss: 0.2166583680556869\n",
      "\tTest: Average Accuracy: 79.0667199715707\tAverage Loss: 1.0134716280861698\n",
      "Epoch 40:\n",
      "\tTrain: Average Accuracy: 93.80333333333333\tAverage Loss: 0.21438716382737458\n",
      "\tTest: Average Accuracy: 78.9068052594172\tAverage Loss: 1.0330459080024146\n",
      "Epoch 41:\n",
      "\tTrain: Average Accuracy: 93.87\tAverage Loss: 0.21213870758003367\n",
      "\tTest: Average Accuracy: 78.76465884861408\tAverage Loss: 1.0511742296108795\n",
      "Epoch 42:\n",
      "\tTrain: Average Accuracy: 93.89666666666666\tAverage Loss: 0.20958378676175438\n",
      "\tTest: Average Accuracy: 78.67137526652452\tAverage Loss: 1.065475858842686\n",
      "Epoch 43:\n",
      "\tTrain: Average Accuracy: 93.97833333333334\tAverage Loss: 0.2072961633811775\n",
      "\tTest: Average Accuracy: 78.511460554371\tAverage Loss: 1.0805614385682758\n",
      "Epoch 44:\n",
      "\tTrain: Average Accuracy: 94.045\tAverage Loss: 0.20510566090992166\n",
      "\tTest: Average Accuracy: 78.62029140014214\tAverage Loss: 1.084424508485674\n",
      "Epoch 45:\n",
      "\tTrain: Average Accuracy: 94.10166666666667\tAverage Loss: 0.20280149193517014\n",
      "\tTest: Average Accuracy: 78.35820895522389\tAverage Loss: 1.1096792671324593\n",
      "Epoch 46:\n",
      "\tTrain: Average Accuracy: 94.16666666666667\tAverage Loss: 0.2004629670457239\n",
      "\tTest: Average Accuracy: 78.53811300639659\tAverage Loss: 1.113183376613194\n",
      "Epoch 47:\n",
      "\tTrain: Average Accuracy: 94.195\tAverage Loss: 0.1980984403401033\n",
      "\tTest: Average Accuracy: 78.5270078180526\tAverage Loss: 1.1239401181736375\n",
      "Epoch 48:\n",
      "\tTrain: Average Accuracy: 94.25333333333333\tAverage Loss: 0.19628843037962754\n",
      "\tTest: Average Accuracy: 78.34044065387349\tAverage Loss: 1.1448953123864771\n",
      "Epoch 49:\n",
      "\tTrain: Average Accuracy: 94.37666666666667\tAverage Loss: 0.19437507790392386\n",
      "\tTest: Average Accuracy: 78.29379886282871\tAverage Loss: 1.1523443128316992\n",
      "Epoch 50:\n",
      "\tTrain: Average Accuracy: 94.48166666666667\tAverage Loss: 0.19260764161047692\n",
      "\tTest: Average Accuracy: 78.15387348969438\tAverage Loss: 1.1721952034748013\n",
      "Epoch 51:\n",
      "\tTrain: Average Accuracy: 94.435\tAverage Loss: 0.19102862441558774\n",
      "\tTest: Average Accuracy: 78.13388415067519\tAverage Loss: 1.1800703824132825\n",
      "Epoch 52:\n",
      "\tTrain: Average Accuracy: 94.53333333333333\tAverage Loss: 0.18932737700362057\n"
     ]
    },
    {
     "name": "stdout",
     "output_type": "stream",
     "text": [
      "\tTest: Average Accuracy: 78.20717839374555\tAverage Loss: 1.1949418512332932\n",
      "Epoch 53:\n",
      "\tTrain: Average Accuracy: 94.54833333333333\tAverage Loss: 0.18791211595341542\n",
      "\tTest: Average Accuracy: 78.22050461975834\tAverage Loss: 1.2095421914272306\n",
      "Epoch 54:\n",
      "\tTrain: Average Accuracy: 94.60666666666667\tAverage Loss: 0.18634879589437886\n",
      "\tTest: Average Accuracy: 78.04726368159203\tAverage Loss: 1.2276828548940335\n",
      "Epoch 55:\n",
      "\tTrain: Average Accuracy: 94.64166666666667\tAverage Loss: 0.18435625006173711\n",
      "\tTest: Average Accuracy: 77.97396943852168\tAverage Loss: 1.2331258125735183\n",
      "Epoch 56:\n",
      "\tTrain: Average Accuracy: 94.72166666666666\tAverage Loss: 0.18264763680101548\n",
      "\tTest: Average Accuracy: 78.06058990760482\tAverage Loss: 1.2514662757215804\n",
      "Epoch 57:\n",
      "\tTrain: Average Accuracy: 94.66833333333334\tAverage Loss: 0.18158968194145172\n",
      "\tTest: Average Accuracy: 77.9273276474769\tAverage Loss: 1.26448767432084\n",
      "Epoch 58:\n",
      "\tTrain: Average Accuracy: 94.83333333333333\tAverage Loss: 0.1798998445835128\n",
      "\tTest: Average Accuracy: 77.98063255152807\tAverage Loss: 1.2683634359879188\n",
      "Epoch 59:\n",
      "\tTrain: Average Accuracy: 94.80333333333333\tAverage Loss: 0.17879288262814935\n",
      "\tTest: Average Accuracy: 78.03393745557923\tAverage Loss: 1.2870277730772577\n",
      "Epoch 60:\n",
      "\tTrain: Average Accuracy: 94.89333333333333\tAverage Loss: 0.17663534026850447\n",
      "\tTest: Average Accuracy: 77.80072850035536\tAverage Loss: 1.3192229952315644\n"
     ]
    }
   ],
   "source": [
    "INPUT_SHAPE = 28*28\n",
    "LEARNING_RATE = 10**(-3)\n",
    "EPOCHS = 60\n",
    "BATCH_SIZE = 32\n",
    "TRAINLOADER = Dataloader(train_images, train_labels, 20, BATCH_SIZE)\n",
    "TESTLOADER = Dataloader(test_images, test_labels, 20, BATCH_SIZE)\n",
    "network = FeedForwardNN(INPUT_SHAPE)\n",
    "network.add_layer(40, input_shape=INPUT_SHAPE, activation=Relu(), weight_initializer='normal')\n",
    "network.add_layer(40, input_shape=INPUT_SHAPE, activation=Relu(), weight_initializer='normal')\n",
    "network.add_layer(20, activation=Identical(), weight_initializer='normal')\n",
    "network.set_training_param(loss=CrossEntropy(), lr=0.001)\n",
    "log = network.fit(EPOCHS, TRAINLOADER, TESTLOADER)\n",
    "batch_result.append(log)"
   ]
  },
  {
   "cell_type": "code",
   "execution_count": 158,
   "metadata": {},
   "outputs": [
    {
     "data": {
      "text/plain": [
       "Text(0.5, 1.0, 'Model Accuracy')"
      ]
     },
     "execution_count": 158,
     "metadata": {},
     "output_type": "execute_result"
    },
    {
     "data": {
      "image/png": "[encoded data removed]",
      "text/plain": [
       "<Figure size 1440x720 with 1 Axes>"
      ]
     },
     "metadata": {
      "needs_background": "light"
     },
     "output_type": "display_data"
    }
   ],
   "source": [
    "fig = plt.figure(figsize=(20, 10))\n",
    "plt.plot(log['train_accuracy'], color= ((0,0,0.5,1)), linestyle='solid')\n",
    "plt.plot(log['test_accuracy'], color='magenta', linestyle='solid')\n",
    "plt.ylabel('Accuracy', fontsize = 25)\n",
    "plt.xlabel('Epoch', fontsize = 25)\n",
    "plt.legend(['Train', 'Test'], loc='upper right')\n",
    "plt.title('Model Accuracy', fontsize = 25)"
   ]
  },
  {
   "cell_type": "code",
   "execution_count": 159,
   "metadata": {},
   "outputs": [
    {
     "data": {
      "text/plain": [
       "<matplotlib.legend.Legend at 0x1133cafd0>"
      ]
     },
     "execution_count": 159,
     "metadata": {},
     "output_type": "execute_result"
    },
    {
     "data": {
      "image/png": "[encoded data removed]",
      "text/plain": [
       "<Figure size 1440x720 with 1 Axes>"
      ]
     },
     "metadata": {
      "needs_background": "light"
     },
     "output_type": "display_data"
    }
   ],
   "source": [
    "fig = plt.figure(figsize=(20, 10))\n",
    "plt.plot(log['train_loss'],  linestyle='solid', color = 'cyan')\n",
    "plt.plot(log['test_loss'], linestyle='solid', color =  ((0.7,1,0,1)))\n",
    "plt.title('Model loss', fontsize = 25)\n",
    "plt.ylabel('Loss', fontsize = 25)\n",
    "plt.xlabel('Epoch', fontsize = 25)\n",
    "plt.legend(['Train', 'Test'], loc='upper right')"
   ]
  },
  {
   "cell_type": "markdown",
   "metadata": {},
   "source": [
    "<h1 style = \"font-size: 20px ;color: #479\"> As you can see above , \n",
    "the optimal epoch value for a network with a hidden layer is approximately 10. Because as you can see, at epochs higher than this value, the loss value for test dataset increases and the amount of accuracy decreases.<h1/>"
   ]
  },
  {
   "cell_type": "markdown",
   "metadata": {},
   "source": [
    "<h1 style = \"font-size: 20px ;color: #479\">Increasing number of epochs over-fits the NN model. This happens because of lack of train data or model is too complex with millions of parameters. To handle this situation the options are : <br/>\n",
    "\n",
    "we need to come-up with a simple model with less number of parameters to learn<br/>\n",
    "add more data by augmentation<br/>\n",
    "add noise to dense or convolution layers<br/>\n",
    "add drop-out layers<br/>\n",
    "add l1 or l2 regularizers<br/>\n",
    "add early stopping<br/>\n",
    "check the model accuracy on validation data<br/>\n",
    "early stopping will tell you appropriate epochs without overfitting the model<br/>"
   ]
  },
  {
   "cell_type": "code",
   "execution_count": null,
   "metadata": {},
   "outputs": [],
   "source": []
  }
 ],
 "metadata": {
  "kernelspec": {
   "display_name": "Python 3",
   "language": "python",
   "name": "python3"
  },
  "language_info": {
   "codemirror_mode": {
    "name": "ipython",
    "version": 3
   },
   "file_extension": ".py",
   "mimetype": "text/x-python",
   "name": "python",
   "nbconvert_exporter": "python",
   "pygments_lexer": "ipython3",
   "version": "3.7.7"
  }
 },
 "nbformat": 4,
 "nbformat_minor": 4
}
