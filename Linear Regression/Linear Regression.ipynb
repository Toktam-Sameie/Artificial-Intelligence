{
 "cells": [
  {
   "cell_type": "markdown",
   "id": "leading-execution",
   "metadata": {},
   "source": [
    "part 1 ) At the beginning , we read the csv file into a pandas dataframe. "
   ]
  },
  {
   "cell_type": "code",
   "execution_count": 1,
   "id": "equal-effectiveness",
   "metadata": {},
   "outputs": [
    {
     "name": "stdout",
     "output_type": "stream",
     "text": [
      "     car_ID                   CarName fueltype  carlength  carwidth  \\\n",
      "0         1        alfa-romero giulia      gas      168.8      64.1   \n",
      "1         2       alfa-romero stelvio      gas      168.8      64.1   \n",
      "2         3  alfa-romero Quadrifoglio      gas      171.2      65.5   \n",
      "3         4               audi 100 ls      gas      176.6      66.2   \n",
      "4         5                audi 100ls      gas      176.6      66.4   \n",
      "..      ...                       ...      ...        ...       ...   \n",
      "200     201           volvo 145e (sw)      gas      188.8      68.9   \n",
      "201     202               volvo 144ea      gas      188.8      68.8   \n",
      "202     203               volvo 244dl      gas      188.8      68.9   \n",
      "203     204                 volvo 246   diesel      188.8      68.9   \n",
      "204     205               volvo 264gl      gas      188.8      68.9   \n",
      "\n",
      "     carheight  curbweight cylindernumber  enginesize  horsepower  citympg  \\\n",
      "0         48.8        2548           four       130.0       111.0       21   \n",
      "1         48.8        2548           four       130.0       111.0       21   \n",
      "2         52.4        2823            six       152.0       154.0       19   \n",
      "3         54.3        2337           four       109.0         NaN       24   \n",
      "4         54.3        2824           five       136.0       115.0       18   \n",
      "..         ...         ...            ...         ...         ...      ...   \n",
      "200       55.5        2952           four       141.0       114.0       23   \n",
      "201       55.5        3049           four       141.0       160.0       19   \n",
      "202       55.5        3012            six       173.0       134.0       18   \n",
      "203       55.5        3217            six       145.0       106.0       26   \n",
      "204       55.5        3062           four       141.0       114.0       19   \n",
      "\n",
      "     highwaympg    price  \n",
      "0            27  13495.0  \n",
      "1            27  16500.0  \n",
      "2            26  16500.0  \n",
      "3            30  13950.0  \n",
      "4            22      NaN  \n",
      "..          ...      ...  \n",
      "200          28  16845.0  \n",
      "201          25  19045.0  \n",
      "202          23  21485.0  \n",
      "203          27  22470.0  \n",
      "204          25  22625.0  \n",
      "\n",
      "[205 rows x 13 columns]\n"
     ]
    }
   ],
   "source": [
    "import matplotlib.pyplot as plt\n",
    "import time\n",
    "import pandas as pd\n",
    "data = pd.read_csv('car_price_dataset.csv')\n",
    "print(data)"
   ]
  },
  {
   "cell_type": "markdown",
   "id": "olive-ticket",
   "metadata": {},
   "source": [
    "As requested , we use the 'tail' , 'head' and 'describe' functions to demonstrate the information in data.<br>\n",
    "the \"tail\" function , demonstrate the last 5 rows in data."
   ]
  },
  {
   "cell_type": "code",
   "execution_count": 5,
   "id": "successful-output",
   "metadata": {
    "scrolled": true
   },
   "outputs": [
    {
     "data": {
      "text/html": [
       "<div>\n",
       "<style scoped>\n",
       "    .dataframe tbody tr th:only-of-type {\n",
       "        vertical-align: middle;\n",
       "    }\n",
       "\n",
       "    .dataframe tbody tr th {\n",
       "        vertical-align: top;\n",
       "    }\n",
       "\n",
       "    .dataframe thead th {\n",
       "        text-align: right;\n",
       "    }\n",
       "</style>\n",
       "<table border=\"1\" class=\"dataframe\">\n",
       "  <thead>\n",
       "    <tr style=\"text-align: right;\">\n",
       "      <th></th>\n",
       "      <th>car_ID</th>\n",
       "      <th>CarName</th>\n",
       "      <th>fueltype</th>\n",
       "      <th>carlength</th>\n",
       "      <th>carwidth</th>\n",
       "      <th>carheight</th>\n",
       "      <th>curbweight</th>\n",
       "      <th>cylindernumber</th>\n",
       "      <th>enginesize</th>\n",
       "      <th>horsepower</th>\n",
       "      <th>citympg</th>\n",
       "      <th>highwaympg</th>\n",
       "      <th>price</th>\n",
       "    </tr>\n",
       "  </thead>\n",
       "  <tbody>\n",
       "    <tr>\n",
       "      <th>200</th>\n",
       "      <td>201</td>\n",
       "      <td>volvo 145e (sw)</td>\n",
       "      <td>gas</td>\n",
       "      <td>188.8</td>\n",
       "      <td>68.9</td>\n",
       "      <td>55.5</td>\n",
       "      <td>2952</td>\n",
       "      <td>four</td>\n",
       "      <td>141.0</td>\n",
       "      <td>114.0</td>\n",
       "      <td>23</td>\n",
       "      <td>28</td>\n",
       "      <td>16845.0</td>\n",
       "    </tr>\n",
       "    <tr>\n",
       "      <th>201</th>\n",
       "      <td>202</td>\n",
       "      <td>volvo 144ea</td>\n",
       "      <td>gas</td>\n",
       "      <td>188.8</td>\n",
       "      <td>68.8</td>\n",
       "      <td>55.5</td>\n",
       "      <td>3049</td>\n",
       "      <td>four</td>\n",
       "      <td>141.0</td>\n",
       "      <td>160.0</td>\n",
       "      <td>19</td>\n",
       "      <td>25</td>\n",
       "      <td>19045.0</td>\n",
       "    </tr>\n",
       "    <tr>\n",
       "      <th>202</th>\n",
       "      <td>203</td>\n",
       "      <td>volvo 244dl</td>\n",
       "      <td>gas</td>\n",
       "      <td>188.8</td>\n",
       "      <td>68.9</td>\n",
       "      <td>55.5</td>\n",
       "      <td>3012</td>\n",
       "      <td>six</td>\n",
       "      <td>173.0</td>\n",
       "      <td>134.0</td>\n",
       "      <td>18</td>\n",
       "      <td>23</td>\n",
       "      <td>21485.0</td>\n",
       "    </tr>\n",
       "    <tr>\n",
       "      <th>203</th>\n",
       "      <td>204</td>\n",
       "      <td>volvo 246</td>\n",
       "      <td>diesel</td>\n",
       "      <td>188.8</td>\n",
       "      <td>68.9</td>\n",
       "      <td>55.5</td>\n",
       "      <td>3217</td>\n",
       "      <td>six</td>\n",
       "      <td>145.0</td>\n",
       "      <td>106.0</td>\n",
       "      <td>26</td>\n",
       "      <td>27</td>\n",
       "      <td>22470.0</td>\n",
       "    </tr>\n",
       "    <tr>\n",
       "      <th>204</th>\n",
       "      <td>205</td>\n",
       "      <td>volvo 264gl</td>\n",
       "      <td>gas</td>\n",
       "      <td>188.8</td>\n",
       "      <td>68.9</td>\n",
       "      <td>55.5</td>\n",
       "      <td>3062</td>\n",
       "      <td>four</td>\n",
       "      <td>141.0</td>\n",
       "      <td>114.0</td>\n",
       "      <td>19</td>\n",
       "      <td>25</td>\n",
       "      <td>22625.0</td>\n",
       "    </tr>\n",
       "  </tbody>\n",
       "</table>\n",
       "</div>"
      ],
      "text/plain": [
       "     car_ID          CarName fueltype  carlength  carwidth  carheight  \\\n",
       "200     201  volvo 145e (sw)      gas      188.8      68.9       55.5   \n",
       "201     202      volvo 144ea      gas      188.8      68.8       55.5   \n",
       "202     203      volvo 244dl      gas      188.8      68.9       55.5   \n",
       "203     204        volvo 246   diesel      188.8      68.9       55.5   \n",
       "204     205      volvo 264gl      gas      188.8      68.9       55.5   \n",
       "\n",
       "     curbweight cylindernumber  enginesize  horsepower  citympg  highwaympg  \\\n",
       "200        2952           four       141.0       114.0       23          28   \n",
       "201        3049           four       141.0       160.0       19          25   \n",
       "202        3012            six       173.0       134.0       18          23   \n",
       "203        3217            six       145.0       106.0       26          27   \n",
       "204        3062           four       141.0       114.0       19          25   \n",
       "\n",
       "       price  \n",
       "200  16845.0  \n",
       "201  19045.0  \n",
       "202  21485.0  \n",
       "203  22470.0  \n",
       "204  22625.0  "
      ]
     },
     "execution_count": 5,
     "metadata": {},
     "output_type": "execute_result"
    }
   ],
   "source": [
    "data.tail()"
   ]
  },
  {
   "cell_type": "markdown",
   "id": "dutch-carry",
   "metadata": {},
   "source": [
    "the \"head\" function , demonstrate the first 5 rows in data."
   ]
  },
  {
   "cell_type": "code",
   "execution_count": 4,
   "id": "silent-textbook",
   "metadata": {
    "scrolled": true
   },
   "outputs": [
    {
     "data": {
      "text/html": [
       "<div>\n",
       "<style scoped>\n",
       "    .dataframe tbody tr th:only-of-type {\n",
       "        vertical-align: middle;\n",
       "    }\n",
       "\n",
       "    .dataframe tbody tr th {\n",
       "        vertical-align: top;\n",
       "    }\n",
       "\n",
       "    .dataframe thead th {\n",
       "        text-align: right;\n",
       "    }\n",
       "</style>\n",
       "<table border=\"1\" class=\"dataframe\">\n",
       "  <thead>\n",
       "    <tr style=\"text-align: right;\">\n",
       "      <th></th>\n",
       "      <th>car_ID</th>\n",
       "      <th>CarName</th>\n",
       "      <th>fueltype</th>\n",
       "      <th>carlength</th>\n",
       "      <th>carwidth</th>\n",
       "      <th>carheight</th>\n",
       "      <th>curbweight</th>\n",
       "      <th>cylindernumber</th>\n",
       "      <th>enginesize</th>\n",
       "      <th>horsepower</th>\n",
       "      <th>citympg</th>\n",
       "      <th>highwaympg</th>\n",
       "      <th>price</th>\n",
       "    </tr>\n",
       "  </thead>\n",
       "  <tbody>\n",
       "    <tr>\n",
       "      <th>0</th>\n",
       "      <td>1</td>\n",
       "      <td>alfa-romero giulia</td>\n",
       "      <td>gas</td>\n",
       "      <td>168.8</td>\n",
       "      <td>64.1</td>\n",
       "      <td>48.8</td>\n",
       "      <td>2548</td>\n",
       "      <td>four</td>\n",
       "      <td>130.0</td>\n",
       "      <td>111.0</td>\n",
       "      <td>21</td>\n",
       "      <td>27</td>\n",
       "      <td>13495.0</td>\n",
       "    </tr>\n",
       "    <tr>\n",
       "      <th>1</th>\n",
       "      <td>2</td>\n",
       "      <td>alfa-romero stelvio</td>\n",
       "      <td>gas</td>\n",
       "      <td>168.8</td>\n",
       "      <td>64.1</td>\n",
       "      <td>48.8</td>\n",
       "      <td>2548</td>\n",
       "      <td>four</td>\n",
       "      <td>130.0</td>\n",
       "      <td>111.0</td>\n",
       "      <td>21</td>\n",
       "      <td>27</td>\n",
       "      <td>16500.0</td>\n",
       "    </tr>\n",
       "    <tr>\n",
       "      <th>2</th>\n",
       "      <td>3</td>\n",
       "      <td>alfa-romero Quadrifoglio</td>\n",
       "      <td>gas</td>\n",
       "      <td>171.2</td>\n",
       "      <td>65.5</td>\n",
       "      <td>52.4</td>\n",
       "      <td>2823</td>\n",
       "      <td>six</td>\n",
       "      <td>152.0</td>\n",
       "      <td>154.0</td>\n",
       "      <td>19</td>\n",
       "      <td>26</td>\n",
       "      <td>16500.0</td>\n",
       "    </tr>\n",
       "    <tr>\n",
       "      <th>3</th>\n",
       "      <td>4</td>\n",
       "      <td>audi 100 ls</td>\n",
       "      <td>gas</td>\n",
       "      <td>176.6</td>\n",
       "      <td>66.2</td>\n",
       "      <td>54.3</td>\n",
       "      <td>2337</td>\n",
       "      <td>four</td>\n",
       "      <td>109.0</td>\n",
       "      <td>NaN</td>\n",
       "      <td>24</td>\n",
       "      <td>30</td>\n",
       "      <td>13950.0</td>\n",
       "    </tr>\n",
       "    <tr>\n",
       "      <th>4</th>\n",
       "      <td>5</td>\n",
       "      <td>audi 100ls</td>\n",
       "      <td>gas</td>\n",
       "      <td>176.6</td>\n",
       "      <td>66.4</td>\n",
       "      <td>54.3</td>\n",
       "      <td>2824</td>\n",
       "      <td>five</td>\n",
       "      <td>136.0</td>\n",
       "      <td>115.0</td>\n",
       "      <td>18</td>\n",
       "      <td>22</td>\n",
       "      <td>NaN</td>\n",
       "    </tr>\n",
       "  </tbody>\n",
       "</table>\n",
       "</div>"
      ],
      "text/plain": [
       "   car_ID                   CarName fueltype  carlength  carwidth  carheight  \\\n",
       "0       1        alfa-romero giulia      gas      168.8      64.1       48.8   \n",
       "1       2       alfa-romero stelvio      gas      168.8      64.1       48.8   \n",
       "2       3  alfa-romero Quadrifoglio      gas      171.2      65.5       52.4   \n",
       "3       4               audi 100 ls      gas      176.6      66.2       54.3   \n",
       "4       5                audi 100ls      gas      176.6      66.4       54.3   \n",
       "\n",
       "   curbweight cylindernumber  enginesize  horsepower  citympg  highwaympg  \\\n",
       "0        2548           four       130.0       111.0       21          27   \n",
       "1        2548           four       130.0       111.0       21          27   \n",
       "2        2823            six       152.0       154.0       19          26   \n",
       "3        2337           four       109.0         NaN       24          30   \n",
       "4        2824           five       136.0       115.0       18          22   \n",
       "\n",
       "     price  \n",
       "0  13495.0  \n",
       "1  16500.0  \n",
       "2  16500.0  \n",
       "3  13950.0  \n",
       "4      NaN  "
      ]
     },
     "execution_count": 4,
     "metadata": {},
     "output_type": "execute_result"
    }
   ],
   "source": [
    "data.head()"
   ]
  },
  {
   "cell_type": "markdown",
   "id": "heated-hostel",
   "metadata": {},
   "source": [
    "Describing a categorical Series:"
   ]
  },
  {
   "cell_type": "code",
   "execution_count": 7,
   "id": "internal-society",
   "metadata": {},
   "outputs": [
    {
     "data": {
      "text/html": [
       "<div>\n",
       "<style scoped>\n",
       "    .dataframe tbody tr th:only-of-type {\n",
       "        vertical-align: middle;\n",
       "    }\n",
       "\n",
       "    .dataframe tbody tr th {\n",
       "        vertical-align: top;\n",
       "    }\n",
       "\n",
       "    .dataframe thead th {\n",
       "        text-align: right;\n",
       "    }\n",
       "</style>\n",
       "<table border=\"1\" class=\"dataframe\">\n",
       "  <thead>\n",
       "    <tr style=\"text-align: right;\">\n",
       "      <th></th>\n",
       "      <th>car_ID</th>\n",
       "      <th>CarName</th>\n",
       "      <th>fueltype</th>\n",
       "      <th>carlength</th>\n",
       "      <th>carwidth</th>\n",
       "      <th>carheight</th>\n",
       "      <th>curbweight</th>\n",
       "      <th>cylindernumber</th>\n",
       "      <th>enginesize</th>\n",
       "      <th>horsepower</th>\n",
       "      <th>citympg</th>\n",
       "      <th>highwaympg</th>\n",
       "      <th>price</th>\n",
       "    </tr>\n",
       "  </thead>\n",
       "  <tbody>\n",
       "    <tr>\n",
       "      <th>count</th>\n",
       "      <td>205.000000</td>\n",
       "      <td>205</td>\n",
       "      <td>205</td>\n",
       "      <td>205.000000</td>\n",
       "      <td>205.000000</td>\n",
       "      <td>205.000000</td>\n",
       "      <td>205.000000</td>\n",
       "      <td>205</td>\n",
       "      <td>191.000000</td>\n",
       "      <td>182.000000</td>\n",
       "      <td>205.000000</td>\n",
       "      <td>205.000000</td>\n",
       "      <td>185.000000</td>\n",
       "    </tr>\n",
       "    <tr>\n",
       "      <th>unique</th>\n",
       "      <td>NaN</td>\n",
       "      <td>147</td>\n",
       "      <td>2</td>\n",
       "      <td>NaN</td>\n",
       "      <td>NaN</td>\n",
       "      <td>NaN</td>\n",
       "      <td>NaN</td>\n",
       "      <td>7</td>\n",
       "      <td>NaN</td>\n",
       "      <td>NaN</td>\n",
       "      <td>NaN</td>\n",
       "      <td>NaN</td>\n",
       "      <td>NaN</td>\n",
       "    </tr>\n",
       "    <tr>\n",
       "      <th>top</th>\n",
       "      <td>NaN</td>\n",
       "      <td>toyota corolla</td>\n",
       "      <td>gas</td>\n",
       "      <td>NaN</td>\n",
       "      <td>NaN</td>\n",
       "      <td>NaN</td>\n",
       "      <td>NaN</td>\n",
       "      <td>four</td>\n",
       "      <td>NaN</td>\n",
       "      <td>NaN</td>\n",
       "      <td>NaN</td>\n",
       "      <td>NaN</td>\n",
       "      <td>NaN</td>\n",
       "    </tr>\n",
       "    <tr>\n",
       "      <th>freq</th>\n",
       "      <td>NaN</td>\n",
       "      <td>6</td>\n",
       "      <td>185</td>\n",
       "      <td>NaN</td>\n",
       "      <td>NaN</td>\n",
       "      <td>NaN</td>\n",
       "      <td>NaN</td>\n",
       "      <td>159</td>\n",
       "      <td>NaN</td>\n",
       "      <td>NaN</td>\n",
       "      <td>NaN</td>\n",
       "      <td>NaN</td>\n",
       "      <td>NaN</td>\n",
       "    </tr>\n",
       "    <tr>\n",
       "      <th>mean</th>\n",
       "      <td>103.000000</td>\n",
       "      <td>NaN</td>\n",
       "      <td>NaN</td>\n",
       "      <td>174.049268</td>\n",
       "      <td>65.907805</td>\n",
       "      <td>53.724878</td>\n",
       "      <td>2555.565854</td>\n",
       "      <td>NaN</td>\n",
       "      <td>125.418848</td>\n",
       "      <td>105.747253</td>\n",
       "      <td>25.219512</td>\n",
       "      <td>30.751220</td>\n",
       "      <td>13392.181984</td>\n",
       "    </tr>\n",
       "    <tr>\n",
       "      <th>std</th>\n",
       "      <td>59.322565</td>\n",
       "      <td>NaN</td>\n",
       "      <td>NaN</td>\n",
       "      <td>12.337289</td>\n",
       "      <td>2.145204</td>\n",
       "      <td>2.443522</td>\n",
       "      <td>520.680204</td>\n",
       "      <td>NaN</td>\n",
       "      <td>39.229587</td>\n",
       "      <td>40.288214</td>\n",
       "      <td>6.542142</td>\n",
       "      <td>6.886443</td>\n",
       "      <td>8235.838288</td>\n",
       "    </tr>\n",
       "    <tr>\n",
       "      <th>min</th>\n",
       "      <td>1.000000</td>\n",
       "      <td>NaN</td>\n",
       "      <td>NaN</td>\n",
       "      <td>141.100000</td>\n",
       "      <td>60.300000</td>\n",
       "      <td>47.800000</td>\n",
       "      <td>1488.000000</td>\n",
       "      <td>NaN</td>\n",
       "      <td>61.000000</td>\n",
       "      <td>52.000000</td>\n",
       "      <td>13.000000</td>\n",
       "      <td>16.000000</td>\n",
       "      <td>5118.000000</td>\n",
       "    </tr>\n",
       "    <tr>\n",
       "      <th>25%</th>\n",
       "      <td>52.000000</td>\n",
       "      <td>NaN</td>\n",
       "      <td>NaN</td>\n",
       "      <td>166.300000</td>\n",
       "      <td>64.100000</td>\n",
       "      <td>52.000000</td>\n",
       "      <td>2145.000000</td>\n",
       "      <td>NaN</td>\n",
       "      <td>97.000000</td>\n",
       "      <td>72.250000</td>\n",
       "      <td>19.000000</td>\n",
       "      <td>25.000000</td>\n",
       "      <td>7788.000000</td>\n",
       "    </tr>\n",
       "    <tr>\n",
       "      <th>50%</th>\n",
       "      <td>103.000000</td>\n",
       "      <td>NaN</td>\n",
       "      <td>NaN</td>\n",
       "      <td>173.200000</td>\n",
       "      <td>65.500000</td>\n",
       "      <td>54.100000</td>\n",
       "      <td>2414.000000</td>\n",
       "      <td>NaN</td>\n",
       "      <td>119.000000</td>\n",
       "      <td>95.000000</td>\n",
       "      <td>24.000000</td>\n",
       "      <td>30.000000</td>\n",
       "      <td>10295.000000</td>\n",
       "    </tr>\n",
       "    <tr>\n",
       "      <th>75%</th>\n",
       "      <td>154.000000</td>\n",
       "      <td>NaN</td>\n",
       "      <td>NaN</td>\n",
       "      <td>183.100000</td>\n",
       "      <td>66.900000</td>\n",
       "      <td>55.500000</td>\n",
       "      <td>2935.000000</td>\n",
       "      <td>NaN</td>\n",
       "      <td>141.000000</td>\n",
       "      <td>121.000000</td>\n",
       "      <td>30.000000</td>\n",
       "      <td>34.000000</td>\n",
       "      <td>16503.000000</td>\n",
       "    </tr>\n",
       "    <tr>\n",
       "      <th>max</th>\n",
       "      <td>205.000000</td>\n",
       "      <td>NaN</td>\n",
       "      <td>NaN</td>\n",
       "      <td>208.100000</td>\n",
       "      <td>72.300000</td>\n",
       "      <td>59.800000</td>\n",
       "      <td>4066.000000</td>\n",
       "      <td>NaN</td>\n",
       "      <td>326.000000</td>\n",
       "      <td>288.000000</td>\n",
       "      <td>49.000000</td>\n",
       "      <td>54.000000</td>\n",
       "      <td>45400.000000</td>\n",
       "    </tr>\n",
       "  </tbody>\n",
       "</table>\n",
       "</div>"
      ],
      "text/plain": [
       "            car_ID         CarName fueltype   carlength    carwidth  \\\n",
       "count   205.000000             205      205  205.000000  205.000000   \n",
       "unique         NaN             147        2         NaN         NaN   \n",
       "top            NaN  toyota corolla      gas         NaN         NaN   \n",
       "freq           NaN               6      185         NaN         NaN   \n",
       "mean    103.000000             NaN      NaN  174.049268   65.907805   \n",
       "std      59.322565             NaN      NaN   12.337289    2.145204   \n",
       "min       1.000000             NaN      NaN  141.100000   60.300000   \n",
       "25%      52.000000             NaN      NaN  166.300000   64.100000   \n",
       "50%     103.000000             NaN      NaN  173.200000   65.500000   \n",
       "75%     154.000000             NaN      NaN  183.100000   66.900000   \n",
       "max     205.000000             NaN      NaN  208.100000   72.300000   \n",
       "\n",
       "         carheight   curbweight cylindernumber  enginesize  horsepower  \\\n",
       "count   205.000000   205.000000            205  191.000000  182.000000   \n",
       "unique         NaN          NaN              7         NaN         NaN   \n",
       "top            NaN          NaN           four         NaN         NaN   \n",
       "freq           NaN          NaN            159         NaN         NaN   \n",
       "mean     53.724878  2555.565854            NaN  125.418848  105.747253   \n",
       "std       2.443522   520.680204            NaN   39.229587   40.288214   \n",
       "min      47.800000  1488.000000            NaN   61.000000   52.000000   \n",
       "25%      52.000000  2145.000000            NaN   97.000000   72.250000   \n",
       "50%      54.100000  2414.000000            NaN  119.000000   95.000000   \n",
       "75%      55.500000  2935.000000            NaN  141.000000  121.000000   \n",
       "max      59.800000  4066.000000            NaN  326.000000  288.000000   \n",
       "\n",
       "           citympg  highwaympg         price  \n",
       "count   205.000000  205.000000    185.000000  \n",
       "unique         NaN         NaN           NaN  \n",
       "top            NaN         NaN           NaN  \n",
       "freq           NaN         NaN           NaN  \n",
       "mean     25.219512   30.751220  13392.181984  \n",
       "std       6.542142    6.886443   8235.838288  \n",
       "min      13.000000   16.000000   5118.000000  \n",
       "25%      19.000000   25.000000   7788.000000  \n",
       "50%      24.000000   30.000000  10295.000000  \n",
       "75%      30.000000   34.000000  16503.000000  \n",
       "max      49.000000   54.000000  45400.000000  "
      ]
     },
     "execution_count": 7,
     "metadata": {},
     "output_type": "execute_result"
    }
   ],
   "source": [
    "data.describe(include='all')"
   ]
  },
  {
   "cell_type": "markdown",
   "id": "asian-directive",
   "metadata": {},
   "source": [
    "Becouse we have 3 data type , we use the \"include='all'\" syntax.<br>\n",
    "count : Count number of non-NA/null observations.<br>\n",
    "max : Maximum of the values in the object.<br>\n",
    "min : Minimum of the values in the object.<br>\n",
    "mean : Mean of the values.<br>\n",
    "std : Standard deviation of the observations.<br>\n",
    "top : is the most common value.<br>\n",
    "freq : is the most common value’s frequency.<br>"
   ]
  },
  {
   "cell_type": "markdown",
   "id": "false-hygiene",
   "metadata": {},
   "source": [
    "part 2 ) The \"info\" function is used to print a brief summary of a DataFrame.<br> This method prints information about a DataFrame including the index dtype and column dtypes, non-null values and memory usage."
   ]
  },
  {
   "cell_type": "code",
   "execution_count": 4,
   "id": "alien-match",
   "metadata": {},
   "outputs": [
    {
     "name": "stdout",
     "output_type": "stream",
     "text": [
      "<class 'pandas.core.frame.DataFrame'>\n",
      "RangeIndex: 205 entries, 0 to 204\n",
      "Columns: 13 entries, car_ID to price\n",
      "dtypes: float64(6), int64(4), object(3)\n",
      "memory usage: 20.9+ KB\n"
     ]
    }
   ],
   "source": [
    "data.info(verbose=False)"
   ]
  },
  {
   "cell_type": "markdown",
   "id": "broad-parliament",
   "metadata": {},
   "source": [
    "In this part , the values of \"fuletype\" would be replaced by 0 and 1 ."
   ]
  },
  {
   "cell_type": "code",
   "execution_count": 2,
   "id": "fewer-morgan",
   "metadata": {},
   "outputs": [
    {
     "name": "stdout",
     "output_type": "stream",
     "text": [
      "     car_ID                   CarName  fueltype  carlength  carwidth  \\\n",
      "0         1        alfa-romero giulia         0      168.8      64.1   \n",
      "1         2       alfa-romero stelvio         0      168.8      64.1   \n",
      "2         3  alfa-romero Quadrifoglio         0      171.2      65.5   \n",
      "3         4               audi 100 ls         0      176.6      66.2   \n",
      "4         5                audi 100ls         0      176.6      66.4   \n",
      "..      ...                       ...       ...        ...       ...   \n",
      "200     201           volvo 145e (sw)         0      188.8      68.9   \n",
      "201     202               volvo 144ea         0      188.8      68.8   \n",
      "202     203               volvo 244dl         0      188.8      68.9   \n",
      "203     204                 volvo 246         1      188.8      68.9   \n",
      "204     205               volvo 264gl         0      188.8      68.9   \n",
      "\n",
      "     carheight  curbweight cylindernumber  enginesize  horsepower  citympg  \\\n",
      "0         48.8        2548           four       130.0       111.0       21   \n",
      "1         48.8        2548           four       130.0       111.0       21   \n",
      "2         52.4        2823            six       152.0       154.0       19   \n",
      "3         54.3        2337           four       109.0         NaN       24   \n",
      "4         54.3        2824           five       136.0       115.0       18   \n",
      "..         ...         ...            ...         ...         ...      ...   \n",
      "200       55.5        2952           four       141.0       114.0       23   \n",
      "201       55.5        3049           four       141.0       160.0       19   \n",
      "202       55.5        3012            six       173.0       134.0       18   \n",
      "203       55.5        3217            six       145.0       106.0       26   \n",
      "204       55.5        3062           four       141.0       114.0       19   \n",
      "\n",
      "     highwaympg    price  \n",
      "0            27  13495.0  \n",
      "1            27  16500.0  \n",
      "2            26  16500.0  \n",
      "3            30  13950.0  \n",
      "4            22      NaN  \n",
      "..          ...      ...  \n",
      "200          28  16845.0  \n",
      "201          25  19045.0  \n",
      "202          23  21485.0  \n",
      "203          27  22470.0  \n",
      "204          25  22625.0  \n",
      "\n",
      "[205 rows x 13 columns]\n",
      "<class 'pandas.core.frame.DataFrame'>\n",
      "RangeIndex: 205 entries, 0 to 204\n",
      "Data columns (total 13 columns):\n",
      " #   Column          Non-Null Count  Dtype  \n",
      "---  ------          --------------  -----  \n",
      " 0   car_ID          205 non-null    int64  \n",
      " 1   CarName         205 non-null    object \n",
      " 2   fueltype        205 non-null    int64  \n",
      " 3   carlength       205 non-null    float64\n",
      " 4   carwidth        205 non-null    float64\n",
      " 5   carheight       205 non-null    float64\n",
      " 6   curbweight      205 non-null    int64  \n",
      " 7   cylindernumber  205 non-null    object \n",
      " 8   enginesize      191 non-null    float64\n",
      " 9   horsepower      182 non-null    float64\n",
      " 10  citympg         205 non-null    int64  \n",
      " 11  highwaympg      205 non-null    int64  \n",
      " 12  price           185 non-null    float64\n",
      "dtypes: float64(6), int64(5), object(2)\n",
      "memory usage: 20.9+ KB\n"
     ]
    }
   ],
   "source": [
    "FUELTYPE = {\"fueltype\":{\"gas\": 0, \"diesel\": 1}}\n",
    "data = data.replace(FUELTYPE);\n",
    "print(data)\n",
    "data.info()"
   ]
  },
  {
   "cell_type": "markdown",
   "id": "orange-naples",
   "metadata": {},
   "source": [
    "part 3 ) in this part , we replace the NAN values with the mean of the same column.<br>Filling NaN values with the mean of the column causes the amount of data to be centered around the average and changes the shape of the distribution.<br>For example, if the data is more diffuse, it concentrates it, reducing the overall data scatter and mistakenly increasing the accuracy.\n",
    "\n",
    "\n",
    "\n",
    " "
   ]
  },
  {
   "cell_type": "code",
   "execution_count": 3,
   "id": "welcome-problem",
   "metadata": {},
   "outputs": [
    {
     "name": "stdout",
     "output_type": "stream",
     "text": [
      "     car_ID                   CarName  fueltype  carlength  carwidth  \\\n",
      "0         1        alfa-romero giulia         0      168.8      64.1   \n",
      "1         2       alfa-romero stelvio         0      168.8      64.1   \n",
      "2         3  alfa-romero Quadrifoglio         0      171.2      65.5   \n",
      "3         4               audi 100 ls         0      176.6      66.2   \n",
      "4         5                audi 100ls         0      176.6      66.4   \n",
      "..      ...                       ...       ...        ...       ...   \n",
      "200     201           volvo 145e (sw)         0      188.8      68.9   \n",
      "201     202               volvo 144ea         0      188.8      68.8   \n",
      "202     203               volvo 244dl         0      188.8      68.9   \n",
      "203     204                 volvo 246         1      188.8      68.9   \n",
      "204     205               volvo 264gl         0      188.8      68.9   \n",
      "\n",
      "     carheight  curbweight cylindernumber  enginesize  horsepower  citympg  \\\n",
      "0         48.8        2548           four       130.0  111.000000       21   \n",
      "1         48.8        2548           four       130.0  111.000000       21   \n",
      "2         52.4        2823            six       152.0  154.000000       19   \n",
      "3         54.3        2337           four       109.0  105.747253       24   \n",
      "4         54.3        2824           five       136.0  115.000000       18   \n",
      "..         ...         ...            ...         ...         ...      ...   \n",
      "200       55.5        2952           four       141.0  114.000000       23   \n",
      "201       55.5        3049           four       141.0  160.000000       19   \n",
      "202       55.5        3012            six       173.0  134.000000       18   \n",
      "203       55.5        3217            six       145.0  106.000000       26   \n",
      "204       55.5        3062           four       141.0  114.000000       19   \n",
      "\n",
      "     highwaympg    price  \n",
      "0            27  13495.0  \n",
      "1            27  16500.0  \n",
      "2            26  16500.0  \n",
      "3            30  13950.0  \n",
      "4            22      NaN  \n",
      "..          ...      ...  \n",
      "200          28  16845.0  \n",
      "201          25  19045.0  \n",
      "202          23  21485.0  \n",
      "203          27  22470.0  \n",
      "204          25  22625.0  \n",
      "\n",
      "[205 rows x 13 columns]\n"
     ]
    }
   ],
   "source": [
    "mean1 = data[\"enginesize\"].mean();\n",
    "mean2= data[\"horsepower\"].mean();\n",
    "data['enginesize'] = data['enginesize'].fillna(mean1)\n",
    "data['horsepower'] = data['horsepower'].fillna(mean2)\n",
    "print(data)"
   ]
  },
  {
   "cell_type": "code",
   "execution_count": 59,
   "id": "honey-samba",
   "metadata": {},
   "outputs": [
    {
     "name": "stdout",
     "output_type": "stream",
     "text": [
      "     car_ID                    CarName  fueltype  carlength  carwidth  \\\n",
      "4         5                 audi 100ls         0      176.6      66.4   \n",
      "29       30  dodge coronet custom (sw)         0      173.2      66.3   \n",
      "31       32           honda civic cvcc         0      144.6      63.9   \n",
      "52       53            mazda rx2 coupe         0      159.1      64.2   \n",
      "53       54                 mazda rx-4         0      166.8      64.2   \n",
      "59       60                  mazda 626         0      177.8      66.5   \n",
      "62       63                 mazda rx-4         0      177.8      66.5   \n",
      "67       68   buick electra 225 custom         1      190.9      70.3   \n",
      "78       79       mitsubishi outlander         0      157.3      64.4   \n",
      "84       85       mitsubishi mirage g4         0      173.2      66.3   \n",
      "87       88       mitsubishi outlander         0      172.4      65.4   \n",
      "88       89       mitsubishi mirage g4         0      172.4      65.4   \n",
      "104     105               nissan teana         0      170.7      67.9   \n",
      "123     124           plymouth valiant         0      174.6      64.6   \n",
      "136     137                 saab 99gle         0      186.6      66.5   \n",
      "137     138                   saab 99e         0      186.6      66.5   \n",
      "141     142                     subaru         0      172.0      65.4   \n",
      "149     150                  subaru dl         0      173.6      65.4   \n",
      "181     182             toyouta tercel         0      187.8      66.5   \n",
      "189     190                  vw dasher         0      159.3      64.2   \n",
      "\n",
      "     carheight  curbweight cylindernumber  enginesize  horsepower  citympg  \\\n",
      "4         54.3        2824           five  136.000000       115.0       18   \n",
      "29        50.2        2811           four  156.000000       145.0       19   \n",
      "31        50.8        1819           four   92.000000        76.0       31   \n",
      "52        54.1        1905           four   91.000000        68.0       31   \n",
      "53        54.1        1945           four   91.000000        68.0       31   \n",
      "59        53.7        2385           four  122.000000        84.0       26   \n",
      "62        55.5        2410           four  122.000000        84.0       26   \n",
      "67        56.5        3515           five  183.000000       123.0       22   \n",
      "78        50.8        2004           four   92.000000        68.0       31   \n",
      "84        50.2        2926           four  156.000000       145.0       19   \n",
      "87        51.6        2403           four  110.000000       116.0       23   \n",
      "88        51.6        2403           four  110.000000       116.0       23   \n",
      "104       49.7        3071            six  181.000000       160.0       19   \n",
      "123       59.8        2535           four  122.000000        88.0       24   \n",
      "136       56.1        2808           four  125.418848       160.0       19   \n",
      "137       56.1        2847           four  121.000000       160.0       19   \n",
      "141       52.5        2145           four  108.000000        82.0       32   \n",
      "149       54.9        2650           four  108.000000       111.0       23   \n",
      "181       54.1        3151            six  161.000000       156.0       19   \n",
      "189       55.6        2254           four  109.000000        90.0       24   \n",
      "\n",
      "     highwaympg  price  \n",
      "4            22    NaN  \n",
      "29           24    NaN  \n",
      "31           38    NaN  \n",
      "52           38    NaN  \n",
      "53           38    NaN  \n",
      "59           32    NaN  \n",
      "62           32    NaN  \n",
      "67           25    NaN  \n",
      "78           38    NaN  \n",
      "84           24    NaN  \n",
      "87           30    NaN  \n",
      "88           30    NaN  \n",
      "104          25    NaN  \n",
      "123          30    NaN  \n",
      "136          26    NaN  \n",
      "137          26    NaN  \n",
      "141          37    NaN  \n",
      "149          23    NaN  \n",
      "181          24    NaN  \n",
      "189          29    NaN  \n"
     ]
    }
   ],
   "source": [
    "import numpy as np \n",
    "data_NaN =data[data[\"price\"].isin([np.nan])]\n",
    "print(data_NaN)"
   ]
  },
  {
   "cell_type": "markdown",
   "id": "million-digest",
   "metadata": {},
   "source": [
    "part 4 ) We can calculate the number of cars with a certain number of cylinders with \"values_counts\" function . As you see , they are in descending order."
   ]
  },
  {
   "cell_type": "code",
   "execution_count": 28,
   "id": "continuing-daughter",
   "metadata": {},
   "outputs": [
    {
     "data": {
      "text/plain": [
       "four      159\n",
       "six        24\n",
       "five       11\n",
       "eight       5\n",
       "two         4\n",
       "twelve      1\n",
       "three       1\n",
       "Name: cylindernumber, dtype: int64"
      ]
     },
     "execution_count": 28,
     "metadata": {},
     "output_type": "execute_result"
    }
   ],
   "source": [
    "data[\"cylindernumber\"].value_counts()"
   ]
  },
  {
   "cell_type": "markdown",
   "id": "knowing-discovery",
   "metadata": {},
   "source": [
    "part 5 ) There is 3 cars with these conditions."
   ]
  },
  {
   "cell_type": "code",
   "execution_count": 4,
   "id": "hispanic-monitoring",
   "metadata": {},
   "outputs": [
    {
     "name": "stdout",
     "output_type": "stream",
     "text": [
      "    car_ID                          CarName  fueltype  carlength  carwidth  \\\n",
      "49      50                        jaguar xk         0      191.7      70.6   \n",
      "73      74            buick century special         0      208.1      71.7   \n",
      "74      75  buick regal sport coupe (turbo)         0      199.2      72.0   \n",
      "\n",
      "    carheight  curbweight cylindernumber  enginesize  horsepower  citympg  \\\n",
      "49       47.8        3950         twelve  326.000000  262.000000       13   \n",
      "73       56.7        3900          eight  125.418848  105.747253       14   \n",
      "74       55.4        3715          eight  304.000000  184.000000       14   \n",
      "\n",
      "    highwaympg    price  \n",
      "49          17  36000.0  \n",
      "73          16  40960.0  \n",
      "74          16  45400.0  \n",
      "3\n"
     ]
    }
   ],
   "source": [
    "data5 = data[(data['horsepower'] > 100) & (data['citympg'] < 15 )]\n",
    "print(data5)\n",
    "print(len(data5))"
   ]
  },
  {
   "cell_type": "markdown",
   "id": "minor-moldova",
   "metadata": {},
   "source": [
    "part 6 ) In this part , at the first place , we seperate the cars which works with \"gas\" or \"diesel\". then we calculate the mean of them by \"mean\" function."
   ]
  },
  {
   "cell_type": "markdown",
   "id": "transparent-madrid",
   "metadata": {},
   "source": [
    "VICTORIZATION"
   ]
  },
  {
   "cell_type": "code",
   "execution_count": 6,
   "id": "natural-prediction",
   "metadata": {},
   "outputs": [
    {
     "name": "stdout",
     "output_type": "stream",
     "text": [
      "13170.738957831325\n",
      "15326.894736842105\n",
      "0.0018286705017089844\n"
     ]
    }
   ],
   "source": [
    "import numpy as np \n",
    "ndata =data[~data[\"price\"].isin([np.nan])]\n",
    "\n",
    "tic = time.time()\n",
    "Gas = ndata[ndata['fueltype']==0]\n",
    "\n",
    "gas_mean = Gas['price'].mean()\n",
    "tac = time.time()\n",
    "Diesel = ndata[ndata['fueltype']==1 ]\n",
    "diesel_mean = Diesel['price'].mean()\n",
    "\n",
    "print(gas_mean)\n",
    "print(diesel_mean)\n",
    "print(tac - tic)"
   ]
  },
  {
   "cell_type": "markdown",
   "id": "aerial-vienna",
   "metadata": {},
   "source": [
    "part 7 ) LOOP"
   ]
  },
  {
   "cell_type": "code",
   "execution_count": 7,
   "id": "indoor-sudan",
   "metadata": {},
   "outputs": [
    {
     "name": "stdout",
     "output_type": "stream",
     "text": [
      "13170.738957831325\n",
      "15326.894736842105\n",
      "0.10824894905090332\n"
     ]
    }
   ],
   "source": [
    "c1=0;\n",
    "c2=0;\n",
    "gas=0;\n",
    "diesel=0;\n",
    "ndata =data[~data[\"price\"].isin([np.nan])]\n",
    "tic = time.time()\n",
    "for i in range(len(ndata)):\n",
    "    if ndata.iloc[i]['fueltype']== 0 : \n",
    "        gas= gas + ndata.iloc[i]['price']\n",
    "        c1=c1+1;\n",
    "       \n",
    "    elif ndata.iloc[i]['fueltype']== 1:\n",
    "        diesel = diesel + ndata.iloc[i]['price'] \n",
    "        c2=c2+1\n",
    "        \n",
    "tac = time.time()        \n",
    "print(gas/c1)\n",
    "print(diesel/c2)\n",
    "print(tac - tic)"
   ]
  },
  {
   "cell_type": "markdown",
   "id": "reflected-equality",
   "metadata": {},
   "source": [
    "As you see above , the duration of loop is much longer than the duration of vectorization . It is about 30 times larger.\n"
   ]
  },
  {
   "cell_type": "markdown",
   "id": "minimal-malaysia",
   "metadata": {},
   "source": [
    "part 8 ) By using the \"hist\" function of the pandas library, we show the distribution of each column of data on the chart. "
   ]
  },
  {
   "cell_type": "code",
   "execution_count": 22,
   "id": "fabulous-performance",
   "metadata": {},
   "outputs": [
    {
     "data": {
      "image/png": "[encoded data removed]",
      "text/plain": [
       "<Figure size 432x288 with 12 Axes>"
      ]
     },
     "metadata": {
      "needs_background": "light"
     },
     "output_type": "display_data"
    }
   ],
   "source": [
    "ax = data.hist(bins=30)"
   ]
  },
  {
   "cell_type": "markdown",
   "id": "charged-salvation",
   "metadata": {},
   "source": [
    "part 9 ) To find standard deviation , we use \"std()\" function from numpy library. \"ndata\" is the framework which there is no  NaN values in its 'price' column ."
   ]
  },
  {
   "cell_type": "code",
   "execution_count": 8,
   "id": "removed-patrick",
   "metadata": {},
   "outputs": [
    {
     "name": "stdout",
     "output_type": "stream",
     "text": [
      "0      0.012518\n",
      "1      0.378377\n",
      "2      0.378377\n",
      "3      0.067914\n",
      "5      0.226189\n",
      "         ...   \n",
      "200    0.420381\n",
      "201    0.688231\n",
      "202    0.985301\n",
      "203    1.105225\n",
      "204    1.124096\n",
      "Name: price, Length: 185, dtype: float64\n"
     ]
    },
    {
     "name": "stderr",
     "output_type": "stream",
     "text": [
      "/usr/local/lib/python3.7/site-packages/ipykernel_launcher.py:3: SettingWithCopyWarning: \n",
      "A value is trying to be set on a copy of a slice from a DataFrame.\n",
      "Try using .loc[row_indexer,col_indexer] = value instead\n",
      "\n",
      "See the caveats in the documentation: https://pandas.pydata.org/pandas-docs/stable/user_guide/indexing.html#returning-a-view-versus-a-copy\n",
      "  This is separate from the ipykernel package so we can avoid doing imports until\n"
     ]
    }
   ],
   "source": [
    "import numpy\n",
    "std = numpy.std(ndata[\"price\"])\n",
    "ndata[\"price\"] = (ndata[\"price\"]-ndata[\"price\"].mean())/std;\n",
    "print(ndata[\"price\"])"
   ]
  },
  {
   "cell_type": "markdown",
   "id": "operational-mapping",
   "metadata": {},
   "source": [
    "part 10 ) In this part , we plot the different attributes versus price and check the correlation between them .<br> a graph with positive slope , have positive corrolation and vise versa.<br> we check the magnetude of correlation by \"corrcoef\" funtion from numpy library."
   ]
  },
  {
   "cell_type": "code",
   "execution_count": 9,
   "id": "monetary-chosen",
   "metadata": {},
   "outputs": [
    {
     "name": "stdout",
     "output_type": "stream",
     "text": [
      "[[1.         0.68310449]\n",
      " [0.68310449 1.        ]]\n"
     ]
    },
    {
     "data": {
      "image/png": "[encoded data removed]",
      "text/plain": [
       "<Figure size 432x288 with 1 Axes>"
      ]
     },
     "metadata": {
      "needs_background": "light"
     },
     "output_type": "display_data"
    }
   ],
   "source": [
    "plt.plot(ndata[\"carlength\"], ndata['price'], 'o', color='green');\n",
    "print(np.corrcoef(ndata[\"carlength\"], ndata['price']))"
   ]
  },
  {
   "cell_type": "code",
   "execution_count": 46,
   "id": "joint-coverage",
   "metadata": {},
   "outputs": [
    {
     "name": "stdout",
     "output_type": "stream",
     "text": [
      "[[1.         0.75548982]\n",
      " [0.75548982 1.        ]]\n"
     ]
    },
    {
     "data": {
      "image/png": "[encoded data removed]",
      "text/plain": [
       "<Figure size 432x288 with 1 Axes>"
      ]
     },
     "metadata": {
      "needs_background": "light"
     },
     "output_type": "display_data"
    }
   ],
   "source": [
    "plt.plot(ndata[\"carwidth\"], ndata['price'], 'o', color='green');\n",
    "print(np.corrcoef(ndata[\"carwidth\"], ndata['price']))"
   ]
  },
  {
   "cell_type": "code",
   "execution_count": 47,
   "id": "organizational-period",
   "metadata": {},
   "outputs": [
    {
     "name": "stdout",
     "output_type": "stream",
     "text": [
      "[[1.         0.11178301]\n",
      " [0.11178301 1.        ]]\n"
     ]
    },
    {
     "data": {
      "image/png": "[encoded data removed]",
      "text/plain": [
       "<Figure size 432x288 with 1 Axes>"
      ]
     },
     "metadata": {
      "needs_background": "light"
     },
     "output_type": "display_data"
    }
   ],
   "source": [
    "plt.plot(ndata[\"carheight\"], ndata['price'], 'o', color='green');\n",
    "print(np.corrcoef(ndata[\"carheight\"], ndata['price']))"
   ]
  },
  {
   "cell_type": "code",
   "execution_count": 48,
   "id": "frequent-integration",
   "metadata": {},
   "outputs": [
    {
     "name": "stdout",
     "output_type": "stream",
     "text": [
      "[[1.         0.83360243]\n",
      " [0.83360243 1.        ]]\n"
     ]
    },
    {
     "data": {
      "image/png": "[encoded data removed]",
      "text/plain": [
       "<Figure size 432x288 with 1 Axes>"
      ]
     },
     "metadata": {
      "needs_background": "light"
     },
     "output_type": "display_data"
    }
   ],
   "source": [
    "plt.plot(ndata[\"curbweight\"], ndata['price'], 'o', color='green');\n",
    "print(np.corrcoef(ndata[\"curbweight\"], ndata['price']))"
   ]
  },
  {
   "cell_type": "code",
   "execution_count": 50,
   "id": "neither-parking",
   "metadata": {},
   "outputs": [
    {
     "data": {
      "image/png": "[encoded data removed]",
      "text/plain": [
       "<Figure size 432x288 with 1 Axes>"
      ]
     },
     "metadata": {
      "needs_background": "light"
     },
     "output_type": "display_data"
    }
   ],
   "source": [
    "plt.plot(ndata[\"cylindernumber\"], ndata['price'], 'o', color='green');"
   ]
  },
  {
   "cell_type": "code",
   "execution_count": 51,
   "id": "necessary-target",
   "metadata": {},
   "outputs": [
    {
     "name": "stdout",
     "output_type": "stream",
     "text": [
      "[[1.        0.7940255]\n",
      " [0.7940255 1.       ]]\n"
     ]
    },
    {
     "data": {
      "image/png": "[encoded data removed]",
      "text/plain": [
       "<Figure size 432x288 with 1 Axes>"
      ]
     },
     "metadata": {
      "needs_background": "light"
     },
     "output_type": "display_data"
    }
   ],
   "source": [
    "plt.plot(ndata[\"enginesize\"], ndata['price'], 'o', color='green');\n",
    "print(np.corrcoef(ndata[\"enginesize\"], ndata['price']))"
   ]
  },
  {
   "cell_type": "code",
   "execution_count": 52,
   "id": "governing-flush",
   "metadata": {},
   "outputs": [
    {
     "name": "stdout",
     "output_type": "stream",
     "text": [
      "[[1.         0.76918153]\n",
      " [0.76918153 1.        ]]\n"
     ]
    },
    {
     "data": {
      "image/png": "[encoded data removed]",
      "text/plain": [
       "<Figure size 432x288 with 1 Axes>"
      ]
     },
     "metadata": {
      "needs_background": "light"
     },
     "output_type": "display_data"
    }
   ],
   "source": [
    "plt.plot(ndata['horsepower'], ndata['price'], 'o', color='green');\n",
    "print(np.corrcoef(ndata[\"horsepower\"], ndata['price']))"
   ]
  },
  {
   "cell_type": "code",
   "execution_count": 53,
   "id": "biblical-variance",
   "metadata": {},
   "outputs": [
    {
     "name": "stdout",
     "output_type": "stream",
     "text": [
      "[[ 1.        -0.6871505]\n",
      " [-0.6871505  1.       ]]\n"
     ]
    },
    {
     "data": {
      "image/png": "[encoded data removed]",
      "text/plain": [
       "<Figure size 432x288 with 1 Axes>"
      ]
     },
     "metadata": {
      "needs_background": "light"
     },
     "output_type": "display_data"
    }
   ],
   "source": [
    "plt.plot(ndata['citympg'], ndata['price'], 'o', color='green');\n",
    "print(np.corrcoef(ndata[\"citympg\"], ndata['price']))"
   ]
  },
  {
   "cell_type": "code",
   "execution_count": 54,
   "id": "magnetic-laugh",
   "metadata": {},
   "outputs": [
    {
     "name": "stdout",
     "output_type": "stream",
     "text": [
      "[[ 1.         -0.69883228]\n",
      " [-0.69883228  1.        ]]\n"
     ]
    },
    {
     "data": {
      "image/png": "[encoded data removed]",
      "text/plain": [
       "<Figure size 432x288 with 1 Axes>"
      ]
     },
     "metadata": {
      "needs_background": "light"
     },
     "output_type": "display_data"
    }
   ],
   "source": [
    "plt.plot(ndata['highwaympg'], ndata['price'], 'o', color='green');\n",
    "print(np.corrcoef(ndata[\"highwaympg\"], ndata['price']))"
   ]
  },
  {
   "cell_type": "markdown",
   "id": "social-sunrise",
   "metadata": {},
   "source": [
    "As you see above , the \"curbweight\" attribute has largest correlation among the others. according to the picture of this attribute , you can see it's more linear than others and it has a positive slope."
   ]
  },
  {
   "cell_type": "markdown",
   "id": "selected-kingdom",
   "metadata": {},
   "source": [
    "part 11 ) In the section , we create a new dataframe and add \"curbweight\" and \"price\" attributes to it ."
   ]
  },
  {
   "cell_type": "code",
   "execution_count": 10,
   "id": "threaded-cabinet",
   "metadata": {},
   "outputs": [
    {
     "name": "stdout",
     "output_type": "stream",
     "text": [
      "     curbweight     price\n",
      "0          2548  0.012518\n",
      "1          2548  0.378377\n",
      "2          2823  0.378377\n",
      "3          2337  0.067914\n",
      "5          2507  0.226189\n",
      "..          ...       ...\n",
      "200        2952  0.420381\n",
      "201        3049  0.688231\n",
      "202        3012  0.985301\n",
      "203        3217  1.105225\n",
      "204        3062  1.124096\n",
      "\n",
      "[185 rows x 2 columns]\n"
     ]
    }
   ],
   "source": [
    "df = pd.DataFrame()\n",
    "df[\"curbweight\"] = ndata[\"curbweight\"]\n",
    "df[\"price\"]= ndata[\"price\"]\n",
    "print(df)"
   ]
  },
  {
   "cell_type": "markdown",
   "id": "extreme-tucson",
   "metadata": {},
   "source": [
    "As you see below , we separate cars whose price is not known."
   ]
  },
  {
   "cell_type": "code",
   "execution_count": 11,
   "id": "yellow-guest",
   "metadata": {},
   "outputs": [],
   "source": [
    "df1 =df[~df[\"price\"].isin([np.nan])]\n"
   ]
  },
  {
   "cell_type": "markdown",
   "id": "fallen-behavior",
   "metadata": {},
   "source": [
    "part 12 )  To calculate the coefficients of a linear regression equation , I use this website https://blog.faradars.org/simple-linear-regression/ .<br>\n",
    "for calculating the coefficients , we have to formulize the total error , then minimize it by calculating the derivation of that formula relative to these coefficients and set them to zero .<br>\n",
    "\n",
    "Finally we will get the following relations."
   ]
  },
  {
   "cell_type": "code",
   "execution_count": 19,
   "id": "incoming-machine",
   "metadata": {},
   "outputs": [
    {
     "name": "stdout",
     "output_type": "stream",
     "text": [
      "0.30512751353807516\n"
     ]
    }
   ],
   "source": [
    "# Y = AX+B\n",
    "x = df1.iloc[:, 0].values\n",
    "y = df1.iloc[:, 1].values\n",
    "A = (len(x)*((np.dot(x,y)/len(x))- (np.mean(x))*(np.mean(y))))/((len(x)-1)*(np.var(x)));\n",
    "B = np.mean(y)-A*np.mean(x);\n",
    "MSE=sum((y-(A*x+B))**2)/len(x);\n",
    "print(MSE)"
   ]
  },
  {
   "cell_type": "markdown",
   "id": "fifth-algorithm",
   "metadata": {},
   "source": [
    "As you see, MSE < 0.5 ."
   ]
  },
  {
   "cell_type": "markdown",
   "id": "informative-ranch",
   "metadata": {},
   "source": [
    "another way to calculate the MSE:"
   ]
  },
  {
   "cell_type": "code",
   "execution_count": 53,
   "id": "neural-guitar",
   "metadata": {},
   "outputs": [
    {
     "name": "stdout",
     "output_type": "stream",
     "text": [
      "0.30512751353807493\n"
     ]
    }
   ],
   "source": [
    "MSE = []\n",
    "for index, row in df1.iterrows():\n",
    "    MSE.append((row[\"price\"] -((A* row[\"curbweight\"] +B)))**2/len(x))\n",
    "mse=sum(MSE)\n",
    "print(mse)          "
   ]
  },
  {
   "cell_type": "markdown",
   "id": "unlikely-olympus",
   "metadata": {},
   "source": [
    "part 13 ) we plot regression equation with red line and the row data with dots in one picture . <br>\n",
    "as you see , the line equation corresponds to the denser data."
   ]
  },
  {
   "cell_type": "code",
   "execution_count": 57,
   "id": "alpine-rings",
   "metadata": {},
   "outputs": [
    {
     "data": {
      "image/png": "[encoded data removed]",
      "text/plain": [
       "<Figure size 432x288 with 1 Axes>"
      ]
     },
     "metadata": {
      "needs_background": "light"
     },
     "output_type": "display_data"
    }
   ],
   "source": [
    "Y=A*x+B;\n",
    "plt.plot(x, Y, 'r') # plotting t, a separately \n",
    "plt.plot(x, y, 'o') # plotting t, b separately \n",
    "plt.show()"
   ]
  },
  {
   "cell_type": "markdown",
   "id": "advanced-anxiety",
   "metadata": {},
   "source": [
    "part 14 ) data_NaN contains datas with NaN price , so by having the \"curweight\" and the regression equation we can guess their prices:"
   ]
  },
  {
   "cell_type": "code",
   "execution_count": 64,
   "id": "ethical-leonard",
   "metadata": {},
   "outputs": [
    {
     "name": "stderr",
     "output_type": "stream",
     "text": [
      "/usr/local/lib/python3.7/site-packages/ipykernel_launcher.py:1: SettingWithCopyWarning: \n",
      "A value is trying to be set on a copy of a slice from a DataFrame.\n",
      "Try using .loc[row_indexer,col_indexer] = value instead\n",
      "\n",
      "See the caveats in the documentation: https://pandas.pydata.org/pandas-docs/stable/user_guide/indexing.html#returning-a-view-versus-a-copy\n",
      "  \"\"\"Entry point for launching an IPython kernel.\n"
     ]
    },
    {
     "data": {
      "text/plain": [
       "[<matplotlib.lines.Line2D at 0x11aa59e10>]"
      ]
     },
     "execution_count": 64,
     "metadata": {},
     "output_type": "execute_result"
    },
    {
     "data": {
      "image/png": "[encoded data removed]",
      "text/plain": [
       "<Figure size 432x288 with 1 Axes>"
      ]
     },
     "metadata": {
      "needs_background": "light"
     },
     "output_type": "display_data"
    }
   ],
   "source": [
    "data_NaN[\"price\"]= A*data_NaN[\"curbweight\"] +B;\n",
    "plt.plot(data_NaN[\"curbweight\"], data_NaN[\"price\"], 'o')"
   ]
  },
  {
   "cell_type": "code",
   "execution_count": null,
   "id": "quality-arthritis",
   "metadata": {},
   "outputs": [],
   "source": []
  }
 ],
 "metadata": {
  "kernelspec": {
   "display_name": "Python 3",
   "language": "python",
   "name": "python3"
  },
  "language_info": {
   "codemirror_mode": {
    "name": "ipython",
    "version": 3
   },
   "file_extension": ".py",
   "mimetype": "text/x-python",
   "name": "python",
   "nbconvert_exporter": "python",
   "pygments_lexer": "ipython3",
   "version": "3.7.7"
  }
 },
 "nbformat": 4,
 "nbformat_minor": 5
}
