{
 "cells": [
  {
   "cell_type": "markdown",
   "id": "alpine-victorian",
   "metadata": {},
   "source": [
    "<h1 style = \"font-size: 30px; text-align: center;\">Artificial Intelligence</h1>\n",
    "<h1 style = \"font-size: 30px; text-align: center;\">CA 4</h1>\n",
    "<h2 style = \"font-size: 25px; text-align: center;\"> Machine Learning </h2>\n",
    "<h2 style = \"font-size: 25px; text-align: center; color: #666\">Name: Toktam Sameie</h2>\n",
    "<h2 style = \"font-size: 25px; text-align: center; color: #666\">Student Id: 810896054</h2>\n",
    "<h4 style=\"text-align: center\">Spring 1400</h4>"
   ]
  },
  {
   "cell_type": "markdown",
   "id": "certain-swaziland",
   "metadata": {},
   "source": [
    "<h1 style = \"font-size: 50px; text-align: center;\">Phase 1</h1>"
   ]
  },
  {
   "cell_type": "markdown",
   "id": "aggregate-wages",
   "metadata": {},
   "source": [
    "<h1 style = \"font-size: 20px; color: #235\">In this project , we are going to estimate the price of cars in the given data set . </h1>"
   ]
  },
  {
   "cell_type": "markdown",
   "id": "impressed-brisbane",
   "metadata": {},
   "source": [
    "<h1 style = \"font-size: 15px; color: #235\">At first , I import all libraris I need like 'pandas' , 'numpy', 'matplotlib.pyplot' and 'sklearn'...</h1>"
   ]
  },
  {
   "cell_type": "code",
   "execution_count": 1,
   "id": "boxed-jason",
   "metadata": {},
   "outputs": [],
   "source": [
    "import pandas as pd\n",
    "import numpy as np\n",
    "import random\n",
    "import matplotlib.pyplot as plt\n",
    "import operator\n",
    "import time\n",
    "from collections import Counter\n",
    "from nltk.corpus import stopwords\n",
    "import copy\n",
    "from IPython.display import Latex\n",
    "import nltk\n",
    "from nltk.tokenize import sent_tokenize, word_tokenize\n",
    "from nltk.tokenize import RegexpTokenizer\n",
    "tokenizer = RegexpTokenizer(r'\\w+')\n",
    "from nltk.tokenize import word_tokenize"
   ]
  },
  {
   "cell_type": "code",
   "execution_count": 2,
   "id": "proud-bathroom",
   "metadata": {},
   "outputs": [],
   "source": [
    "from sklearn.model_selection import train_test_split\n",
    "from sklearn.feature_extraction.text import (CountVectorizer, TfidfVectorizer,TfidfTransformer)\n",
    "from sklearn.feature_selection import VarianceThreshold, mutual_info_classif, mutual_info_regression\n",
    "from sklearn.preprocessing import LabelEncoder\n",
    "from sklearn.metrics import mean_squared_error\n",
    "from sklearn.neighbors import KNeighborsClassifier\n",
    "from sklearn.tree import DecisionTreeClassifier\n",
    "from sklearn.linear_model import LinearRegression\n",
    "from sklearn.feature_selection import SelectPercentile\n",
    "from sklearn.ensemble import RandomForestClassifier\n",
    "from sklearn.model_selection import GridSearchCV\n",
    "from sklearn.ensemble import RandomForestRegressor\n",
    "from sklearn.model_selection import RandomizedSearchCV\n",
    "from sklearn import metrics\n",
    "import math"
   ]
  },
  {
   "cell_type": "code",
   "execution_count": 92,
   "id": "atlantic-calculator",
   "metadata": {},
   "outputs": [],
   "source": [
    "from IPython.display import HTML, display\n",
    "\n",
    "def display_table(data):\n",
    "    html = \"<table>\"\n",
    "    for row in data:\n",
    "        html += \"<tr>\"\n",
    "        for field in row:\n",
    "            html += \"<td><h4>%s</h4><td>\"%(field)\n",
    "        html += \"</tr>\"\n",
    "    html += \"</table>\"\n",
    "    display(HTML(html))"
   ]
  },
  {
   "cell_type": "markdown",
   "id": "british-saturn",
   "metadata": {},
   "source": [
    "<h1 style = \"font-size: 15px; color: #235\">I load the data fron 'vehicles.csv' file .</h1>"
   ]
  },
  {
   "cell_type": "code",
   "execution_count": 4,
   "id": "supposed-saver",
   "metadata": {},
   "outputs": [],
   "source": [
    "Data = pd.read_csv(\"vehicles.csv\")"
   ]
  },
  {
   "cell_type": "markdown",
   "id": "selected-harbor",
   "metadata": {},
   "source": [
    "<h1 style = \"font-size: 15px; color: #235\">Here , I droped the rows which had value of null</h1>"
   ]
  },
  {
   "cell_type": "code",
   "execution_count": 5,
   "id": "satisfied-authorization",
   "metadata": {},
   "outputs": [],
   "source": [
    "data = Data.dropna()"
   ]
  },
  {
   "cell_type": "markdown",
   "id": "urban-skill",
   "metadata": {},
   "source": [
    "<h1 style = \"font-size: 15px; color: #235\">Here ,I use \"tokenize\" function to separate the words in a sentence and also to remove punctuation in both train dataframe and test dataframe  : </h1>"
   ]
  },
  {
   "cell_type": "code",
   "execution_count": 6,
   "id": "extraordinary-gravity",
   "metadata": {},
   "outputs": [
    {
     "name": "stderr",
     "output_type": "stream",
     "text": [
      "/usr/local/lib/python3.7/site-packages/ipykernel_launcher.py:5: SettingWithCopyWarning: \n",
      "A value is trying to be set on a copy of a slice from a DataFrame.\n",
      "Try using .loc[row_indexer,col_indexer] = value instead\n",
      "\n",
      "See the caveats in the documentation: https://pandas.pydata.org/pandas-docs/stable/user_guide/indexing.html#returning-a-view-versus-a-copy\n",
      "  \"\"\"\n",
      "/usr/local/lib/python3.7/site-packages/ipykernel_launcher.py:6: SettingWithCopyWarning: \n",
      "A value is trying to be set on a copy of a slice from a DataFrame.\n",
      "Try using .loc[row_indexer,col_indexer] = value instead\n",
      "\n",
      "See the caveats in the documentation: https://pandas.pydata.org/pandas-docs/stable/user_guide/indexing.html#returning-a-view-versus-a-copy\n",
      "  \n"
     ]
    }
   ],
   "source": [
    "from __future__ import unicode_literals\n",
    "from hazm import *\n",
    "stemmer = Stemmer()\n",
    "lemmatizer = Lemmatizer()\n",
    "data['description'] = data.apply(lambda row: tokenizer.tokenize(row['description']), axis=1)\n",
    "data['title'] = data.apply(lambda row: tokenizer.tokenize(row['title']), axis=1)"
   ]
  },
  {
   "cell_type": "markdown",
   "id": "everyday-margin",
   "metadata": {},
   "source": [
    "<h1 style = \"font-size: 15px; color: #235\">When I drop the Null values of data frame, all the 'heavy' variables were removed in the category column, so I deleted the whole column, which had only one type of variable.</h1>"
   ]
  },
  {
   "cell_type": "code",
   "execution_count": 7,
   "id": "fifty-ghana",
   "metadata": {},
   "outputs": [
    {
     "name": "stderr",
     "output_type": "stream",
     "text": [
      "/usr/local/lib/python3.7/site-packages/pandas/core/frame.py:4312: SettingWithCopyWarning: \n",
      "A value is trying to be set on a copy of a slice from a DataFrame\n",
      "\n",
      "See the caveats in the documentation: https://pandas.pydata.org/pandas-docs/stable/user_guide/indexing.html#returning-a-view-versus-a-copy\n",
      "  errors=errors,\n"
     ]
    }
   ],
   "source": [
    "# gk = data.groupby('category')\n",
    "# len(gk)\n",
    "## since we just have one category , I drop this feature \n",
    "data.drop('category', inplace=True, axis=1)"
   ]
  },
  {
   "cell_type": "markdown",
   "id": "friendly-conversation",
   "metadata": {},
   "source": [
    "<h1 style = \"font-size: 15px; color: #235\">\n",
    "In addition to stop word, I created a list of words that were not in stop word list  and should have been removed :</h1>"
   ]
  },
  {
   "cell_type": "code",
   "execution_count": 8,
   "id": "reasonable-assembly",
   "metadata": {},
   "outputs": [],
   "source": [
    "my_stop_word_list =set( [ 'های','ای','ی' ,'ها','نمی','با','تا','و','چی','هم','داره','هست','سال'])\n",
    "Stop_Word = set(stopwords_list())"
   ]
  },
  {
   "cell_type": "markdown",
   "id": "resident-wright",
   "metadata": {},
   "source": [
    "<h2 style = \"font-size: 15px; color: #235\"> In \"pre_processing\" function , the 'description' of each data , I first check that the word is not in the list of 'stop words ' which indicates the repetitive useless words and also I check if the given word is numeric or not , then I append this word to a list and after the end of the loop , replace it with the previous description .<br/> </h2>"
   ]
  },
  {
   "cell_type": "code",
   "execution_count": 9,
   "id": "black-picking",
   "metadata": {},
   "outputs": [],
   "source": [
    "def pre_processing(descript):    \n",
    "    descript = [d for d in descript if ((d.isnumeric() is False) and (d not in Stop_Word) and (d not in my_stop_word_list))] \n",
    "    return descript"
   ]
  },
  {
   "cell_type": "code",
   "execution_count": 10,
   "id": "sporting-weekly",
   "metadata": {},
   "outputs": [
    {
     "name": "stderr",
     "output_type": "stream",
     "text": [
      "/usr/local/lib/python3.7/site-packages/ipykernel_launcher.py:1: SettingWithCopyWarning: \n",
      "A value is trying to be set on a copy of a slice from a DataFrame.\n",
      "Try using .loc[row_indexer,col_indexer] = value instead\n",
      "\n",
      "See the caveats in the documentation: https://pandas.pydata.org/pandas-docs/stable/user_guide/indexing.html#returning-a-view-versus-a-copy\n",
      "  \"\"\"Entry point for launching an IPython kernel.\n"
     ]
    }
   ],
   "source": [
    "data['description'] = data.apply(lambda row : pre_processing(row['description']), axis = 1)"
   ]
  },
  {
   "cell_type": "code",
   "execution_count": 11,
   "id": "consecutive-roman",
   "metadata": {},
   "outputs": [
    {
     "name": "stderr",
     "output_type": "stream",
     "text": [
      "/usr/local/lib/python3.7/site-packages/ipykernel_launcher.py:1: SettingWithCopyWarning: \n",
      "A value is trying to be set on a copy of a slice from a DataFrame.\n",
      "Try using .loc[row_indexer,col_indexer] = value instead\n",
      "\n",
      "See the caveats in the documentation: https://pandas.pydata.org/pandas-docs/stable/user_guide/indexing.html#returning-a-view-versus-a-copy\n",
      "  \"\"\"Entry point for launching an IPython kernel.\n"
     ]
    }
   ],
   "source": [
    "data['title'] = data.apply(lambda row : pre_processing(row['title']), axis = 1)"
   ]
  },
  {
   "cell_type": "markdown",
   "id": "amazing-berkeley",
   "metadata": {},
   "source": [
    "<h2 style = \"font-size: 15px; color: #235\"> For using 'CountVectorizer', I need to convert the word list to sentences .<br/> </h2>"
   ]
  },
  {
   "cell_type": "code",
   "execution_count": 12,
   "id": "based-mixer",
   "metadata": {},
   "outputs": [
    {
     "name": "stderr",
     "output_type": "stream",
     "text": [
      "/usr/local/lib/python3.7/site-packages/ipykernel_launcher.py:1: SettingWithCopyWarning: \n",
      "A value is trying to be set on a copy of a slice from a DataFrame.\n",
      "Try using .loc[row_indexer,col_indexer] = value instead\n",
      "\n",
      "See the caveats in the documentation: https://pandas.pydata.org/pandas-docs/stable/user_guide/indexing.html#returning-a-view-versus-a-copy\n",
      "  \"\"\"Entry point for launching an IPython kernel.\n"
     ]
    }
   ],
   "source": [
    "data['description'] = data.apply(lambda row : ' '.join(word for word in (row['description'] +row['title']) ), axis = 1)"
   ]
  },
  {
   "cell_type": "code",
   "execution_count": 13,
   "id": "mysterious-heather",
   "metadata": {},
   "outputs": [],
   "source": [
    "data.drop('title', inplace=True, axis=1)"
   ]
  },
  {
   "cell_type": "markdown",
   "id": "accepted-salmon",
   "metadata": {},
   "source": [
    "<h2 style = \"font-size: 15px; color: #235\"> \n",
    "In this section, I separate the target column, which is the 'price'.<br/> </h2>"
   ]
  },
  {
   "cell_type": "code",
   "execution_count": 14,
   "id": "rental-heath",
   "metadata": {},
   "outputs": [],
   "source": [
    "Price = data['price']\n",
    "data.drop('price', inplace=True, axis=1)"
   ]
  },
  {
   "cell_type": "code",
   "execution_count": 15,
   "id": "possible-stanford",
   "metadata": {},
   "outputs": [],
   "source": [
    "data =data.reset_index()"
   ]
  },
  {
   "cell_type": "markdown",
   "id": "behavioral-picnic",
   "metadata": {},
   "source": [
    "<h1 style = \"font-size: 25px; text-align: center;color: #235\">Question 3</h1>\n",
    "<h1 style = \"font-size: 20px;text-align: center;color: #235\">count vectorizer</h1>\n",
    "<h1 style = \"font-size: 15px;color: #235\">CountVectorizer converts a collection of text documents to a matrix of token counts: the occurrences of tokens in each document. We can also make the vectorizer to ignore terms that have a document frequency strictly lower than a specified threshold by setting min_df = threshold or max_df = threshold for higher frequency terms.\n",
    "</h1>\n",
    "<h1 style = \"font-size: 20px;text-align: center;color: #235\">TF-IDF</h1>\n",
    "<h1 style = \"font-size: 15px;color: #235\">We can further transform a count matrix to a normalized tf: term-frequency or tf-idf: term-frequency times inverse document-frequency representation using TfidfTransformer. The formula that is used to compute the tf-idf for a term t of a document d in a document set is:\n",
    "    $$tf-idf(t,d) = tf(t,d)\\times log(\\frac{n}{df(t)+1})$$<br/>\n",
    "tf(t, d) is the number of times a term occurs in the given document. This is same with what we got from the CountVectorizer<br/>\n",
    "n is the total number of documents in the document set<br/>\n",
    "df(t) is the number of documents in the document set that contain the term t<br/>\n",
    "The effect of adding 1 to the denominator in the equation above is that terms with zero idf, i.e., terms that occur in all documents in a training set, will not be entirely ignored. At the end, each row is normalized to have unit Euclidean norm (by dividing l2 norm of itself).<br/>\n",
    "The goal of using TF-IDF instead of the raw frequencies of occurrence of a token in a given document is to scale down the impact of tokens that occur very frequently in a given corpus and that are hence empirically less informative than features that occur in a small fraction of the training corpus.</h1>"
   ]
  },
  {
   "cell_type": "markdown",
   "id": "equal-eclipse",
   "metadata": {},
   "source": [
    " "
   ]
  },
  {
   "cell_type": "code",
   "execution_count": 16,
   "id": "explicit-analyst",
   "metadata": {},
   "outputs": [],
   "source": [
    "count_vect = CountVectorizer(min_df = 1000)\n",
    "X_train_counts = count_vect.fit_transform(data['description'])"
   ]
  },
  {
   "cell_type": "code",
   "execution_count": 17,
   "id": "marked-voice",
   "metadata": {},
   "outputs": [
    {
     "data": {
      "text/html": [
       "<div>\n",
       "<style scoped>\n",
       "    .dataframe tbody tr th:only-of-type {\n",
       "        vertical-align: middle;\n",
       "    }\n",
       "\n",
       "    .dataframe tbody tr th {\n",
       "        vertical-align: top;\n",
       "    }\n",
       "\n",
       "    .dataframe thead th {\n",
       "        text-align: right;\n",
       "    }\n",
       "</style>\n",
       "<table border=\"1\" class=\"dataframe\">\n",
       "  <thead>\n",
       "    <tr style=\"text-align: right;\">\n",
       "      <th></th>\n",
       "      <th>abs</th>\n",
       "      <th>cng</th>\n",
       "      <th>lx</th>\n",
       "      <th>num</th>\n",
       "      <th>آخر</th>\n",
       "      <th>آردی</th>\n",
       "      <th>اتاق</th>\n",
       "      <th>اتومات</th>\n",
       "      <th>اتوماتیک</th>\n",
       "      <th>اخر</th>\n",
       "      <th>...</th>\n",
       "      <th>کوچکترین</th>\n",
       "      <th>گارانتی</th>\n",
       "      <th>گاز</th>\n",
       "      <th>گانه</th>\n",
       "      <th>گلگیر</th>\n",
       "      <th>گیر</th>\n",
       "      <th>گیربکس</th>\n",
       "      <th>یشمی</th>\n",
       "      <th>یه</th>\n",
       "      <th>یکسال</th>\n",
       "    </tr>\n",
       "  </thead>\n",
       "  <tbody>\n",
       "    <tr>\n",
       "      <th>0</th>\n",
       "      <td>0</td>\n",
       "      <td>0</td>\n",
       "      <td>0</td>\n",
       "      <td>0</td>\n",
       "      <td>0</td>\n",
       "      <td>0</td>\n",
       "      <td>0</td>\n",
       "      <td>0</td>\n",
       "      <td>0</td>\n",
       "      <td>0</td>\n",
       "      <td>...</td>\n",
       "      <td>0</td>\n",
       "      <td>0</td>\n",
       "      <td>0</td>\n",
       "      <td>0</td>\n",
       "      <td>0</td>\n",
       "      <td>0</td>\n",
       "      <td>0</td>\n",
       "      <td>0</td>\n",
       "      <td>0</td>\n",
       "      <td>0</td>\n",
       "    </tr>\n",
       "    <tr>\n",
       "      <th>1</th>\n",
       "      <td>0</td>\n",
       "      <td>0</td>\n",
       "      <td>0</td>\n",
       "      <td>0</td>\n",
       "      <td>0</td>\n",
       "      <td>0</td>\n",
       "      <td>0</td>\n",
       "      <td>0</td>\n",
       "      <td>0</td>\n",
       "      <td>0</td>\n",
       "      <td>...</td>\n",
       "      <td>0</td>\n",
       "      <td>0</td>\n",
       "      <td>0</td>\n",
       "      <td>0</td>\n",
       "      <td>0</td>\n",
       "      <td>0</td>\n",
       "      <td>0</td>\n",
       "      <td>0</td>\n",
       "      <td>0</td>\n",
       "      <td>1</td>\n",
       "    </tr>\n",
       "    <tr>\n",
       "      <th>2</th>\n",
       "      <td>0</td>\n",
       "      <td>0</td>\n",
       "      <td>0</td>\n",
       "      <td>0</td>\n",
       "      <td>0</td>\n",
       "      <td>0</td>\n",
       "      <td>0</td>\n",
       "      <td>0</td>\n",
       "      <td>0</td>\n",
       "      <td>0</td>\n",
       "      <td>...</td>\n",
       "      <td>0</td>\n",
       "      <td>0</td>\n",
       "      <td>0</td>\n",
       "      <td>0</td>\n",
       "      <td>0</td>\n",
       "      <td>0</td>\n",
       "      <td>0</td>\n",
       "      <td>0</td>\n",
       "      <td>0</td>\n",
       "      <td>0</td>\n",
       "    </tr>\n",
       "    <tr>\n",
       "      <th>3</th>\n",
       "      <td>0</td>\n",
       "      <td>0</td>\n",
       "      <td>0</td>\n",
       "      <td>0</td>\n",
       "      <td>0</td>\n",
       "      <td>0</td>\n",
       "      <td>0</td>\n",
       "      <td>0</td>\n",
       "      <td>0</td>\n",
       "      <td>0</td>\n",
       "      <td>...</td>\n",
       "      <td>0</td>\n",
       "      <td>0</td>\n",
       "      <td>0</td>\n",
       "      <td>0</td>\n",
       "      <td>0</td>\n",
       "      <td>0</td>\n",
       "      <td>0</td>\n",
       "      <td>0</td>\n",
       "      <td>0</td>\n",
       "      <td>0</td>\n",
       "    </tr>\n",
       "    <tr>\n",
       "      <th>4</th>\n",
       "      <td>0</td>\n",
       "      <td>0</td>\n",
       "      <td>0</td>\n",
       "      <td>0</td>\n",
       "      <td>0</td>\n",
       "      <td>0</td>\n",
       "      <td>0</td>\n",
       "      <td>0</td>\n",
       "      <td>0</td>\n",
       "      <td>0</td>\n",
       "      <td>...</td>\n",
       "      <td>0</td>\n",
       "      <td>0</td>\n",
       "      <td>0</td>\n",
       "      <td>0</td>\n",
       "      <td>0</td>\n",
       "      <td>0</td>\n",
       "      <td>0</td>\n",
       "      <td>0</td>\n",
       "      <td>0</td>\n",
       "      <td>1</td>\n",
       "    </tr>\n",
       "    <tr>\n",
       "      <th>...</th>\n",
       "      <td>...</td>\n",
       "      <td>...</td>\n",
       "      <td>...</td>\n",
       "      <td>...</td>\n",
       "      <td>...</td>\n",
       "      <td>...</td>\n",
       "      <td>...</td>\n",
       "      <td>...</td>\n",
       "      <td>...</td>\n",
       "      <td>...</td>\n",
       "      <td>...</td>\n",
       "      <td>...</td>\n",
       "      <td>...</td>\n",
       "      <td>...</td>\n",
       "      <td>...</td>\n",
       "      <td>...</td>\n",
       "      <td>...</td>\n",
       "      <td>...</td>\n",
       "      <td>...</td>\n",
       "      <td>...</td>\n",
       "      <td>...</td>\n",
       "    </tr>\n",
       "    <tr>\n",
       "      <th>120446</th>\n",
       "      <td>0</td>\n",
       "      <td>0</td>\n",
       "      <td>0</td>\n",
       "      <td>0</td>\n",
       "      <td>0</td>\n",
       "      <td>0</td>\n",
       "      <td>0</td>\n",
       "      <td>0</td>\n",
       "      <td>0</td>\n",
       "      <td>0</td>\n",
       "      <td>...</td>\n",
       "      <td>0</td>\n",
       "      <td>0</td>\n",
       "      <td>0</td>\n",
       "      <td>0</td>\n",
       "      <td>0</td>\n",
       "      <td>0</td>\n",
       "      <td>0</td>\n",
       "      <td>0</td>\n",
       "      <td>0</td>\n",
       "      <td>0</td>\n",
       "    </tr>\n",
       "    <tr>\n",
       "      <th>120447</th>\n",
       "      <td>0</td>\n",
       "      <td>0</td>\n",
       "      <td>0</td>\n",
       "      <td>0</td>\n",
       "      <td>0</td>\n",
       "      <td>0</td>\n",
       "      <td>0</td>\n",
       "      <td>0</td>\n",
       "      <td>0</td>\n",
       "      <td>0</td>\n",
       "      <td>...</td>\n",
       "      <td>0</td>\n",
       "      <td>0</td>\n",
       "      <td>0</td>\n",
       "      <td>0</td>\n",
       "      <td>0</td>\n",
       "      <td>0</td>\n",
       "      <td>0</td>\n",
       "      <td>0</td>\n",
       "      <td>0</td>\n",
       "      <td>0</td>\n",
       "    </tr>\n",
       "    <tr>\n",
       "      <th>120448</th>\n",
       "      <td>0</td>\n",
       "      <td>0</td>\n",
       "      <td>0</td>\n",
       "      <td>0</td>\n",
       "      <td>0</td>\n",
       "      <td>0</td>\n",
       "      <td>0</td>\n",
       "      <td>0</td>\n",
       "      <td>0</td>\n",
       "      <td>0</td>\n",
       "      <td>...</td>\n",
       "      <td>0</td>\n",
       "      <td>0</td>\n",
       "      <td>0</td>\n",
       "      <td>0</td>\n",
       "      <td>0</td>\n",
       "      <td>0</td>\n",
       "      <td>0</td>\n",
       "      <td>0</td>\n",
       "      <td>0</td>\n",
       "      <td>0</td>\n",
       "    </tr>\n",
       "    <tr>\n",
       "      <th>120449</th>\n",
       "      <td>0</td>\n",
       "      <td>0</td>\n",
       "      <td>0</td>\n",
       "      <td>0</td>\n",
       "      <td>0</td>\n",
       "      <td>0</td>\n",
       "      <td>0</td>\n",
       "      <td>0</td>\n",
       "      <td>0</td>\n",
       "      <td>0</td>\n",
       "      <td>...</td>\n",
       "      <td>0</td>\n",
       "      <td>0</td>\n",
       "      <td>0</td>\n",
       "      <td>0</td>\n",
       "      <td>0</td>\n",
       "      <td>0</td>\n",
       "      <td>0</td>\n",
       "      <td>0</td>\n",
       "      <td>0</td>\n",
       "      <td>0</td>\n",
       "    </tr>\n",
       "    <tr>\n",
       "      <th>120450</th>\n",
       "      <td>0</td>\n",
       "      <td>0</td>\n",
       "      <td>0</td>\n",
       "      <td>0</td>\n",
       "      <td>0</td>\n",
       "      <td>0</td>\n",
       "      <td>0</td>\n",
       "      <td>0</td>\n",
       "      <td>0</td>\n",
       "      <td>0</td>\n",
       "      <td>...</td>\n",
       "      <td>0</td>\n",
       "      <td>0</td>\n",
       "      <td>0</td>\n",
       "      <td>0</td>\n",
       "      <td>0</td>\n",
       "      <td>0</td>\n",
       "      <td>0</td>\n",
       "      <td>0</td>\n",
       "      <td>0</td>\n",
       "      <td>0</td>\n",
       "    </tr>\n",
       "  </tbody>\n",
       "</table>\n",
       "<p>120451 rows × 232 columns</p>\n",
       "</div>"
      ],
      "text/plain": [
       "        abs  cng  lx  num  آخر  آردی  اتاق  اتومات  اتوماتیک  اخر  ...  \\\n",
       "0         0    0   0    0    0     0     0       0         0    0  ...   \n",
       "1         0    0   0    0    0     0     0       0         0    0  ...   \n",
       "2         0    0   0    0    0     0     0       0         0    0  ...   \n",
       "3         0    0   0    0    0     0     0       0         0    0  ...   \n",
       "4         0    0   0    0    0     0     0       0         0    0  ...   \n",
       "...     ...  ...  ..  ...  ...   ...   ...     ...       ...  ...  ...   \n",
       "120446    0    0   0    0    0     0     0       0         0    0  ...   \n",
       "120447    0    0   0    0    0     0     0       0         0    0  ...   \n",
       "120448    0    0   0    0    0     0     0       0         0    0  ...   \n",
       "120449    0    0   0    0    0     0     0       0         0    0  ...   \n",
       "120450    0    0   0    0    0     0     0       0         0    0  ...   \n",
       "\n",
       "        کوچکترین  گارانتی  گاز  گانه  گلگیر  گیر  گیربکس  یشمی  یه  یکسال  \n",
       "0              0        0    0     0      0    0       0     0   0      0  \n",
       "1              0        0    0     0      0    0       0     0   0      1  \n",
       "2              0        0    0     0      0    0       0     0   0      0  \n",
       "3              0        0    0     0      0    0       0     0   0      0  \n",
       "4              0        0    0     0      0    0       0     0   0      1  \n",
       "...          ...      ...  ...   ...    ...  ...     ...   ...  ..    ...  \n",
       "120446         0        0    0     0      0    0       0     0   0      0  \n",
       "120447         0        0    0     0      0    0       0     0   0      0  \n",
       "120448         0        0    0     0      0    0       0     0   0      0  \n",
       "120449         0        0    0     0      0    0       0     0   0      0  \n",
       "120450         0        0    0     0      0    0       0     0   0      0  \n",
       "\n",
       "[120451 rows x 232 columns]"
      ]
     },
     "execution_count": 17,
     "metadata": {},
     "output_type": "execute_result"
    }
   ],
   "source": [
    "X_train_counts.shape\n",
    "counts = pd.DataFrame(X_train_counts.toarray(),columns=count_vect.get_feature_names())\n",
    "counts"
   ]
  },
  {
   "cell_type": "code",
   "execution_count": 18,
   "id": "intermediate-exercise",
   "metadata": {},
   "outputs": [],
   "source": [
    "counts = counts.reset_index()"
   ]
  },
  {
   "cell_type": "markdown",
   "id": "intended-prison",
   "metadata": {},
   "source": [
    "<h2 style = \"font-size: 15px; color: #235\"> Here I concatenate counts data frame and our data and drop two 'description' and 'created_at' columns . <br/>\n",
    "</h2>"
   ]
  },
  {
   "cell_type": "code",
   "execution_count": 19,
   "id": "invisible-packet",
   "metadata": {},
   "outputs": [],
   "source": [
    "data = pd.concat([data, counts], axis=1)\n",
    "data.drop('description', inplace=True, axis=1)\n",
    "data.drop('created_at', inplace=True, axis=1)"
   ]
  },
  {
   "cell_type": "markdown",
   "id": "linear-universal",
   "metadata": {},
   "source": [
    "<h1 style = \"font-size: 25px; text-align: center;color: #235\">Question 2</h1>\n",
    "<h1 style = \"font-size: 15px;color: #235\">In ML models we are often required to convert the categorical i.e text features to its numeric representation. The two most common ways to do this is to use Label Encoder or OneHot Encoder. However, most of the ML newbies are not familiar with the impact of the choice of encoding has on their model, the accuracy of the model may shift by large numbers by using the right encoding at the right scenario.\n",
    "</h1>\n",
    "<h1 style = \"font-size: 20px;text-align: center;color: #235\">Label Encoder</h1>\n",
    "<h1 style = \"font-size: 15px;color: #235\">Label Encoding in Python can be achieved using Sklearn Library. Sklearn provides a very efficient tool for encoding the levels of categorical features into numeric values. LabelEncoder encode labels with a value between 0 and n_classes-1 where n is the number of distinct labels. If a label repeats it assigns the same value to as assigned earlier.<br/>\n",
    "That’s all label encoding is about. But depending on the data, label encoding introduces a new problem. For example, we have encoded a set of country names into numerical data. This is actually categorical data and there is no relation, of any kind, between the rows.\n",
    "The problem here is since there are different numbers in the same column, the model will misunderstand the data to be in some kind of order.The model may derive a correlation which clearly may not be right prediction. To overcome this problem, we use One Hot Encoder.\n",
    "</h1>\n",
    "<h1 style = \"font-size: 20px;text-align: center;color: #235\">One Hot Encoder</h1>\n",
    "<h1 style = \"font-size: 15px;color: #235\">What one hot encoding does is, it takes a column which has categorical data, which has been label encoded and then splits the column into multiple columns. The numbers are replaced by 1s and 0s, depending on which column has what value.</h1>"
   ]
  },
  {
   "cell_type": "markdown",
   "id": "seventh-spotlight",
   "metadata": {},
   "source": [
    "<h2 style = \"font-size: 15px; color: #235\"> I use onehot encoder for \"brand\" column .\n",
    "<br/>\n",
    "</h2>"
   ]
  },
  {
   "cell_type": "code",
   "execution_count": 20,
   "id": "exclusive-honey",
   "metadata": {},
   "outputs": [],
   "source": [
    "data = pd.get_dummies(data, columns=['brand'])"
   ]
  },
  {
   "cell_type": "code",
   "execution_count": 21,
   "id": "blond-platform",
   "metadata": {},
   "outputs": [
    {
     "data": {
      "text/html": [
       "<div>\n",
       "<style scoped>\n",
       "    .dataframe tbody tr th:only-of-type {\n",
       "        vertical-align: middle;\n",
       "    }\n",
       "\n",
       "    .dataframe tbody tr th {\n",
       "        vertical-align: top;\n",
       "    }\n",
       "\n",
       "    .dataframe thead th {\n",
       "        text-align: right;\n",
       "    }\n",
       "</style>\n",
       "<table border=\"1\" class=\"dataframe\">\n",
       "  <thead>\n",
       "    <tr style=\"text-align: right;\">\n",
       "      <th></th>\n",
       "      <th>index</th>\n",
       "      <th>image_count</th>\n",
       "      <th>mileage</th>\n",
       "      <th>year</th>\n",
       "      <th>index</th>\n",
       "      <th>abs</th>\n",
       "      <th>cng</th>\n",
       "      <th>lx</th>\n",
       "      <th>num</th>\n",
       "      <th>آخر</th>\n",
       "      <th>...</th>\n",
       "      <th>brand_وانت</th>\n",
       "      <th>brand_پراید صندوق‌دار::Pride</th>\n",
       "      <th>brand_پراید هاچ‌بک::Pride</th>\n",
       "      <th>brand_پژو روآ / آر‌دی::RD/ROA</th>\n",
       "      <th>brand_پژو پارس::Peugeot Pars</th>\n",
       "      <th>brand_پژو ۲۰۶‍ صندوق‌دار::Peugeot 206</th>\n",
       "      <th>brand_پژو ۲۰۶‍::Peugeot 206</th>\n",
       "      <th>brand_پژو ۴۰۵::Peugeot 405</th>\n",
       "      <th>brand_پیکان::Peykan</th>\n",
       "      <th>brand_کیا::Kia</th>\n",
       "    </tr>\n",
       "  </thead>\n",
       "  <tbody>\n",
       "    <tr>\n",
       "      <th>0</th>\n",
       "      <td>1</td>\n",
       "      <td>3</td>\n",
       "      <td>180000.0</td>\n",
       "      <td>1366</td>\n",
       "      <td>0</td>\n",
       "      <td>0</td>\n",
       "      <td>0</td>\n",
       "      <td>0</td>\n",
       "      <td>0</td>\n",
       "      <td>0</td>\n",
       "      <td>...</td>\n",
       "      <td>0</td>\n",
       "      <td>0</td>\n",
       "      <td>0</td>\n",
       "      <td>0</td>\n",
       "      <td>0</td>\n",
       "      <td>0</td>\n",
       "      <td>0</td>\n",
       "      <td>0</td>\n",
       "      <td>0</td>\n",
       "      <td>0</td>\n",
       "    </tr>\n",
       "    <tr>\n",
       "      <th>1</th>\n",
       "      <td>2</td>\n",
       "      <td>0</td>\n",
       "      <td>290000.0</td>\n",
       "      <td>1381</td>\n",
       "      <td>1</td>\n",
       "      <td>0</td>\n",
       "      <td>0</td>\n",
       "      <td>0</td>\n",
       "      <td>0</td>\n",
       "      <td>0</td>\n",
       "      <td>...</td>\n",
       "      <td>0</td>\n",
       "      <td>0</td>\n",
       "      <td>0</td>\n",
       "      <td>0</td>\n",
       "      <td>0</td>\n",
       "      <td>0</td>\n",
       "      <td>0</td>\n",
       "      <td>1</td>\n",
       "      <td>0</td>\n",
       "      <td>0</td>\n",
       "    </tr>\n",
       "    <tr>\n",
       "      <th>2</th>\n",
       "      <td>3</td>\n",
       "      <td>3</td>\n",
       "      <td>175000.0</td>\n",
       "      <td>1372</td>\n",
       "      <td>2</td>\n",
       "      <td>0</td>\n",
       "      <td>0</td>\n",
       "      <td>0</td>\n",
       "      <td>0</td>\n",
       "      <td>0</td>\n",
       "      <td>...</td>\n",
       "      <td>0</td>\n",
       "      <td>0</td>\n",
       "      <td>0</td>\n",
       "      <td>0</td>\n",
       "      <td>0</td>\n",
       "      <td>0</td>\n",
       "      <td>0</td>\n",
       "      <td>0</td>\n",
       "      <td>0</td>\n",
       "      <td>0</td>\n",
       "    </tr>\n",
       "    <tr>\n",
       "      <th>3</th>\n",
       "      <td>4</td>\n",
       "      <td>4</td>\n",
       "      <td>80000.0</td>\n",
       "      <td>1391</td>\n",
       "      <td>3</td>\n",
       "      <td>0</td>\n",
       "      <td>0</td>\n",
       "      <td>0</td>\n",
       "      <td>0</td>\n",
       "      <td>0</td>\n",
       "      <td>...</td>\n",
       "      <td>0</td>\n",
       "      <td>0</td>\n",
       "      <td>0</td>\n",
       "      <td>0</td>\n",
       "      <td>0</td>\n",
       "      <td>0</td>\n",
       "      <td>0</td>\n",
       "      <td>0</td>\n",
       "      <td>0</td>\n",
       "      <td>0</td>\n",
       "    </tr>\n",
       "    <tr>\n",
       "      <th>4</th>\n",
       "      <td>5</td>\n",
       "      <td>3</td>\n",
       "      <td>125000.0</td>\n",
       "      <td>1384</td>\n",
       "      <td>4</td>\n",
       "      <td>0</td>\n",
       "      <td>0</td>\n",
       "      <td>0</td>\n",
       "      <td>0</td>\n",
       "      <td>0</td>\n",
       "      <td>...</td>\n",
       "      <td>0</td>\n",
       "      <td>0</td>\n",
       "      <td>0</td>\n",
       "      <td>0</td>\n",
       "      <td>0</td>\n",
       "      <td>0</td>\n",
       "      <td>0</td>\n",
       "      <td>1</td>\n",
       "      <td>0</td>\n",
       "      <td>0</td>\n",
       "    </tr>\n",
       "    <tr>\n",
       "      <th>...</th>\n",
       "      <td>...</td>\n",
       "      <td>...</td>\n",
       "      <td>...</td>\n",
       "      <td>...</td>\n",
       "      <td>...</td>\n",
       "      <td>...</td>\n",
       "      <td>...</td>\n",
       "      <td>...</td>\n",
       "      <td>...</td>\n",
       "      <td>...</td>\n",
       "      <td>...</td>\n",
       "      <td>...</td>\n",
       "      <td>...</td>\n",
       "      <td>...</td>\n",
       "      <td>...</td>\n",
       "      <td>...</td>\n",
       "      <td>...</td>\n",
       "      <td>...</td>\n",
       "      <td>...</td>\n",
       "      <td>...</td>\n",
       "      <td>...</td>\n",
       "    </tr>\n",
       "    <tr>\n",
       "      <th>120446</th>\n",
       "      <td>130436</td>\n",
       "      <td>3</td>\n",
       "      <td>140000.0</td>\n",
       "      <td>1384</td>\n",
       "      <td>120446</td>\n",
       "      <td>0</td>\n",
       "      <td>0</td>\n",
       "      <td>0</td>\n",
       "      <td>0</td>\n",
       "      <td>0</td>\n",
       "      <td>...</td>\n",
       "      <td>0</td>\n",
       "      <td>1</td>\n",
       "      <td>0</td>\n",
       "      <td>0</td>\n",
       "      <td>0</td>\n",
       "      <td>0</td>\n",
       "      <td>0</td>\n",
       "      <td>0</td>\n",
       "      <td>0</td>\n",
       "      <td>0</td>\n",
       "    </tr>\n",
       "    <tr>\n",
       "      <th>120447</th>\n",
       "      <td>130437</td>\n",
       "      <td>3</td>\n",
       "      <td>1.0</td>\n",
       "      <td>1395</td>\n",
       "      <td>120447</td>\n",
       "      <td>0</td>\n",
       "      <td>0</td>\n",
       "      <td>0</td>\n",
       "      <td>0</td>\n",
       "      <td>0</td>\n",
       "      <td>...</td>\n",
       "      <td>0</td>\n",
       "      <td>0</td>\n",
       "      <td>0</td>\n",
       "      <td>0</td>\n",
       "      <td>0</td>\n",
       "      <td>0</td>\n",
       "      <td>0</td>\n",
       "      <td>1</td>\n",
       "      <td>0</td>\n",
       "      <td>0</td>\n",
       "    </tr>\n",
       "    <tr>\n",
       "      <th>120448</th>\n",
       "      <td>130440</td>\n",
       "      <td>3</td>\n",
       "      <td>20000.0</td>\n",
       "      <td>1392</td>\n",
       "      <td>120448</td>\n",
       "      <td>0</td>\n",
       "      <td>0</td>\n",
       "      <td>0</td>\n",
       "      <td>0</td>\n",
       "      <td>0</td>\n",
       "      <td>...</td>\n",
       "      <td>0</td>\n",
       "      <td>0</td>\n",
       "      <td>0</td>\n",
       "      <td>0</td>\n",
       "      <td>0</td>\n",
       "      <td>0</td>\n",
       "      <td>0</td>\n",
       "      <td>0</td>\n",
       "      <td>0</td>\n",
       "      <td>0</td>\n",
       "    </tr>\n",
       "    <tr>\n",
       "      <th>120449</th>\n",
       "      <td>130441</td>\n",
       "      <td>4</td>\n",
       "      <td>123000.0</td>\n",
       "      <td>1379</td>\n",
       "      <td>120449</td>\n",
       "      <td>0</td>\n",
       "      <td>0</td>\n",
       "      <td>0</td>\n",
       "      <td>0</td>\n",
       "      <td>0</td>\n",
       "      <td>...</td>\n",
       "      <td>0</td>\n",
       "      <td>1</td>\n",
       "      <td>0</td>\n",
       "      <td>0</td>\n",
       "      <td>0</td>\n",
       "      <td>0</td>\n",
       "      <td>0</td>\n",
       "      <td>0</td>\n",
       "      <td>0</td>\n",
       "      <td>0</td>\n",
       "    </tr>\n",
       "    <tr>\n",
       "      <th>120450</th>\n",
       "      <td>130442</td>\n",
       "      <td>3</td>\n",
       "      <td>43000.0</td>\n",
       "      <td>1393</td>\n",
       "      <td>120450</td>\n",
       "      <td>0</td>\n",
       "      <td>0</td>\n",
       "      <td>0</td>\n",
       "      <td>0</td>\n",
       "      <td>0</td>\n",
       "      <td>...</td>\n",
       "      <td>0</td>\n",
       "      <td>1</td>\n",
       "      <td>0</td>\n",
       "      <td>0</td>\n",
       "      <td>0</td>\n",
       "      <td>0</td>\n",
       "      <td>0</td>\n",
       "      <td>0</td>\n",
       "      <td>0</td>\n",
       "      <td>0</td>\n",
       "    </tr>\n",
       "  </tbody>\n",
       "</table>\n",
       "<p>120451 rows × 263 columns</p>\n",
       "</div>"
      ],
      "text/plain": [
       "         index  image_count   mileage  year   index  abs  cng  lx  num  آخر  \\\n",
       "0            1            3  180000.0  1366       0    0    0   0    0    0   \n",
       "1            2            0  290000.0  1381       1    0    0   0    0    0   \n",
       "2            3            3  175000.0  1372       2    0    0   0    0    0   \n",
       "3            4            4   80000.0  1391       3    0    0   0    0    0   \n",
       "4            5            3  125000.0  1384       4    0    0   0    0    0   \n",
       "...        ...          ...       ...   ...     ...  ...  ...  ..  ...  ...   \n",
       "120446  130436            3  140000.0  1384  120446    0    0   0    0    0   \n",
       "120447  130437            3       1.0  1395  120447    0    0   0    0    0   \n",
       "120448  130440            3   20000.0  1392  120448    0    0   0    0    0   \n",
       "120449  130441            4  123000.0  1379  120449    0    0   0    0    0   \n",
       "120450  130442            3   43000.0  1393  120450    0    0   0    0    0   \n",
       "\n",
       "        ...  brand_وانت  brand_پراید صندوق‌دار::Pride  \\\n",
       "0       ...           0                             0   \n",
       "1       ...           0                             0   \n",
       "2       ...           0                             0   \n",
       "3       ...           0                             0   \n",
       "4       ...           0                             0   \n",
       "...     ...         ...                           ...   \n",
       "120446  ...           0                             1   \n",
       "120447  ...           0                             0   \n",
       "120448  ...           0                             0   \n",
       "120449  ...           0                             1   \n",
       "120450  ...           0                             1   \n",
       "\n",
       "        brand_پراید هاچ‌بک::Pride  brand_پژو روآ / آر‌دی::RD/ROA  \\\n",
       "0                               0                              0   \n",
       "1                               0                              0   \n",
       "2                               0                              0   \n",
       "3                               0                              0   \n",
       "4                               0                              0   \n",
       "...                           ...                            ...   \n",
       "120446                          0                              0   \n",
       "120447                          0                              0   \n",
       "120448                          0                              0   \n",
       "120449                          0                              0   \n",
       "120450                          0                              0   \n",
       "\n",
       "        brand_پژو پارس::Peugeot Pars  brand_پژو ۲۰۶‍ صندوق‌دار::Peugeot 206  \\\n",
       "0                                  0                                      0   \n",
       "1                                  0                                      0   \n",
       "2                                  0                                      0   \n",
       "3                                  0                                      0   \n",
       "4                                  0                                      0   \n",
       "...                              ...                                    ...   \n",
       "120446                             0                                      0   \n",
       "120447                             0                                      0   \n",
       "120448                             0                                      0   \n",
       "120449                             0                                      0   \n",
       "120450                             0                                      0   \n",
       "\n",
       "        brand_پژو ۲۰۶‍::Peugeot 206  brand_پژو ۴۰۵::Peugeot 405  \\\n",
       "0                                 0                           0   \n",
       "1                                 0                           1   \n",
       "2                                 0                           0   \n",
       "3                                 0                           0   \n",
       "4                                 0                           1   \n",
       "...                             ...                         ...   \n",
       "120446                            0                           0   \n",
       "120447                            0                           1   \n",
       "120448                            0                           0   \n",
       "120449                            0                           0   \n",
       "120450                            0                           0   \n",
       "\n",
       "        brand_پیکان::Peykan  brand_کیا::Kia  \n",
       "0                         0               0  \n",
       "1                         0               0  \n",
       "2                         0               0  \n",
       "3                         0               0  \n",
       "4                         0               0  \n",
       "...                     ...             ...  \n",
       "120446                    0               0  \n",
       "120447                    0               0  \n",
       "120448                    0               0  \n",
       "120449                    0               0  \n",
       "120450                    0               0  \n",
       "\n",
       "[120451 rows x 263 columns]"
      ]
     },
     "execution_count": 21,
     "metadata": {},
     "output_type": "execute_result"
    }
   ],
   "source": [
    "data"
   ]
  },
  {
   "cell_type": "markdown",
   "id": "qualified-zimbabwe",
   "metadata": {},
   "source": [
    "<h2 style = \"font-size: 15px; color: #235\"> Here I convert \"year\" column data from 'object' to 'int'. <br/>\n",
    "</h2>"
   ]
  },
  {
   "cell_type": "code",
   "execution_count": 22,
   "id": "soviet-hospital",
   "metadata": {},
   "outputs": [],
   "source": [
    "data['year'] = data['year'].str.extract('(\\d+)', expand=False)\n",
    "data['year'] = data['year'].astype(int)"
   ]
  },
  {
   "cell_type": "code",
   "execution_count": 30,
   "id": "utility-collapse",
   "metadata": {},
   "outputs": [
    {
     "data": {
      "text/html": [
       "<div>\n",
       "<style scoped>\n",
       "    .dataframe tbody tr th:only-of-type {\n",
       "        vertical-align: middle;\n",
       "    }\n",
       "\n",
       "    .dataframe tbody tr th {\n",
       "        vertical-align: top;\n",
       "    }\n",
       "\n",
       "    .dataframe thead th {\n",
       "        text-align: right;\n",
       "    }\n",
       "</style>\n",
       "<table border=\"1\" class=\"dataframe\">\n",
       "  <thead>\n",
       "    <tr style=\"text-align: right;\">\n",
       "      <th></th>\n",
       "      <th>index</th>\n",
       "      <th>image_count</th>\n",
       "      <th>mileage</th>\n",
       "      <th>year</th>\n",
       "      <th>index</th>\n",
       "      <th>abs</th>\n",
       "      <th>cng</th>\n",
       "      <th>lx</th>\n",
       "      <th>num</th>\n",
       "      <th>آخر</th>\n",
       "      <th>...</th>\n",
       "      <th>brand_وانت</th>\n",
       "      <th>brand_پراید صندوق‌دار::Pride</th>\n",
       "      <th>brand_پراید هاچ‌بک::Pride</th>\n",
       "      <th>brand_پژو روآ / آر‌دی::RD/ROA</th>\n",
       "      <th>brand_پژو پارس::Peugeot Pars</th>\n",
       "      <th>brand_پژو ۲۰۶‍ صندوق‌دار::Peugeot 206</th>\n",
       "      <th>brand_پژو ۲۰۶‍::Peugeot 206</th>\n",
       "      <th>brand_پژو ۴۰۵::Peugeot 405</th>\n",
       "      <th>brand_پیکان::Peykan</th>\n",
       "      <th>brand_کیا::Kia</th>\n",
       "    </tr>\n",
       "  </thead>\n",
       "  <tbody>\n",
       "    <tr>\n",
       "      <th>0</th>\n",
       "      <td>1</td>\n",
       "      <td>3</td>\n",
       "      <td>180000.0</td>\n",
       "      <td>1366</td>\n",
       "      <td>0</td>\n",
       "      <td>0</td>\n",
       "      <td>0</td>\n",
       "      <td>0</td>\n",
       "      <td>0</td>\n",
       "      <td>0</td>\n",
       "      <td>...</td>\n",
       "      <td>0</td>\n",
       "      <td>0</td>\n",
       "      <td>0</td>\n",
       "      <td>0</td>\n",
       "      <td>0</td>\n",
       "      <td>0</td>\n",
       "      <td>0</td>\n",
       "      <td>0</td>\n",
       "      <td>0</td>\n",
       "      <td>0</td>\n",
       "    </tr>\n",
       "    <tr>\n",
       "      <th>1</th>\n",
       "      <td>2</td>\n",
       "      <td>0</td>\n",
       "      <td>290000.0</td>\n",
       "      <td>1381</td>\n",
       "      <td>1</td>\n",
       "      <td>0</td>\n",
       "      <td>0</td>\n",
       "      <td>0</td>\n",
       "      <td>0</td>\n",
       "      <td>0</td>\n",
       "      <td>...</td>\n",
       "      <td>0</td>\n",
       "      <td>0</td>\n",
       "      <td>0</td>\n",
       "      <td>0</td>\n",
       "      <td>0</td>\n",
       "      <td>0</td>\n",
       "      <td>0</td>\n",
       "      <td>1</td>\n",
       "      <td>0</td>\n",
       "      <td>0</td>\n",
       "    </tr>\n",
       "    <tr>\n",
       "      <th>2</th>\n",
       "      <td>3</td>\n",
       "      <td>3</td>\n",
       "      <td>175000.0</td>\n",
       "      <td>1372</td>\n",
       "      <td>2</td>\n",
       "      <td>0</td>\n",
       "      <td>0</td>\n",
       "      <td>0</td>\n",
       "      <td>0</td>\n",
       "      <td>0</td>\n",
       "      <td>...</td>\n",
       "      <td>0</td>\n",
       "      <td>0</td>\n",
       "      <td>0</td>\n",
       "      <td>0</td>\n",
       "      <td>0</td>\n",
       "      <td>0</td>\n",
       "      <td>0</td>\n",
       "      <td>0</td>\n",
       "      <td>0</td>\n",
       "      <td>0</td>\n",
       "    </tr>\n",
       "    <tr>\n",
       "      <th>3</th>\n",
       "      <td>4</td>\n",
       "      <td>4</td>\n",
       "      <td>80000.0</td>\n",
       "      <td>1391</td>\n",
       "      <td>3</td>\n",
       "      <td>0</td>\n",
       "      <td>0</td>\n",
       "      <td>0</td>\n",
       "      <td>0</td>\n",
       "      <td>0</td>\n",
       "      <td>...</td>\n",
       "      <td>0</td>\n",
       "      <td>0</td>\n",
       "      <td>0</td>\n",
       "      <td>0</td>\n",
       "      <td>0</td>\n",
       "      <td>0</td>\n",
       "      <td>0</td>\n",
       "      <td>0</td>\n",
       "      <td>0</td>\n",
       "      <td>0</td>\n",
       "    </tr>\n",
       "    <tr>\n",
       "      <th>4</th>\n",
       "      <td>5</td>\n",
       "      <td>3</td>\n",
       "      <td>125000.0</td>\n",
       "      <td>1384</td>\n",
       "      <td>4</td>\n",
       "      <td>0</td>\n",
       "      <td>0</td>\n",
       "      <td>0</td>\n",
       "      <td>0</td>\n",
       "      <td>0</td>\n",
       "      <td>...</td>\n",
       "      <td>0</td>\n",
       "      <td>0</td>\n",
       "      <td>0</td>\n",
       "      <td>0</td>\n",
       "      <td>0</td>\n",
       "      <td>0</td>\n",
       "      <td>0</td>\n",
       "      <td>1</td>\n",
       "      <td>0</td>\n",
       "      <td>0</td>\n",
       "    </tr>\n",
       "    <tr>\n",
       "      <th>...</th>\n",
       "      <td>...</td>\n",
       "      <td>...</td>\n",
       "      <td>...</td>\n",
       "      <td>...</td>\n",
       "      <td>...</td>\n",
       "      <td>...</td>\n",
       "      <td>...</td>\n",
       "      <td>...</td>\n",
       "      <td>...</td>\n",
       "      <td>...</td>\n",
       "      <td>...</td>\n",
       "      <td>...</td>\n",
       "      <td>...</td>\n",
       "      <td>...</td>\n",
       "      <td>...</td>\n",
       "      <td>...</td>\n",
       "      <td>...</td>\n",
       "      <td>...</td>\n",
       "      <td>...</td>\n",
       "      <td>...</td>\n",
       "      <td>...</td>\n",
       "    </tr>\n",
       "    <tr>\n",
       "      <th>120446</th>\n",
       "      <td>130436</td>\n",
       "      <td>3</td>\n",
       "      <td>140000.0</td>\n",
       "      <td>1384</td>\n",
       "      <td>120446</td>\n",
       "      <td>0</td>\n",
       "      <td>0</td>\n",
       "      <td>0</td>\n",
       "      <td>0</td>\n",
       "      <td>0</td>\n",
       "      <td>...</td>\n",
       "      <td>0</td>\n",
       "      <td>1</td>\n",
       "      <td>0</td>\n",
       "      <td>0</td>\n",
       "      <td>0</td>\n",
       "      <td>0</td>\n",
       "      <td>0</td>\n",
       "      <td>0</td>\n",
       "      <td>0</td>\n",
       "      <td>0</td>\n",
       "    </tr>\n",
       "    <tr>\n",
       "      <th>120447</th>\n",
       "      <td>130437</td>\n",
       "      <td>3</td>\n",
       "      <td>1.0</td>\n",
       "      <td>1395</td>\n",
       "      <td>120447</td>\n",
       "      <td>0</td>\n",
       "      <td>0</td>\n",
       "      <td>0</td>\n",
       "      <td>0</td>\n",
       "      <td>0</td>\n",
       "      <td>...</td>\n",
       "      <td>0</td>\n",
       "      <td>0</td>\n",
       "      <td>0</td>\n",
       "      <td>0</td>\n",
       "      <td>0</td>\n",
       "      <td>0</td>\n",
       "      <td>0</td>\n",
       "      <td>1</td>\n",
       "      <td>0</td>\n",
       "      <td>0</td>\n",
       "    </tr>\n",
       "    <tr>\n",
       "      <th>120448</th>\n",
       "      <td>130440</td>\n",
       "      <td>3</td>\n",
       "      <td>20000.0</td>\n",
       "      <td>1392</td>\n",
       "      <td>120448</td>\n",
       "      <td>0</td>\n",
       "      <td>0</td>\n",
       "      <td>0</td>\n",
       "      <td>0</td>\n",
       "      <td>0</td>\n",
       "      <td>...</td>\n",
       "      <td>0</td>\n",
       "      <td>0</td>\n",
       "      <td>0</td>\n",
       "      <td>0</td>\n",
       "      <td>0</td>\n",
       "      <td>0</td>\n",
       "      <td>0</td>\n",
       "      <td>0</td>\n",
       "      <td>0</td>\n",
       "      <td>0</td>\n",
       "    </tr>\n",
       "    <tr>\n",
       "      <th>120449</th>\n",
       "      <td>130441</td>\n",
       "      <td>4</td>\n",
       "      <td>123000.0</td>\n",
       "      <td>1379</td>\n",
       "      <td>120449</td>\n",
       "      <td>0</td>\n",
       "      <td>0</td>\n",
       "      <td>0</td>\n",
       "      <td>0</td>\n",
       "      <td>0</td>\n",
       "      <td>...</td>\n",
       "      <td>0</td>\n",
       "      <td>1</td>\n",
       "      <td>0</td>\n",
       "      <td>0</td>\n",
       "      <td>0</td>\n",
       "      <td>0</td>\n",
       "      <td>0</td>\n",
       "      <td>0</td>\n",
       "      <td>0</td>\n",
       "      <td>0</td>\n",
       "    </tr>\n",
       "    <tr>\n",
       "      <th>120450</th>\n",
       "      <td>130442</td>\n",
       "      <td>3</td>\n",
       "      <td>43000.0</td>\n",
       "      <td>1393</td>\n",
       "      <td>120450</td>\n",
       "      <td>0</td>\n",
       "      <td>0</td>\n",
       "      <td>0</td>\n",
       "      <td>0</td>\n",
       "      <td>0</td>\n",
       "      <td>...</td>\n",
       "      <td>0</td>\n",
       "      <td>1</td>\n",
       "      <td>0</td>\n",
       "      <td>0</td>\n",
       "      <td>0</td>\n",
       "      <td>0</td>\n",
       "      <td>0</td>\n",
       "      <td>0</td>\n",
       "      <td>0</td>\n",
       "      <td>0</td>\n",
       "    </tr>\n",
       "  </tbody>\n",
       "</table>\n",
       "<p>120451 rows × 263 columns</p>\n",
       "</div>"
      ],
      "text/plain": [
       "         index  image_count   mileage  year   index  abs  cng  lx  num  آخر  \\\n",
       "0            1            3  180000.0  1366       0    0    0   0    0    0   \n",
       "1            2            0  290000.0  1381       1    0    0   0    0    0   \n",
       "2            3            3  175000.0  1372       2    0    0   0    0    0   \n",
       "3            4            4   80000.0  1391       3    0    0   0    0    0   \n",
       "4            5            3  125000.0  1384       4    0    0   0    0    0   \n",
       "...        ...          ...       ...   ...     ...  ...  ...  ..  ...  ...   \n",
       "120446  130436            3  140000.0  1384  120446    0    0   0    0    0   \n",
       "120447  130437            3       1.0  1395  120447    0    0   0    0    0   \n",
       "120448  130440            3   20000.0  1392  120448    0    0   0    0    0   \n",
       "120449  130441            4  123000.0  1379  120449    0    0   0    0    0   \n",
       "120450  130442            3   43000.0  1393  120450    0    0   0    0    0   \n",
       "\n",
       "        ...  brand_وانت  brand_پراید صندوق‌دار::Pride  \\\n",
       "0       ...           0                             0   \n",
       "1       ...           0                             0   \n",
       "2       ...           0                             0   \n",
       "3       ...           0                             0   \n",
       "4       ...           0                             0   \n",
       "...     ...         ...                           ...   \n",
       "120446  ...           0                             1   \n",
       "120447  ...           0                             0   \n",
       "120448  ...           0                             0   \n",
       "120449  ...           0                             1   \n",
       "120450  ...           0                             1   \n",
       "\n",
       "        brand_پراید هاچ‌بک::Pride  brand_پژو روآ / آر‌دی::RD/ROA  \\\n",
       "0                               0                              0   \n",
       "1                               0                              0   \n",
       "2                               0                              0   \n",
       "3                               0                              0   \n",
       "4                               0                              0   \n",
       "...                           ...                            ...   \n",
       "120446                          0                              0   \n",
       "120447                          0                              0   \n",
       "120448                          0                              0   \n",
       "120449                          0                              0   \n",
       "120450                          0                              0   \n",
       "\n",
       "        brand_پژو پارس::Peugeot Pars  brand_پژو ۲۰۶‍ صندوق‌دار::Peugeot 206  \\\n",
       "0                                  0                                      0   \n",
       "1                                  0                                      0   \n",
       "2                                  0                                      0   \n",
       "3                                  0                                      0   \n",
       "4                                  0                                      0   \n",
       "...                              ...                                    ...   \n",
       "120446                             0                                      0   \n",
       "120447                             0                                      0   \n",
       "120448                             0                                      0   \n",
       "120449                             0                                      0   \n",
       "120450                             0                                      0   \n",
       "\n",
       "        brand_پژو ۲۰۶‍::Peugeot 206  brand_پژو ۴۰۵::Peugeot 405  \\\n",
       "0                                 0                           0   \n",
       "1                                 0                           1   \n",
       "2                                 0                           0   \n",
       "3                                 0                           0   \n",
       "4                                 0                           1   \n",
       "...                             ...                         ...   \n",
       "120446                            0                           0   \n",
       "120447                            0                           1   \n",
       "120448                            0                           0   \n",
       "120449                            0                           0   \n",
       "120450                            0                           0   \n",
       "\n",
       "        brand_پیکان::Peykan  brand_کیا::Kia  \n",
       "0                         0               0  \n",
       "1                         0               0  \n",
       "2                         0               0  \n",
       "3                         0               0  \n",
       "4                         0               0  \n",
       "...                     ...             ...  \n",
       "120446                    0               0  \n",
       "120447                    0               0  \n",
       "120448                    0               0  \n",
       "120449                    0               0  \n",
       "120450                    0               0  \n",
       "\n",
       "[120451 rows x 263 columns]"
      ]
     },
     "execution_count": 30,
     "metadata": {},
     "output_type": "execute_result"
    }
   ],
   "source": [
    "data"
   ]
  },
  {
   "cell_type": "code",
   "execution_count": 24,
   "id": "wired-italy",
   "metadata": {},
   "outputs": [
    {
     "name": "stdout",
     "output_type": "stream",
     "text": [
      "<class 'pandas.core.frame.DataFrame'>\n",
      "RangeIndex: 120451 entries, 0 to 120450\n",
      "Columns: 263 entries, index to brand_کیا::Kia\n",
      "dtypes: float64(1), int64(236), uint8(26)\n",
      "memory usage: 220.8 MB\n"
     ]
    }
   ],
   "source": [
    "data.info()"
   ]
  },
  {
   "cell_type": "markdown",
   "id": "israeli-delight",
   "metadata": {},
   "source": [
    "<h2 style = \"font-size: 25px; color: #235;text-align: center  ;\"> Question 1<br/> </h2>\n",
    "<h2 style = \"font-size: 15px; color: #235\"> \n",
    "Mutual information (MI) is a measure of the amount of information between two random variables is symmetric and non-negative, and it could be zero if and only if the variables are independent.The mutual information between two random variables X and Y can be stated formally as follows:$$ I(X,Y) = H(X) - H(X|Y)$$ . Where I(X ; Y) is the mutual information for X and Y, H(X) is the entropy for X and H(X | Y) is the conditional entropy for X given Y. The result has the units of bits.<br/>\n",
    "In other word , it measures the average reduction in uncertainty about x that results from learning the value of y; or vice versa, the average amount of information that x conveys about y.<br/>\n",
    "Mutual Information and Information Gain are the same thing, although the context or usage of the measure often gives rise to the different names.<br/>\n",
    "Effect of Transforms to a Dataset (decision trees): Information Gain.\n",
    "Dependence Between Variables (feature selection): Mutual Information.<br/>\n",
    "As such, mutual information is sometimes used as a synonym for information gain. Technically, they calculate the same quantity if applied to the same data.</h2>\n"
   ]
  },
  {
   "cell_type": "code",
   "execution_count": 27,
   "id": "dietary-patient",
   "metadata": {},
   "outputs": [],
   "source": [
    "mi = mutual_info_classif(data,Price)"
   ]
  },
  {
   "cell_type": "code",
   "execution_count": 28,
   "id": "cardiac-motivation",
   "metadata": {},
   "outputs": [],
   "source": [
    "mi = pd.Series(mi)\n",
    "mi.index = data.columns\n",
    "mi.sort_values(ascending=False, inplace = True)"
   ]
  },
  {
   "cell_type": "markdown",
   "id": "dedicated-advocate",
   "metadata": {},
   "source": [
    "<h2 style = \"font-size: 15px; color: #235;\"> Let’s observe the Mutual Information with respect to features from following bar plot.<br/> </h2>\n"
   ]
  },
  {
   "cell_type": "code",
   "execution_count": 29,
   "id": "polished-sympathy",
   "metadata": {},
   "outputs": [
    {
     "data": {
      "image/png": "[encoded data removed]",
      "text/plain": [
       "<Figure size 1800x720 with 1 Axes>"
      ]
     },
     "metadata": {
      "needs_background": "light"
     },
     "output_type": "display_data"
    }
   ],
   "source": [
    "plt.title('Mutual information with respect to features')\n",
    "mi.plot.bar(figsize = (25,10))\n",
    "plt.show()"
   ]
  },
  {
   "cell_type": "markdown",
   "id": "conceptual-ideal",
   "metadata": {},
   "source": [
    "<h2 style = \"font-size: 15px; color: #235;\"> We will select 10 percentile of the features<br/> </h2>\n"
   ]
  },
  {
   "cell_type": "code",
   "execution_count": 265,
   "id": "processed-moscow",
   "metadata": {},
   "outputs": [],
   "source": [
    "sel = SelectPercentile(mutual_info_classif, percentile=10).fit(data,Price)\n",
    "data.columns[sel.get_support()]\n",
    "X_train_mi = sel.transform(data)"
   ]
  },
  {
   "cell_type": "markdown",
   "id": "parental-assembly",
   "metadata": {},
   "source": [
    "<h2 style = \"font-size: 25px; color: #235;text-align: center  ;\"> Question 4<br/> </h2>\n",
    "<h2 style = \"font-size: 20px; color: #235\"> Handle Missing Values :</h2>\n",
    "<h2 style = \"font-size: 15px; color: #235\"> 1 . Delete Rows with Missing Values:<br/>\n",
    "If columns have more than half of rows as null then the entire column can be dropped. The rows which are having one or more columns values as null can also be dropped.<br/></h2>\n",
    "<h2 style = \"font-size: 15px; color: #235\"> 2 . Impute missing values with Mean/Median::<br/>\n",
    "This method can prevent the loss of data compared to the earlier method. Replacing (mean, median) is a statistical approach to handle the missing values and Works well with a small dataset and easy to implement but works only with numerical continuous variables and may cause data leakage and also does not factor the covariance between features.\n",
    "<br/></h2>\n"
   ]
  },
  {
   "cell_type": "markdown",
   "id": "piano-atmosphere",
   "metadata": {},
   "source": [
    "<h1 style = \"font-size: 50px;text-align: center; \">Phase 2 <h1/>"
   ]
  },
  {
   "cell_type": "markdown",
   "id": "close-pension",
   "metadata": {},
   "source": [
    "<h2 style = \"font-size: 25px; color: #235;text-align: center  ;\"> Question 5<br/> </h2>\n",
    "<h2 style = \"font-size: 15px; color: #235\"> A larger test set size shows the potential of the model in the real world. However, too few training samples can also cause the model to be underfitting. In my point of view, if your dataset size is large, the 80/20 ratio seems appropriate. Conversely, if your data set size is small, this ratio should be 70/30.Hence  , I use 80/20 ratio .<br/>\n",
    "    <h2/>"
   ]
  },
  {
   "cell_type": "code",
   "execution_count": 165,
   "id": "acquired-configuration",
   "metadata": {},
   "outputs": [],
   "source": [
    "x_train, x_test, y_train, y_test = train_test_split(data, Price, test_size=0.2)"
   ]
  },
  {
   "cell_type": "markdown",
   "id": "divided-italic",
   "metadata": {},
   "source": [
    "<h1 style = \"font-size: 25px;color: #235 \">KNN </h1>\n",
    "<h1 style = \"font-size: 15px;color: #235 \">The principle behind nearest neighbor methods is to find a predefined number of training samples closest in distance to the new point, and predict the label from these. The number of samples can be a user-defined constant (k-nearest neighbor learning), or vary based on the local density of points (radius-based neighbor learning). The distance can, in general, be any metric measure: standard Euclidean distance is the most common choice. Neighbors-based methods are known as non-generalizing machine learning methods, since they simply “remember” all of its training data<br/>Despite its simplicity, nearest neighbors has been successful in a large number of classification and regression problems, including handwritten digits and satellite image scenes. Being a non-parametric method, it is often successful in classification situations where the decision boundary is very irregular.<br/>\n",
    "\n",
    "n_neighbors (default=5):<br/>\n",
    "Number of neighbors to use by default for kneighbors queries.</h1>"
   ]
  },
  {
   "cell_type": "code",
   "execution_count": 132,
   "id": "positive-nigeria",
   "metadata": {},
   "outputs": [],
   "source": [
    "x_red = x_train.head(50000)\n",
    "y_red = y_train.head(50000)"
   ]
  },
  {
   "cell_type": "code",
   "execution_count": 133,
   "id": "packed-destiny",
   "metadata": {},
   "outputs": [],
   "source": [
    "x_test_red = x_test.head(5000)\n",
    "y_test_red = y_test.head(5000)"
   ]
  },
  {
   "cell_type": "code",
   "execution_count": 144,
   "id": "native-gravity",
   "metadata": {},
   "outputs": [
    {
     "name": "stderr",
     "output_type": "stream",
     "text": [
      "/usr/local/lib/python3.7/site-packages/sklearn/metrics/_classification.py:1248: UndefinedMetricWarning: Precision is ill-defined and being set to 0.0 in labels with no predicted samples. Use `zero_division` parameter to control this behavior.\n",
      "  _warn_prf(average, modifier, msg_start, len(result))\n",
      "/usr/local/lib/python3.7/site-packages/sklearn/metrics/_classification.py:1248: UndefinedMetricWarning: Recall is ill-defined and being set to 0.0 in labels with no true samples. Use `zero_division` parameter to control this behavior.\n",
      "  _warn_prf(average, modifier, msg_start, len(result))\n",
      "/usr/local/lib/python3.7/site-packages/sklearn/metrics/_classification.py:1248: UndefinedMetricWarning: Precision is ill-defined and being set to 0.0 in labels with no predicted samples. Use `zero_division` parameter to control this behavior.\n",
      "  _warn_prf(average, modifier, msg_start, len(result))\n",
      "/usr/local/lib/python3.7/site-packages/sklearn/metrics/_classification.py:1248: UndefinedMetricWarning: Recall is ill-defined and being set to 0.0 in labels with no true samples. Use `zero_division` parameter to control this behavior.\n",
      "  _warn_prf(average, modifier, msg_start, len(result))\n",
      "/usr/local/lib/python3.7/site-packages/sklearn/metrics/_classification.py:1248: UndefinedMetricWarning: Precision is ill-defined and being set to 0.0 in labels with no predicted samples. Use `zero_division` parameter to control this behavior.\n",
      "  _warn_prf(average, modifier, msg_start, len(result))\n",
      "/usr/local/lib/python3.7/site-packages/sklearn/metrics/_classification.py:1248: UndefinedMetricWarning: Recall is ill-defined and being set to 0.0 in labels with no true samples. Use `zero_division` parameter to control this behavior.\n",
      "  _warn_prf(average, modifier, msg_start, len(result))\n",
      "/usr/local/lib/python3.7/site-packages/sklearn/metrics/_classification.py:1248: UndefinedMetricWarning: Precision is ill-defined and being set to 0.0 in labels with no predicted samples. Use `zero_division` parameter to control this behavior.\n",
      "  _warn_prf(average, modifier, msg_start, len(result))\n",
      "/usr/local/lib/python3.7/site-packages/sklearn/metrics/_classification.py:1248: UndefinedMetricWarning: Recall is ill-defined and being set to 0.0 in labels with no true samples. Use `zero_division` parameter to control this behavior.\n",
      "  _warn_prf(average, modifier, msg_start, len(result))\n"
     ]
    }
   ],
   "source": [
    "knnacc = []\n",
    "knnacctrain = []\n",
    "knnprec = []\n",
    "knnrec = []\n",
    "Err = []\n",
    "neighbors = np.arange(8,12) \n",
    "for n in neighbors :\n",
    "    neigh = KNeighborsClassifier(n_neighbors=n)\n",
    "    neigh.fit(x_red, y_red)\n",
    "    y_t = neigh.predict(x_red)\n",
    "    Error_t = mean_squared_error(y_red,y_t)\n",
    "    rmse_t = math.sqrt(Error_t)\n",
    "    y_p = neigh.predict(x_test_red)\n",
    "    Error = mean_squared_error(y_test_red,y_p)\n",
    "    rmse = math.sqrt(Error)\n",
    "    Err.append([rmse_t,rmse])\n",
    "    knnacctrain.append(metrics.accuracy_score(y_red, y_t))\n",
    "    knnacc.append(metrics.accuracy_score(y_test_red, y_p))\n",
    "    knnprec.append(metrics.precision_score(y_test_red, y_p,average='weighted'))\n",
    "    knnrec.append(metrics.recall_score(y_test_red, y_p,average='weighted'))"
   ]
  },
  {
   "cell_type": "code",
   "execution_count": 145,
   "id": "announced-calibration",
   "metadata": {},
   "outputs": [
    {
     "data": {
      "image/png": "[encoded data removed]",
      "text/plain": [
       "<Figure size 432x288 with 1 Axes>"
      ]
     },
     "metadata": {
      "needs_background": "light"
     },
     "output_type": "display_data"
    },
    {
     "data": {
      "image/png": "[encoded data removed]",
      "text/plain": [
       "<Figure size 432x288 with 1 Axes>"
      ]
     },
     "metadata": {
      "needs_background": "light"
     },
     "output_type": "display_data"
    },
    {
     "name": "stdout",
     "output_type": "stream",
     "text": [
      "Accuracy: 0.09521832973601195\n",
      "Precision: 0.0240649977673048\n",
      "Recall: 0.09521832973601195\n",
      "F1: 0.03458999610897287\n"
     ]
    },
    {
     "name": "stderr",
     "output_type": "stream",
     "text": [
      "/usr/local/lib/python3.7/site-packages/sklearn/metrics/_classification.py:1248: UndefinedMetricWarning: Precision is ill-defined and being set to 0.0 in labels with no predicted samples. Use `zero_division` parameter to control this behavior.\n",
      "  _warn_prf(average, modifier, msg_start, len(result))\n",
      "/usr/local/lib/python3.7/site-packages/sklearn/metrics/_classification.py:1248: UndefinedMetricWarning: Recall is ill-defined and being set to 0.0 in labels with no true samples. Use `zero_division` parameter to control this behavior.\n",
      "  _warn_prf(average, modifier, msg_start, len(result))\n"
     ]
    }
   ],
   "source": [
    "plt.plot(neighbors, knnacc, label=\"Accuracy\")\n",
    "plt.plot(neighbors, knnprec, label=\"Precision\")\n",
    "plt.plot(neighbors, knnrec, label=\"Recall\")\n",
    "plt.legend([\"Accuracy\", \"Precision\", \"Recall\"])\n",
    "plt.ylabel('Score')\n",
    "plt.xlabel('Tree depth')\n",
    "plt.title('Test Scores')\n",
    "plt.show()\n",
    "\n",
    "plt.plot(neighbors, knnacctrain, label=\"Accuracy Train\")\n",
    "plt.plot(neighbors, knnacc, label=\"Accuracy Test\")\n",
    "plt.legend([\"Accuracy Train\", \"Accuracy Test\"])\n",
    "plt.ylabel('Score')\n",
    "plt.xlabel('Tree depth')\n",
    "plt.title('Test and Train Accuracy')\n",
    "plt.show()\n",
    "\n",
    "knn = KNeighborsClassifier(n_neighbors=neighbors[knnacc.index(max(knnacc))])\n",
    "knn.fit(x_train, y_train)\n",
    "knny_pred = knn.predict(x_test)\n",
    "print(\"Accuracy:\",metrics.accuracy_score(y_test, knny_pred))\n",
    "print(\"Precision:\",metrics.precision_score(y_test, knny_pred,average='weighted'))\n",
    "print(\"Recall:\",metrics.recall_score(y_test, knny_pred,average='weighted'))\n",
    "print(\"F1:\",metrics.f1_score(y_test, knny_pred,average='weighted'))"
   ]
  },
  {
   "cell_type": "code",
   "execution_count": 256,
   "id": "subtle-camcorder",
   "metadata": {},
   "outputs": [
    {
     "data": {
      "text/plain": [
       "0.10949692844097626"
      ]
     },
     "execution_count": 256,
     "metadata": {},
     "output_type": "execute_result"
    }
   ],
   "source": [
    "score = neigh.score(x_test, y_test)\n",
    "score"
   ]
  },
  {
   "cell_type": "markdown",
   "id": "furnished-emission",
   "metadata": {},
   "source": [
    "<h1 style = \"font-size: 25px; color: #235\">Decision Tree</h1>\n",
    "<h1 style = \"font-size: 15px; color: #235\">\n",
    "The goal of this algorithm is to create a model that predicts the value of a target variable, for which the decision tree uses the tree representation to solve the problem in which the leaf node corresponds to a class label and attributes are represented on the internal node of the tree.<br/>\n",
    "    \n",
    "In the following,I will explain the hyperparameters of this algorithm:<br/>\n",
    "max_depth :<br/>\n",
    "The maximum depth of the tree. If None, then nodes are expanded until all leaves are pure or until all leaves contain less than min_samples_split samples.<br/>\n",
    "min_samples_split : <br/>\n",
    "The minimum number of samples required to split an internal node:<br/>\n",
    "\n",
    "If int, then consider min_samples_split as the minimum number.<br/>\n",
    "\n",
    "If float, then min_samples_split is a fraction and ceil(min_samples_split * n_samples) are the minimum number of samples for each split.<br/>\n",
    "    \n",
    "</h1> \n"
   ]
  },
  {
   "cell_type": "code",
   "execution_count": 139,
   "id": "controversial-lighting",
   "metadata": {},
   "outputs": [],
   "source": [
    "max_depths = np.linspace(7, 11, 4, endpoint=True)\n",
    "dtacc = []\n",
    "dtacctrain = []\n",
    "dtprec = []\n",
    "dtrec = []\n",
    "for depth in max_depths:\n",
    "    dt = DecisionTreeClassifier(criterion=\"entropy\", max_depth=depth)\n",
    "    dt.fit(x_train, y_train)\n",
    "    y_pred = dt.predict(x_test)\n",
    "    train_pred = dt.predict(x_train)\n",
    "    dtacctrain.append(metrics.accuracy_score(y_train, train_pred))\n",
    "    dtacc.append(metrics.accuracy_score(y_test, y_pred))\n",
    "    dtprec.append(metrics.precision_score(y_test, y_pred,average='weighted'))\n",
    "    dtrec.append(metrics.recall_score(y_test, y_pred,average='weighted'))"
   ]
  },
  {
   "cell_type": "code",
   "execution_count": 154,
   "id": "oriented-hundred",
   "metadata": {},
   "outputs": [
    {
     "name": "stdout",
     "output_type": "stream",
     "text": [
      "Accuracy: 0.1408766395483978\n",
      "Precision: 0.06458287738392408\n",
      "Recall: 0.1408766395483978\n",
      "F1: 0.06159828992854343\n"
     ]
    },
    {
     "name": "stderr",
     "output_type": "stream",
     "text": [
      "/usr/local/lib/python3.7/site-packages/sklearn/metrics/_classification.py:1248: UndefinedMetricWarning: Precision is ill-defined and being set to 0.0 in labels with no predicted samples. Use `zero_division` parameter to control this behavior.\n",
      "  _warn_prf(average, modifier, msg_start, len(result))\n",
      "/usr/local/lib/python3.7/site-packages/sklearn/metrics/_classification.py:1248: UndefinedMetricWarning: Recall is ill-defined and being set to 0.0 in labels with no true samples. Use `zero_division` parameter to control this behavior.\n",
      "  _warn_prf(average, modifier, msg_start, len(result))\n"
     ]
    }
   ],
   "source": [
    "dt = DecisionTreeClassifier(criterion=\"entropy\", max_depth=max_depths[dtacc.index(max(dtacc))])\n",
    "dt = dt.fit(x_train,y_train)\n",
    "dty_pred = dt.predict(x_test)\n",
    "print(\"Accuracy:\",metrics.accuracy_score(y_test, dty_pred))\n",
    "print(\"Precision:\",metrics.precision_score(y_test, dty_pred,average='weighted'))\n",
    "print(\"Recall:\",metrics.recall_score(y_test, dty_pred,average='weighted'))\n",
    "print(\"F1:\",metrics.f1_score(y_test, dty_pred,average='weighted'))"
   ]
  },
  {
   "cell_type": "code",
   "execution_count": 155,
   "id": "wrapped-fourth",
   "metadata": {},
   "outputs": [
    {
     "data": {
      "image/png": "[encoded data removed]",
      "text/plain": [
       "<Figure size 432x288 with 1 Axes>"
      ]
     },
     "metadata": {
      "needs_background": "light"
     },
     "output_type": "display_data"
    }
   ],
   "source": [
    "plt.plot(max_depths, dtacc, label=\"Accuracy\")\n",
    "plt.ylabel('Score')\n",
    "plt.xlabel('Tree depth')\n",
    "plt.title('Test Scores')\n",
    "plt.show()"
   ]
  },
  {
   "cell_type": "code",
   "execution_count": 157,
   "id": "current-element",
   "metadata": {},
   "outputs": [
    {
     "data": {
      "image/png": "[encoded data removed]",
      "text/plain": [
       "<Figure size 432x288 with 1 Axes>"
      ]
     },
     "metadata": {
      "needs_background": "light"
     },
     "output_type": "display_data"
    }
   ],
   "source": [
    "plt.plot(max_depths, dtprec, label=\"Precision\")\n",
    "plt.ylabel('Score')\n",
    "plt.xlabel('Tree depth')\n",
    "plt.title('Test Scores')\n",
    "plt.show()"
   ]
  },
  {
   "cell_type": "code",
   "execution_count": 158,
   "id": "broadband-cookie",
   "metadata": {},
   "outputs": [
    {
     "data": {
      "image/png": "[encoded data removed]",
      "text/plain": [
       "<Figure size 432x288 with 1 Axes>"
      ]
     },
     "metadata": {
      "needs_background": "light"
     },
     "output_type": "display_data"
    }
   ],
   "source": [
    "plt.plot(max_depths, dtrec, label=\"Recall\")\n",
    "plt.ylabel('Score')\n",
    "plt.xlabel('Tree depth')\n",
    "plt.title('Test Scores')\n",
    "plt.show()"
   ]
  },
  {
   "cell_type": "code",
   "execution_count": 156,
   "id": "round-screw",
   "metadata": {},
   "outputs": [
    {
     "data": {
      "image/png": "[encoded data removed]",
      "text/plain": [
       "<Figure size 432x288 with 1 Axes>"
      ]
     },
     "metadata": {
      "needs_background": "light"
     },
     "output_type": "display_data"
    }
   ],
   "source": [
    "plt.plot(max_depths, dtacctrain, label=\"Accuracy Train\")\n",
    "plt.plot(max_depths, dtacc, label=\"Accuracy Test\")\n",
    "plt.legend([\"Accuracy Train\", \"Accuracy Test\"])\n",
    "plt.ylabel('Score')\n",
    "plt.xlabel('Tree depth')\n",
    "plt.title('Test and Train Accuracy')\n",
    "plt.show()"
   ]
  },
  {
   "cell_type": "markdown",
   "id": "complicated-interference",
   "metadata": {},
   "source": [
    "<h2 style = \"font-size: 25px; color: #235;text-align: center  ;\"> Question 6<br/> </h2>\n",
    "<h1 style = \"font-size: 15px; color: #235\">As you see ,the depth of the tree in the range of 9.5 to 10 is the most accurate.<br/>\n",
    "As you can see in 'test and train Accuracy' plot , as the depth of the tree increases, the amount of Accuracy of the training data increases and the amount of Accuracy of the test data decreases.\n",
    "This phenomenon is called overfitting.<h2/>"
   ]
  },
  {
   "cell_type": "markdown",
   "id": "senior-demographic",
   "metadata": {},
   "source": [
    "<h1 style = \"font-size: 25px; color: #235\">Linear Regression</h1>"
   ]
  },
  {
   "cell_type": "code",
   "execution_count": 189,
   "id": "occasional-twenty",
   "metadata": {},
   "outputs": [],
   "source": [
    "ratio_list = np.linspace(0.02, 0.8, 20)"
   ]
  },
  {
   "cell_type": "code",
   "execution_count": 192,
   "id": "professional-ferry",
   "metadata": {},
   "outputs": [],
   "source": [
    "RMSE_train =[]\n",
    "RMSE_test =[]\n",
    "for ratio in ratio_list :\n",
    "    x_train_reg, x_test_reg, y_train_reg, y_test_reg = train_test_split(data, Price, test_size=ratio)\n",
    "    reg = LinearRegression()\n",
    "    reg.fit(x_train_reg, y_train_reg)\n",
    "    y_predict_train_reg = reg.predict(x_train_reg)\n",
    "    y_predict_reg = reg.predict(x_test_reg)\n",
    "    Error_reg = mean_squared_error(y_test_reg,y_predict_reg)\n",
    "    Error_train_reg = mean_squared_error(y_train_reg,y_predict_train_reg)\n",
    "    rmse_reg = math.sqrt(Error_reg)\n",
    "    rmse_train_reg = math.sqrt(Error_train_reg)\n",
    "    RMSE_test.append(rmse_reg)\n",
    "    RMSE_train.append(rmse_train_reg)"
   ]
  },
  {
   "cell_type": "code",
   "execution_count": 193,
   "id": "regulation-avenue",
   "metadata": {},
   "outputs": [
    {
     "data": {
      "text/plain": [
       "[<matplotlib.lines.Line2D at 0x11ab31090>,\n",
       " <matplotlib.lines.Line2D at 0x11ab17ad0>]"
      ]
     },
     "execution_count": 193,
     "metadata": {},
     "output_type": "execute_result"
    },
    {
     "data": {
      "image/png": "[encoded data removed]",
      "text/plain": [
       "<Figure size 432x288 with 1 Axes>"
      ]
     },
     "metadata": {
      "needs_background": "light"
     },
     "output_type": "display_data"
    }
   ],
   "source": [
    "plt.plot(ratio_list,RMSE_test,'r-',ratio_list,RMSE_train,'b-')"
   ]
  },
  {
   "cell_type": "markdown",
   "id": "flying-raise",
   "metadata": {},
   "source": [
    "<h1 style = \"font-size: 15px; color: #235\">As you see above , the lower the ratio of test data to train data, the lower the rmse of test data but the much higher the rmse of the train data and the higher the ratio, the closer the two errors get.</h1>"
   ]
  },
  {
   "cell_type": "markdown",
   "id": "gross-parts",
   "metadata": {},
   "source": [
    "<h1 style = \"font-size: 50px;text-align: center; \">Phase 3 <h1/>\n",
    "<h1 style = \"font-size: 25px;text-align: center; color: #235\"> Ensemble methods<h1/>\n",
    "<h1 style = \"font-size: 15px; color: #235\">Random Forest are an awesome kind of Machine Learning models. They solve many of the problems of individual Decision trees, and are always a candidate to be the most accurate one of the models tried when building a certain application.\n",
    "<br/>\n",
    "    The most important hyper-parameters of a Random Forest that can be tuned are:<br/>\n",
    "    The Nº of Decision Trees in the forest <br/>\n",
    "    The criteria with which to split on each node<br/>\n",
    "    The Maximum Depth of the Individual Trees<br/>\n",
    "    The minimum samples to split on at an internal node <br/>\n",
    "    Maximum number of leaf nodes<br/>\n",
    "    Number of random features <br/>\n",
    "    The size of the bootstrapped dataset<br/>\n",
    "    \n",
    " I will examine two of these hyperparameters in detail : <h1/>   \n",
    " <h1 style = \"font-size: 20px;text-align: center; color: #235\">Nº of Trees in the forest <h1/>\n",
    " <h1 style = \"font-size: 15px; color: #235\">By building forests with a large number of trees (high number of estimators) we can create a more robust aggregate model with less variance, at the cost of a greater training time. Most times the secret here is to evaluate your data: how much data is available, and how many features does each observation have.\n",
    "Because of the randomness of Random Forest, if you have a lot of features and a small number of trees some features with high predictive power could get left out of the forest and not be used whatsoever, or be used very little.\n",
    "The same applies for the data: if you have a lot of observations and you are not using the whole dataset to train each tree, if you have a small number of trees, then some observations could be left out.\n",
    "As Random Forests rarely overfit, in practice you can use a large number of trees to avoid these problems, and get good results following the guideline that when all other hyper-parameters are fixed, increasing the number of trees generally reduces model error at the cost of a higher training time.\n",
    "\n",
    "<h1/>   \n",
    "    \n",
    " \n",
    " <h1 style = \"font-size: 20px;text-align: center; color: #235\">The Maximum Depth of the Individual Trees<h1/>\n",
    " <h1 style = \"font-size: 15px; color: #235\">Increasing the Depth of individual trees increases the possible number of feature/value combinations that are taken into account. The deeper the tree, the more splits it has and the more information about the data it takes into account.\n",
    "In an individual tree this causes overfitting, however in Random Forest, because of the way the ensemble is built, it is harder to overfit, although it is still possible for large depth values.\n",
    "This parameter should be set to a reasonable amount depending on the number of features of your tree: don’t build stumps (really shallow trees) nor insanely big trees; set this parameter to a reasonable amount and tune it a little bit if you want, but changes around a reasonable value do not impact the performance of your forest greatly, so you don’t have to include it in a procedure like Grid Search if you don’t want.\n",
    "<h1/>\n",
    "<h1 style = \"font-size: 20px;text-align: center; color: #235\">The Number of random features to consider at each split<h1/>\n",
    " <h1 style = \"font-size: 15px; color: #235\">This is one of the most important hyperparameters to tune in your Random Forest ensemble, so play close attention.<br/>\n",
    "The best value of this hyperparameter is hard to pick without experimentation, so the best way to obtain it is using a Grid Search with Cross Validation, taking into account the following:<br/>\n",
    "A small value (less features considered when splitting at each node) will reduce the variance of the ensemble, at the cost of higher individual tree (and probably aggregate) bias.<br/>\n",
    "This value should be set accordingly to how many informative or quality features you have, by taking into account noisy features that have many outliers. If your data set has very clean, polished, and quality features, then the value of the number of random features on each split on can be relatively small: all the considered features will be cool. If you have a lot of noisy data, then this value should probably be higher, to increase the chances of a quality feature being included in the contest.<br/>\n",
    "Increasing the maximum number of random features considered in a split tends to decrease the bias of the model, as there is a better chance that good features will be included, however this can come at the cost of increased variance. Also, there is a decrease in training speed when we include more features to test at each node.<br/>\n",
    "The most practical approach here is to cross-validate your posible options and keep the model that yields the best results, taking into account the previous considerations. You can try setting the the following values in the grid search space for the RandomForestClassifier of Scikit-learn.<br/>\n",
    "None : This will consider all the features of your data, taking some of the randomness out of random forests, and possibly increasing variance.<br/>\n",
    "sqrt : This option will take square root of the total number of features in individual each split. If we have 25 features in our data, then it will pick 5 random features at each node. This option is generally good for classification problems.<br/>\n",
    "0.2 (decimal value between 0 and 1): This option allows the random forest to take a % of variables in individual split. In this example we would be picking 20% of the features, which is a reasonable amount to consider if we have many features. Try 0.3, 0.4, and 0.5, and maybe even higher values if you have very noisy data. For regression problems 0.33% is a good starting point to search around.<br/>\n",
    "\n",
    "<h1/>"
   ]
  },
  {
   "cell_type": "code",
   "execution_count": null,
   "id": "literary-performance",
   "metadata": {},
   "outputs": [],
   "source": []
  },
  {
   "cell_type": "code",
   "execution_count": 194,
   "id": "applied-drink",
   "metadata": {},
   "outputs": [
    {
     "name": "stderr",
     "output_type": "stream",
     "text": [
      "/usr/local/lib/python3.7/site-packages/sklearn/metrics/_classification.py:1248: UndefinedMetricWarning: Precision is ill-defined and being set to 0.0 in labels with no predicted samples. Use `zero_division` parameter to control this behavior.\n",
      "  _warn_prf(average, modifier, msg_start, len(result))\n",
      "/usr/local/lib/python3.7/site-packages/sklearn/metrics/_classification.py:1248: UndefinedMetricWarning: Precision is ill-defined and being set to 0.0 in labels with no predicted samples. Use `zero_division` parameter to control this behavior.\n",
      "  _warn_prf(average, modifier, msg_start, len(result))\n",
      "/usr/local/lib/python3.7/site-packages/sklearn/metrics/_classification.py:1248: UndefinedMetricWarning: Precision is ill-defined and being set to 0.0 in labels with no predicted samples. Use `zero_division` parameter to control this behavior.\n",
      "  _warn_prf(average, modifier, msg_start, len(result))\n",
      "/usr/local/lib/python3.7/site-packages/sklearn/metrics/_classification.py:1248: UndefinedMetricWarning: Precision is ill-defined and being set to 0.0 in labels with no predicted samples. Use `zero_division` parameter to control this behavior.\n",
      "  _warn_prf(average, modifier, msg_start, len(result))\n"
     ]
    }
   ],
   "source": [
    "max_depths = np.linspace(8, 12, 4)\n",
    "rfacc = []\n",
    "rfacctrain = []\n",
    "rfprec = []\n",
    "rfrec = []\n",
    "for depth in max_depths:\n",
    "    rf = RandomForestClassifier(criterion=\"entropy\", max_depth=depth, max_samples=0.5, max_features=0.5, random_state=0)\n",
    "    rf.fit(x_train, y_train)\n",
    "    y_pred = rf.predict(x_test)\n",
    "    train_pred = rf.predict(x_train)\n",
    "    rfacctrain.append(metrics.accuracy_score(y_train, train_pred))\n",
    "    rfacc.append(metrics.accuracy_score(y_test, y_pred))\n",
    "    rfprec.append(metrics.precision_score(y_test, y_pred,average='weighted'))\n",
    "    rfrec.append(metrics.recall_score(y_test, y_pred,average='weighted'))\n"
   ]
  },
  {
   "cell_type": "code",
   "execution_count": 195,
   "id": "mounted-vertex",
   "metadata": {},
   "outputs": [
    {
     "data": {
      "text/plain": [
       "[0.13930513469760492,\n",
       " 0.13930513469760492,\n",
       " 0.1400107924121041,\n",
       " 0.13951268108422232]"
      ]
     },
     "execution_count": 195,
     "metadata": {},
     "output_type": "execute_result"
    }
   ],
   "source": [
    "rfrec"
   ]
  },
  {
   "cell_type": "code",
   "execution_count": 196,
   "id": "accredited-translation",
   "metadata": {},
   "outputs": [
    {
     "data": {
      "image/png": "[encoded data removed]",
      "text/plain": [
       "<Figure size 432x288 with 1 Axes>"
      ]
     },
     "metadata": {
      "needs_background": "light"
     },
     "output_type": "display_data"
    },
    {
     "data": {
      "image/png": "[encoded data removed]",
      "text/plain": [
       "<Figure size 432x288 with 1 Axes>"
      ]
     },
     "metadata": {
      "needs_background": "light"
     },
     "output_type": "display_data"
    }
   ],
   "source": [
    "plt.plot(max_depths, rfacc, label=\"Accuracy\")\n",
    "plt.plot(max_depths, rfprec, label=\"Precision\")\n",
    "plt.plot(max_depths, rfrec, label=\"Recall\")\n",
    "plt.legend([\"Accuracy\", \"Precision\", \"Recall\"])\n",
    "plt.ylabel('Score')\n",
    "plt.xlabel('Tree depth')\n",
    "plt.title('Test Scores')\n",
    "plt.show()\n",
    "\n",
    "plt.plot(max_depths, rfacctrain, label=\"Accuracy Train\")\n",
    "plt.plot(max_depths, rfacc, label=\"Accuracy Test\")\n",
    "plt.legend([\"Accuracy Train\", \"Accuracy Test\"])\n",
    "plt.ylabel('Score')\n",
    "plt.xlabel('Tree depth')\n",
    "plt.title('Test and Train Accuracy')\n",
    "plt.show()"
   ]
  },
  {
   "cell_type": "code",
   "execution_count": 197,
   "id": "bound-interface",
   "metadata": {},
   "outputs": [
    {
     "data": {
      "text/plain": [
       "32071691.28386721"
      ]
     },
     "execution_count": 197,
     "metadata": {},
     "output_type": "execute_result"
    }
   ],
   "source": [
    "Error_test = mean_squared_error(y_test,y_pred)\n",
    "rmse_test = math.sqrt(Error_test)\n",
    "rmse_test"
   ]
  },
  {
   "cell_type": "code",
   "execution_count": null,
   "id": "mediterranean-albany",
   "metadata": {},
   "outputs": [],
   "source": [
    "rf=RandomForestClassifier(criterion=\"entropy\",max_depth=max_depths[rfacc.index(max(rfacc))],max_samples=0.5,max_features=0.5,random_state=0)\n",
    "# dt = DecisionTreeClassifier(criterion=\"entropy\", max_depth=max_depths[dtacc.index(max(dtacc))])\n",
    "rf = rf.fit(x_train,y_train)\n",
    "y_pred = rf.predict(x_test)\n",
    "d = max_depths[rfacc.index(max(rfacc))]\n",
    "print(\"Accuracy:\",metrics.accuracy_score(y_test, y_pred))\n",
    "print(\"Precision:\",metrics.precision_score(y_test, y_pred,average='weighted'))\n",
    "print(\"Recall:\",metrics.recall_score(y_test, y_pred,average='weighted'))\n",
    "print(\"F1:\",metrics.f1_score(y_test, y_pred,average='weighted'))"
   ]
  },
  {
   "cell_type": "code",
   "execution_count": null,
   "id": "independent-finish",
   "metadata": {},
   "outputs": [],
   "source": [
    "samples = np.arange(0.1, 1.0, 0.1)\n",
    "rfacc = []\n",
    "rfacctrain = []\n",
    "rfprec = []\n",
    "rfrec = []\n",
    "for s in samples:\n",
    "    rf = RandomForestClassifier(criterion=\"entropy\", max_depth=d, max_samples=s, max_features=0.5, random_state=0)\n",
    "    rf.fit(x_train, y_train)\n",
    "    y_pred = rf.predict(x_test)\n",
    "    train_pred = rf.predict(x_train)\n",
    "    rfacctrain.append(metrics.accuracy_score(y_train, train_pred))\n",
    "    rfacc.append(metrics.accuracy_score(y_test, y_pred))\n",
    "    rfprec.append(metrics.precision_score(y_test, y_pred))\n",
    "    rfrec.append(metrics.recall_score(y_test, y_pred))\n"
   ]
  },
  {
   "cell_type": "code",
   "execution_count": null,
   "id": "genetic-database",
   "metadata": {},
   "outputs": [],
   "source": [
    "plt.plot(samples, rfacc, label=\"Accuracy\")\n",
    "plt.plot(samples, rfprec, label=\"Precision\")\n",
    "plt.plot(samples, rfrec, label=\"Recall\")\n",
    "plt.legend([\"Accuracy\", \"Precision\", \"Recall\"])\n",
    "plt.ylabel('Score')\n",
    "plt.xlabel('Tree depth')\n",
    "plt.title('Test Scores')\n",
    "plt.show()\n",
    "\n",
    "plt.plot(samples, rfacctrain, label=\"Accuracy Train\")\n",
    "plt.plot(samples, rfacc, label=\"Accuracy Test\")\n",
    "plt.legend([\"Accuracy Train\", \"Accuracy Test\"])\n",
    "plt.ylabel('Score')\n",
    "plt.xlabel('Tree depth')\n",
    "plt.title('Test and Train Accuracy')\n",
    "plt.show()\n",
    "rf=RandomForestClassifier(criterion=\"entropy\",max_depth=d,max_samples=samples[rfacc.index(max(rfacc))],max_features=0.5,random_state=0)\n",
    "# dt = DecisionTreeClassifier(criterion=\"entropy\", max_depth=max_depths[dtacc.index(max(dtacc))])\n",
    "rf = rf.fit(x_train,y_train)\n",
    "y_pred = rf.predict(x_test)\n",
    "print(\"Accuracy:\",metrics.accuracy_score(y_test, y_pred))\n",
    "print(\"Precision:\",metrics.precision_score(y_test, y_pred,average='weighted'))\n",
    "print(\"Recall:\",metrics.recall_score(y_test, y_pred,average='weighted'))\n",
    "print(\"F1:\",metrics.f1_score(y_test, y_pred,average='weighted'))"
   ]
  },
  {
   "cell_type": "markdown",
   "id": "electronic-banana",
   "metadata": {},
   "source": [
    "<h2 style = \"font-size: 25px; color: #235;text-align: center  ;\"> Question 7<br/> </h2>\n",
    "<h2 style = \"font-size: 15px; color: #235;\"> bias:<br/>\n",
    "Bias is the difference between the average prediction of our model and the correct value which we are trying to predict. Model with high bias pays very little attention to the training data and oversimplifies the model. It always leads to high error on training and test data.<br/> </h2>\n",
    "<h2 style = \"font-size: 15px; color: #235;\"> variance:<br/>\n",
    "Variance is the variability of model prediction for a given data point or a value which tells us spread of our data. Model with high variance pays a lot of attention to training data and does not generalize on the data which it hasn’t seen before. As a result, such models perform very well on training data but has high error rates on test data.<br/> </h2>\n",
    "<h2 style = \"font-size: 15px; color: #235;\"> \n",
    "underfitting happens when a model unable to capture the underlying pattern of the data. These models usually have high bias and low variance. It happens when we have very less amount of data to build an accurate model or when we try to build a linear model with a nonlinear data. Also, these kind of models are very simple to capture the complex patterns in data like Linear and logistic regression.\n",
    "<br/> </h2>\n",
    "<h2 style = \"font-size: 15px; color: #235;\"> \n",
    " overfitting happens when our model captures the noise along with the underlying pattern in data. It happens when we train our model a lot over noisy dataset. These models have low bias and high variance. These models are very complex like Decision trees which are prone to overfitting.\n",
    "<br/> To build a good model, we need to find a good balance between bias and variance such that it minimizes the total error.<br/>An optimal balance of bias and variance would never overfit or underfit the model.\n",
    "Therefore understanding bias and variance is critical for understanding the behavior of prediction models.\n",
    "    <br/><br/><br/> Random Forest combines trees and works as an ensemble model. Here, n different trees are formed using sampling technique with replacement where the samples are drawn from main data set and these n trees work in parallel to give you the prediction. The prediction from each tree is taken and the output of Random Forest is the average of n trees prediction.\n",
    "\n",
    "Random forest helps in reducing the variance by averaging out several trees prediction which in turn reduces overfitting.<br/>\n",
    "   Decision trees are much easier to interpret and understand. Since a random forest combines multiple decision trees, it becomes more difficult to interpret. Infact, it’s not impossible to interpret a random forest. \n",
    "\n",
    "\n",
    "Also, Random Forest has a higher training time than a single decision tree. we should take this into consideration because as we increase the number of trees in a random forest, the time taken to train each of them also increases. \n",
    "    <br/>\n",
    "I think , despite instability and dependency on a particular set of features, decision trees are really helpful because they are easier to interpret and faster to train. Anyone with very little knowledge of data science can also use decision trees to make quick data-driven decisions.\n",
    "\n",
    "\n",
    "<h2/>"
   ]
  }
 ],
 "metadata": {
  "kernelspec": {
   "display_name": "Python 3",
   "language": "python",
   "name": "python3"
  },
  "language_info": {
   "codemirror_mode": {
    "name": "ipython",
    "version": 3
   },
   "file_extension": ".py",
   "mimetype": "text/x-python",
   "name": "python",
   "nbconvert_exporter": "python",
   "pygments_lexer": "ipython3",
   "version": "3.7.7"
  }
 },
 "nbformat": 4,
 "nbformat_minor": 5
}
