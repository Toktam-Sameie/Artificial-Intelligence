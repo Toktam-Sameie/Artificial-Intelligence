{
 "cells": [
  {
   "cell_type": "markdown",
   "metadata": {},
   "source": [
    "<h1 style = \"font-size: 30px; text-align: center;\">AI Genetic Algorithm</h1>\n",
    "<h2 style = \"font-size: 25px; text-align: center;\">Hospital Job Scheduling</h2>\n",
    "<h2 style = \"font-size: 25px; text-align: center; color: #666\">Name: Toktam Sameie</h2>\n",
    "<h2 style = \"font-size: 25px; text-align: center; color: #666\">Student Id: 810896054</h2>\n",
    "<h4 style=\"text-align: center\">Spring 1400</h4>"
   ]
  },
  {
   "cell_type": "markdown",
   "metadata": {},
   "source": [
    "<h2 style = \"font-size: 25px;\">Notes</h2>\n",
    "\n",
    "<h3>Tests: </h3>\n",
    "\n",
    "<p style=\"text-indent :2em;\"><b>Test1: </b><mark>Average time < 15s</mark></p>\n",
    "<p style=\"text-indent :2em;\"><b>Test2: </b><mark>Average time < 60s</mark></p>\n",
    "    \n",
    "\n",
    "<h3>Outputs: </h3>\n",
    "<p style=\"text-indent :2em;\">Respectively <mark>output1.txt</mark> and <mark>output2.txt</mark></p>\n",
    "\n",
    "<br>"
   ]
  },
  {
   "cell_type": "markdown",
   "metadata": {},
   "source": [
    "In this project, we are going to solve the schedule problem with the help of genetic algorithm."
   ]
  },
  {
   "cell_type": "markdown",
   "metadata": {},
   "source": [
    "<h2 style = \"font-size: 25px;\">Test Files</h2>"
   ]
  },
  {
   "cell_type": "code",
   "execution_count": 1,
   "metadata": {},
   "outputs": [],
   "source": [
    "testFile1 = \"test1.txt\"\n",
    "testFile2 = \"test2.txt\""
   ]
  },
  {
   "cell_type": "code",
   "execution_count": 2,
   "metadata": {},
   "outputs": [],
   "source": [
    "import random\n",
    "import collections\n",
    "import decimal\n",
    "import copy\n",
    "from IPython.display import HTML, display\n",
    "import csv"
   ]
  },
  {
   "cell_type": "markdown",
   "metadata": {},
   "source": [
    "<h2 style = \"font-size: 25px;\">Reading Test File Content</h2>"
   ]
  },
  {
   "cell_type": "markdown",
   "metadata": {},
   "source": [
    "In this section, we extract the data from the input file and convert it to the required format"
   ]
  },
  {
   "cell_type": "code",
   "execution_count": 3,
   "metadata": {},
   "outputs": [],
   "source": [
    "def readInput(testFile) :\n",
    "    file = open(testFile, 'r+')\n",
    "    fileList = file.readlines()\n",
    "    fileList = [s.replace('\\n', '') for s in fileList]\n",
    "    \n",
    "    [days, doctors] = [int(i) for i in fileList[0].split()]\n",
    "    maxCapacity = int(fileList[1])\n",
    "    \n",
    "    allShifts = []\n",
    "    for i in range(2, days + 2):\n",
    "        dayRequirements = fileList[i].split()\n",
    "        morningReqs = [int(i) for i in dayRequirements[0].split(\",\")]\n",
    "        eveningReqs = [int(i) for i in dayRequirements[1].split(\",\")]\n",
    "        nightReqs = [int(i) for i in dayRequirements[2].split(\",\")]\n",
    "        \n",
    "        allShifts.append((morningReqs, eveningReqs, nightReqs))\n",
    "\n",
    "    file.close()\n",
    "    return [days, list(range(doctors)), maxCapacity, allShifts]"
   ]
  },
  {
   "cell_type": "markdown",
   "metadata": {},
   "source": [
    "<h2 style = \"font-size: 25px;\">Job Scheduler</h2>"
   ]
  },
  {
   "cell_type": "markdown",
   "metadata": {},
   "source": [
    "We use this function  to display the schedule in required format."
   ]
  },
  {
   "cell_type": "code",
   "execution_count": 4,
   "metadata": {},
   "outputs": [],
   "source": [
    "def output(listt):\n",
    "    for i in range(len(listt)):\n",
    "            print(*listt[i][0],sep=\",\",end=\" \")\n",
    "            print(*listt[i][1],sep=\",\",end=\" \")\n",
    "            print(*listt[i][2],sep=\",\")\n",
    "           \n",
    "  "
   ]
  },
  {
   "cell_type": "markdown",
   "metadata": {},
   "source": []
  },
  {
   "cell_type": "code",
   "execution_count": 5,
   "metadata": {},
   "outputs": [],
   "source": [
    "def write_to_file(listt,name_of_file):\n",
    "    with open(name_of_file, 'w') as f:\n",
    "        for i in range(len(listt)):\n",
    "                print(*listt[i][0],sep=\",\",end=\" \", file=f)\n",
    "                print(*listt[i][1],sep=\",\",end=\" \", file=f)\n",
    "                print(*listt[i][2],sep=\",\", file=f)"
   ]
  },
  {
   "cell_type": "markdown",
   "metadata": {},
   "source": [
    "The JobScheduler class has some attribute based on which we design different methods.<br/>\n",
    "In \"generateInitialPopulation\" method ,  initialize the \"self.chromosomes\" and then we use this attribute in other methods.<br/>\n",
    "The \"crossOver\" method , take two chromosomes and based on a self.pc probability, performs night shift shifts between two chromosomes.<br/>\n",
    "The \"mutate\" method , take one argument and based on a self.pm probability , changes the number of doctors in every shift based on the limit on the number of doctors per shift.<br/>\n",
    "Then in \"calculateFitness\", we calculate the fitness of each chromosome based on the limits on shifts in this problem .<br/>\n",
    "The \"generateNewPopulation\" method , generate new generation in this way, it first passes 16 chromosomes directly from the sorted chromosomes by fitness value to the next generation , and then randomly assigns the chromosomes to the crossOver function . in the next step, the generation generated in the previous step , is randomly given to the mutate function ... <br/>\n",
    "In this way, a new generation is produced .<br/>\n",
    "Then, in the \"schedule\" function, we continue to generate the generation until we reach the goal, which is the fitness = 1 .<br/>\n",
    "At the end of each while loop, we sort the generated generation in reverse and check the value at the beginning of the list for the goal condition.\n"
   ]
  },
  {
   "cell_type": "code",
   "execution_count": 6,
   "metadata": {},
   "outputs": [],
   "source": [
    "class JobScheduler:\n",
    "    def __init__(self, fileInfo):\n",
    "        self.days = fileInfo[0]\n",
    "        self.doctors = len(fileInfo[1])\n",
    "        self.doctorsIds = fileInfo[1]\n",
    "        self.maxCapacity = fileInfo[2]\n",
    "        self.allShifts = fileInfo[3]\n",
    "        self.chromosomes = self.generateInitialPopulation()\n",
    "        self.popSize = 300\n",
    "        self.elitismPercentage = 16 \n",
    "        self.pc = 0.15\n",
    "        self.pm = 0.8  \n",
    "\n",
    "    def generateInitialPopulation(self):\n",
    "        chromosomes = []        \n",
    "        counter =0 \n",
    "        while counter < 300 :\n",
    "            chromosome = []\n",
    "            for i in range(self.days):  \n",
    "                row = []\n",
    "                for j in range(3):\n",
    "                    numberOfDoctorsInEveryShift  = random.randint(self.allShifts[i][j][0],self.allShifts[i][j][1])\n",
    "                    row.append(random.sample(range(1, self.doctors), numberOfDoctorsInEveryShift))\n",
    "                chromosome.append(row)\n",
    "                del row\n",
    "            counter +=1\n",
    "            fit = self.calculateFitness(chromosome)\n",
    "            chromosomes.append((chromosome ,fit ))\n",
    "            del chromosome\n",
    "        return chromosomes\n",
    "    \n",
    "    def crossOver(self, chromosome1, chromosome2):\n",
    "        new_chrom = [[0]*3]*self.days\n",
    "        for i in range(self.days):\n",
    "            new_chrom[i] = chromosome1[i]\n",
    "            if float(decimal.Decimal(random.randrange(0, 1000))/1000) > self.pc :     \n",
    "                new_chrom[i][2] = chromosome2[i][2]\n",
    "            else :\n",
    "                continue               \n",
    "        return new_chrom\n",
    "        \n",
    "                \n",
    "    def mutate(self, chromosome):\n",
    "        new_chrom = copy.deepcopy(chromosome)\n",
    "        for i in range(self.days):\n",
    "            for j in range(3):\n",
    "                if float(decimal.Decimal(random.randrange(0, 1000))/1000) > self.pm :\n",
    "                    if len(chromosome[i][j]) < self.allShifts[i][j][1] :\n",
    "                        rand = random.randint(0,self.doctors)\n",
    "                        if rand not in chromosome[i][0] :\n",
    "                            new_chrom[i][j].append(rand)\n",
    "                            continue\n",
    "                            \n",
    "                    if len(chromosome[i][j]) > self.allShifts[i][j][0] :\n",
    "                        rand = random.randint(0,len(chromosome[i][j])-1)\n",
    "                        new_chrom[i][j].remove(chromosome[i][j][rand])\n",
    "                        continue\n",
    "                    else :\n",
    "                        continue\n",
    "                else:\n",
    "                    continue\n",
    "                    \n",
    "        return new_chrom\n",
    "        \n",
    "        \n",
    "    def calculateFitness(self, chromosome):\n",
    "        conflicts = 0 \n",
    "        all_shifts = []\n",
    "        for i in range(self.days):            \n",
    "            if i < self.days -1 :\n",
    "                morn = list(set(chromosome[i][2]).intersection(chromosome[i+1][0]))\n",
    "                noon = list(set(chromosome[i][2]).intersection(chromosome[i+1][1]))\n",
    "                conflicts +=len(morn)               \n",
    "                conflicts +=len(noon) \n",
    "            if i < self.days - 3 :\n",
    "                night = list(set(chromosome[i][2]).intersection(chromosome[i+1][2] , chromosome[i+2][2]))\n",
    "                conflicts +=len (night)  \n",
    "            all_shifts +=  chromosome[i][0]+ chromosome[i][1] +chromosome[i][2]\n",
    "        frequency = collections.Counter(all_shifts)\n",
    "        val_list = list(frequency.values())\n",
    "        for k in range(len(val_list)):\n",
    "            if val_list[k] >9:\n",
    "                  conflicts += val_list[k] - 9\n",
    "        \n",
    "        return 1/(conflicts +1)\n",
    "    \n",
    "    \n",
    "    def generateNewPopulation(self,chromosomes):\n",
    "        new_generation = []        \n",
    "        new_generation = chromosomes[0:self.elitismPercentage]\n",
    "        while len(new_generation) <= 300 :\n",
    "            rand_element = random.sample(range(0, len(new_generation)-1), 2)\n",
    "            elem1 = copy.deepcopy(chromosomes[rand_element[0]][0])\n",
    "            elem2 = copy.deepcopy(chromosomes[rand_element[1]][0])\n",
    "            chrom = self.crossOver(elem1,elem2) \n",
    "            fit = self.calculateFitness(chrom)\n",
    "            FIT = copy.deepcopy(fit)\n",
    "            if len(new_generation) < 300:\n",
    "                new_generation.append((chrom , FIT))\n",
    "            else :\n",
    "                break\n",
    "                 \n",
    "        new_generation2 =[]  \n",
    "        while len(new_generation2) <= 300:\n",
    "            rand_elem = random.randint(0, len(new_generation)-1)\n",
    "            elem = copy.deepcopy(new_generation[rand_elem][0])\n",
    "            chrom = self.mutate(elem)\n",
    "            fit = self.calculateFitness(chrom)\n",
    "            FIT = copy.deepcopy(fit)\n",
    "            new_generation2.append((chrom , FIT))\n",
    "        self.chromosomes = new_generation2\n",
    "        del new_generation\n",
    "        answer = copy.deepcopy(new_generation2)\n",
    "        del new_generation2\n",
    "        return answer\n",
    "    \n",
    "    \n",
    "    def schedule(self):\n",
    "        start_chrom = copy.deepcopy(self.chromosomes)\n",
    "        while True :\n",
    "            new_generation = self.generateNewPopulation(start_chrom)\n",
    "            del start_chrom\n",
    "            new_generation.sort(key=lambda x:x[1], reverse=True)\n",
    "            if new_generation[0][1] == 1:\n",
    "                output(new_generation[0][0])\n",
    "                return new_generation[0][0]\n",
    "            else:\n",
    "                start_chrom = copy.deepcopy(new_generation)\n",
    "                del new_generation\n",
    "                continue\n",
    "        return\n"
   ]
  },
  {
   "cell_type": "markdown",
   "metadata": {},
   "source": [
    "<h2 style = \"font-size: 25px;\">Execution</h2>"
   ]
  },
  {
   "cell_type": "code",
   "execution_count": 7,
   "metadata": {},
   "outputs": [
    {
     "name": "stdout",
     "output_type": "stream",
     "text": [
      "6,5,1 1 4,6\n",
      "3 3,2 4\n",
      "3 1,6,0 5\n",
      "6 4,3 5,4,2\n",
      "6  2\n",
      "3 0 1,6\n",
      "4,5 2 3\n",
      "0 4 4,6\n",
      "5  \n",
      "3 6 2,3,3\n",
      "test 1:  1.69 sec\n"
     ]
    }
   ],
   "source": [
    "import time\n",
    "\n",
    "fileInfo1 = readInput(testFile1)\n",
    "\n",
    "start = time.time()\n",
    "\n",
    "scheduler = JobScheduler(fileInfo1)\n",
    "scheduler.generateInitialPopulation()\n",
    "ans = scheduler.schedule()\n",
    "write_to_file(ans,'output1.txt')\n",
    "end = time.time()\n",
    "\n",
    "print(\"test 1: \", '%.2f'%(end - start), 'sec')"
   ]
  },
  {
   "cell_type": "code",
   "execution_count": 9,
   "metadata": {},
   "outputs": [
    {
     "name": "stdout",
     "output_type": "stream",
     "text": [
      "6,4 5 8\n",
      "0,2 7 9\n",
      "5 8 8,6\n",
      " 4,9,3,1 2,8\n",
      "6 5,1 6\n",
      "1,2 3,3 1,4\n",
      "7 5,2 1,3\n",
      "0 5,2,0,4,8 2,0,0\n",
      "3 5,6,9,5 7,7\n",
      "9,1 0 0,0,5\n",
      "1,2 9,6,9 \n",
      "2,4 7 \n",
      "9,8 3,8,4 7,6\n",
      "3 1,4 2,7,3\n",
      " 6,8,8 7\n",
      "Test 2:  15.04 sec\n"
     ]
    }
   ],
   "source": [
    "fileInfo2 = readInput(testFile2)\n",
    "\n",
    "start = time.time()\n",
    "\n",
    "scheduler = JobScheduler(fileInfo2)\n",
    "scheduler.generateInitialPopulation()\n",
    "ANS = scheduler.schedule()\n",
    "write_to_file(ANS,'output2.txt')\n",
    "end = time.time()\n",
    "\n",
    "print(\"Test 2: \", '%.2f'%(end - start), 'sec')"
   ]
  },
  {
   "cell_type": "code",
   "execution_count": null,
   "metadata": {},
   "outputs": [],
   "source": []
  }
 ],
 "metadata": {
  "kernelspec": {
   "display_name": "Python 3",
   "language": "python",
   "name": "python3"
  },
  "language_info": {
   "codemirror_mode": {
    "name": "ipython",
    "version": 3
   },
   "file_extension": ".py",
   "mimetype": "text/x-python",
   "name": "python",
   "nbconvert_exporter": "python",
   "pygments_lexer": "ipython3",
   "version": "3.7.7"
  }
 },
 "nbformat": 4,
 "nbformat_minor": 4
}
